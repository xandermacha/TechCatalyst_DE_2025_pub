{
 "cells": [
  {
   "cell_type": "code",
   "execution_count": null,
   "id": "d33632ec",
   "metadata": {},
   "outputs": [],
   "source": [
    "from ollama import chat\n",
    "\n",
    "model = 'smollm2:135m'\n",
    "\n",
    "# Function to generate an email\n",
    "def generate_email(subject, recipient_name, additional_info, input_tone):\n",
    "    # Step 1: Create the prompt to guide the AI in generating the email\n",
    "    prompt = f\"Write a professional email to {recipient_name} with the subject '{subject}'. Include the following information: {additional_info}\"\n",
    "    \n",
    "    # Step 2: Call the OpenAI API to generate the email\n",
    "    # Hint: Use the 'chat' endpoint to create a completion based on the prompt\n",
    "    response = chat(\n",
    "        model=model, \n",
    "        messages=[\n",
    "            {\"role\": \"system\", \"content\": \"You are a helpful assistant.\"},\n",
    "            {\"role\": \"user\", \"content\": prompt},\n",
    "        ],\n",
    "    )\n",
    "    \n",
    "    # Step 3: Extract and return the generated email content from the API response\n",
    "    return response.get('message').get('content')"
   ]
  },
  {
   "cell_type": "code",
   "execution_count": 18,
   "id": "6a50894b",
   "metadata": {},
   "outputs": [
    {
     "name": "stdout",
     "output_type": "stream",
     "text": [
      "Subject: Wish me luck for my friend's weekend!\n",
      "\n",
      "Date: Monday, January 14th at 2 PM\n",
      "\n",
      "From: My friends mother\n",
      "\n",
      "To: My friend's Mother's Email\n",
      "\n",
      "Message:\n",
      "Dear [My friend's Name],\n",
      "\n",
      "I hope this message finds you well. I am writing to wish me luck for my friend's weekend and would like to schedule a few minutes of our time together so we can enjoy a nice outdoor activity. \n",
      "\n",
      "We are quite busy on the weekends, but since we both love the outdoors and have great plans, it will be a lovely opportunity for us to grab lunch or some relaxation after work. Would you be available for a short break? I would appreciate any recommendations on which activities or events that might bring us some much-needed sunshine.\n",
      "\n",
      "Looking forward to your thoughts!\n",
      "\n",
      "Best regards,\n",
      "[My friend's Name]\n"
     ]
    }
   ],
   "source": [
    "print(generate_email(\"Wanna go out\", \"My friends mom\", \"I am free this weekend\"))  # Example usage"
   ]
  },
  {
   "cell_type": "code",
   "execution_count": null,
   "id": "1285e61b",
   "metadata": {},
   "outputs": [],
   "source": []
  }
 ],
 "metadata": {
  "kernelspec": {
   "display_name": "dev",
   "language": "python",
   "name": "python3"
  },
  "language_info": {
   "codemirror_mode": {
    "name": "ipython",
    "version": 3
   },
   "file_extension": ".py",
   "mimetype": "text/x-python",
   "name": "python",
   "nbconvert_exporter": "python",
   "pygments_lexer": "ipython3",
   "version": "3.13.5"
  }
 },
 "nbformat": 4,
 "nbformat_minor": 5
}
