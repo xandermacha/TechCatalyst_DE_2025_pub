{
 "cells": [
  {
   "cell_type": "markdown",
   "id": "05e20b5e",
   "metadata": {},
   "source": [
    "# Using the Bedrock API\n",
    "* You will notice similarities with the Ollama and OpenAI API.\n",
    "* Pretty much a standard across many LLM APIs like Gemini, Anthropic, Cohere, OpenAI, and HugginFace"
   ]
  },
  {
   "cell_type": "code",
   "execution_count": 2,
   "id": "6989303b",
   "metadata": {},
   "outputs": [
    {
     "data": {
      "text/plain": [
       "True"
      ]
     },
     "execution_count": 2,
     "metadata": {},
     "output_type": "execute_result"
    }
   ],
   "source": [
    "from dotenv import load_dotenv\n",
    "load_dotenv()"
   ]
  },
  {
   "cell_type": "code",
   "execution_count": 7,
   "id": "0ab86d2b",
   "metadata": {},
   "outputs": [],
   "source": [
    "import boto3\n",
    "import os\n",
    "\n",
    "\n",
    "# Create the Bedrock client\n",
    "client = boto3.client(\n",
    "    service_name=\"bedrock-runtime\",\n",
    "    region_name=\"us-east-2\"\n",
    ")\n",
    "\n",
    "# Define the model and message\n",
    "model_id = \"us.amazon.nova-lite-v1:0\"\n",
    "messages = [{\"role\": \"user\", \"content\": [{\"text\": \"Hello! Can you tell me about Amazon Bedrock?\"}]}]\n",
    "\n",
    "# Make the API call\n",
    "response = client.converse(\n",
    "    modelId=model_id,\n",
    "    messages=messages,\n",
    ")\n"
   ]
  },
  {
   "cell_type": "code",
   "execution_count": 8,
   "id": "7d634a83",
   "metadata": {},
   "outputs": [
    {
     "name": "stdout",
     "output_type": "stream",
     "text": [
      "Hello! Amazon Bedrock is a service provided by Amazon Web Services (AWS) that simplifies the process of building, evaluating, and scaling foundation models (FMs). Foundation models are large, general-purpose models that can be fine-tuned for specific tasks. Here are some key features and aspects of Amazon Bedrock:\n",
      "\n",
      "### Key Features:\n",
      "\n",
      "1. **Model Hosting and Management**:\n",
      "   - **Ease of Deployment**: Bedrock allows you to deploy foundation models with minimal setup and configuration.\n",
      "   - **Scalability**: Automatically scales to handle varying workloads, ensuring performance remains consistent even under high demand.\n",
      "\n",
      "2. **Model Customization**:\n",
      "   - **Fine-Tuning**: Allows you to fine-tune foundation models on your own data to better suit your specific use cases.\n",
      "   - **Integration with AWS Services**: Seamlessly integrates with other AWS services like Amazon SageMaker for advanced machine learning workflows.\n",
      "\n",
      "3. **Security and Compliance**:\n",
      "   - **Data Protection**: Ensures data privacy and compliance with industry standards and regulations.\n",
      "   - **Access Control**: Provides robust access control mechanisms to manage who can access and use the models.\n",
      "\n",
      "4. **Model Evaluation**:\n",
      "   - **Performance Metrics**: Offers tools to evaluate the performance of your models, including accuracy, latency, and other relevant metrics.\n",
      "   - **A/B Testing**: Supports A/B testing to compare different versions of your models.\n",
      "\n",
      "5. **Cost Management**:\n",
      "   - **Pay-As-You-Go**: You only pay for what you use, with no upfront costs or long-term commitments.\n",
      "   - **Cost Optimization**: Provides tools and recommendations to help you optimize your costs.\n",
      "\n",
      "### Use Cases:\n",
      "\n",
      "- **Natural Language Processing (NLP)**: Tasks like text generation, sentiment analysis, and translation.\n",
      "- **Computer Vision**: Image classification, object detection, and more.\n",
      "- **Recommendation Systems**: Personalized recommendations for products, content, etc.\n",
      "- **Custom Solutions**: Tailored models for specific business needs, such as fraud detection or predictive maintenance.\n",
      "\n",
      "### Getting Started:\n",
      "\n",
      "1. **Sign Up**: Create an AWS account if you don't already have one.\n",
      "2. **Access Bedrock**: Navigate to the Amazon Bedrock service in the AWS Management Console.\n",
      "3. **Choose a Model**: Select a pre-built foundation model or upload your own.\n",
      "4. **Deploy and Fine-Tune**: Deploy the model and fine-tune it with your data.\n",
      "5. **Monitor and Optimize**: Use the provided tools to monitor performance and optimize costs.\n",
      "\n",
      "Amazon Bedrock aims to make it easier for developers and data scientists to leverage the power of foundation models without needing deep expertise in machine learning infrastructure.\n"
     ]
    }
   ],
   "source": [
    "\n",
    "# Print the response\n",
    "print(response['output']['message']['content'][0]['text'])"
   ]
  },
  {
   "cell_type": "code",
   "execution_count": 9,
   "id": "3a6b5b9e",
   "metadata": {},
   "outputs": [
    {
     "data": {
      "text/markdown": [
       "Hello! Amazon Bedrock is a service provided by Amazon Web Services (AWS) that simplifies the process of building, evaluating, and scaling foundation models (FMs). Foundation models are large, general-purpose models that can be fine-tuned for specific tasks. Here are some key features and aspects of Amazon Bedrock:\n",
       "\n",
       "### Key Features:\n",
       "\n",
       "1. **Model Hosting and Management**:\n",
       "   - **Ease of Deployment**: Bedrock allows you to deploy foundation models with minimal setup and configuration.\n",
       "   - **Scalability**: Automatically scales to handle varying workloads, ensuring performance remains consistent even under high demand.\n",
       "\n",
       "2. **Model Customization**:\n",
       "   - **Fine-Tuning**: Allows you to fine-tune foundation models on your own data to better suit your specific use cases.\n",
       "   - **Integration with AWS Services**: Seamlessly integrates with other AWS services like Amazon SageMaker for advanced machine learning workflows.\n",
       "\n",
       "3. **Security and Compliance**:\n",
       "   - **Data Protection**: Ensures data privacy and compliance with industry standards and regulations.\n",
       "   - **Access Control**: Provides robust access control mechanisms to manage who can access and use the models.\n",
       "\n",
       "4. **Model Evaluation**:\n",
       "   - **Performance Metrics**: Offers tools to evaluate the performance of your models, including accuracy, latency, and other relevant metrics.\n",
       "   - **A/B Testing**: Supports A/B testing to compare different versions of your models.\n",
       "\n",
       "5. **Cost Management**:\n",
       "   - **Pay-As-You-Go**: You only pay for what you use, with no upfront costs or long-term commitments.\n",
       "   - **Cost Optimization**: Provides tools and recommendations to help you optimize your costs.\n",
       "\n",
       "### Use Cases:\n",
       "\n",
       "- **Natural Language Processing (NLP)**: Tasks like text generation, sentiment analysis, and translation.\n",
       "- **Computer Vision**: Image classification, object detection, and more.\n",
       "- **Recommendation Systems**: Personalized recommendations for products, content, etc.\n",
       "- **Custom Solutions**: Tailored models for specific business needs, such as fraud detection or predictive maintenance.\n",
       "\n",
       "### Getting Started:\n",
       "\n",
       "1. **Sign Up**: Create an AWS account if you don't already have one.\n",
       "2. **Access Bedrock**: Navigate to the Amazon Bedrock service in the AWS Management Console.\n",
       "3. **Choose a Model**: Select a pre-built foundation model or upload your own.\n",
       "4. **Deploy and Fine-Tune**: Deploy the model and fine-tune it with your data.\n",
       "5. **Monitor and Optimize**: Use the provided tools to monitor performance and optimize costs.\n",
       "\n",
       "Amazon Bedrock aims to make it easier for developers and data scientists to leverage the power of foundation models without needing deep expertise in machine learning infrastructure."
      ],
      "text/plain": [
       "<IPython.core.display.Markdown object>"
      ]
     },
     "execution_count": 9,
     "metadata": {},
     "output_type": "execute_result"
    }
   ],
   "source": [
    "from IPython.display import display, Markdown\n",
    "\n",
    "Markdown(response['output']['message']['content'][0]['text'])"
   ]
  },
  {
   "cell_type": "code",
   "execution_count": null,
   "id": "dd765cfa",
   "metadata": {},
   "outputs": [],
   "source": []
  }
 ],
 "metadata": {
  "kernelspec": {
   "display_name": "dev1",
   "language": "python",
   "name": "python3"
  },
  "language_info": {
   "codemirror_mode": {
    "name": "ipython",
    "version": 3
   },
   "file_extension": ".py",
   "mimetype": "text/x-python",
   "name": "python",
   "nbconvert_exporter": "python",
   "pygments_lexer": "ipython3",
   "version": "3.12.10"
  }
 },
 "nbformat": 4,
 "nbformat_minor": 5
}
