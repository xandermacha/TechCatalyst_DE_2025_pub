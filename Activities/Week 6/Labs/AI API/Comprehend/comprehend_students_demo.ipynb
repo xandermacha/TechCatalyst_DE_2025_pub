{
 "cells": [
  {
   "cell_type": "markdown",
   "id": "9a0cd3fd",
   "metadata": {},
   "source": [
    "## Intro to Comprehend"
   ]
  },
  {
   "cell_type": "code",
   "execution_count": 1,
   "id": "4daeaf29",
   "metadata": {},
   "outputs": [
    {
     "data": {
      "text/plain": [
       "True"
      ]
     },
     "execution_count": 1,
     "metadata": {},
     "output_type": "execute_result"
    }
   ],
   "source": [
    "import boto3\n",
    "import glob\n",
    "import pandas as pd\n",
    "from dotenv import load_dotenv\n",
    "from IPython.display import display\n",
    "load_dotenv()"
   ]
  },
  {
   "cell_type": "code",
   "execution_count": 2,
   "id": "fc5dffc0",
   "metadata": {},
   "outputs": [],
   "source": [
    "comprehend_client = boto3.client('comprehend')"
   ]
  },
  {
   "cell_type": "code",
   "execution_count": 3,
   "id": "b5d41969",
   "metadata": {},
   "outputs": [],
   "source": [
    "text_to_analyze = \"Amazon Comprehend is a powerful NLP service. It makes text analysis easy.\""
   ]
  },
  {
   "cell_type": "code",
   "execution_count": 4,
   "id": "fd51e487",
   "metadata": {},
   "outputs": [],
   "source": [
    "response = comprehend_client.detect_sentiment(\n",
    "        Text=text_to_analyze,\n",
    "        LanguageCode='en'\n",
    "    )"
   ]
  },
  {
   "cell_type": "code",
   "execution_count": 5,
   "id": "4821301f",
   "metadata": {},
   "outputs": [
    {
     "data": {
      "text/plain": [
       "{'Sentiment': 'POSITIVE',\n",
       " 'SentimentScore': {'Positive': 0.9836823344230652,\n",
       "  'Negative': 0.00037502680788747966,\n",
       "  'Neutral': 0.014766361564397812,\n",
       "  'Mixed': 0.0011762265348806977},\n",
       " 'ResponseMetadata': {'RequestId': '1f53a204-1e46-43ae-b3a2-e5c233dadc57',\n",
       "  'HTTPStatusCode': 200,\n",
       "  'HTTPHeaders': {'x-amzn-requestid': '1f53a204-1e46-43ae-b3a2-e5c233dadc57',\n",
       "   'content-type': 'application/x-amz-json-1.1',\n",
       "   'content-length': '167',\n",
       "   'date': 'Tue, 05 Aug 2025 11:01:56 GMT'},\n",
       "  'RetryAttempts': 0}}"
      ]
     },
     "execution_count": 5,
     "metadata": {},
     "output_type": "execute_result"
    }
   ],
   "source": [
    "response"
   ]
  },
  {
   "cell_type": "code",
   "execution_count": 6,
   "id": "75d4f691",
   "metadata": {},
   "outputs": [],
   "source": [
    "data = {\n",
    "    'text': [\n",
    "        \"I am very happy with the new product.\",\n",
    "        \"This is a terrible experience, I am so frustrated.\",\n",
    "        \"The weather today is neutral and calm.\",\n",
    "        \"What a fantastic achievement!\",\n",
    "        \"I am not sure how I feel about this change.\",\n",
    "        \"The service was absolutely dreadful.\",\n",
    "        \"It's an okay movie, not great but not bad either.\",\n",
    "        \"This is the best day of my life!\",\n",
    "        \"The package arrived damaged and late.\",\n",
    "        \"The instructions were clear and helpful.\",\n",
    "        # ... add more text entries to exceed 25 ...\n",
    "        \"This is just some filler text to make the list longer.\",\n",
    "        \"Comprehend is a useful service for NLP tasks.\",\n",
    "        \"Batch processing helps to improve efficiency.\",\n",
    "        \"This is an example of a positive statement.\",\n",
    "        \"I have a negative feeling about this project.\",\n",
    "        \"The results are neither good nor bad.\",\n",
    "        \"This is an excellent way to handle data.\",\n",
    "        \"I'm disappointed with the outcome.\",\n",
    "        \"The system works as expected.\",\n",
    "        \"What a wonderful surprise!\",\n",
    "        \"The support team was unresponsive.\",\n",
    "        \"It's a standard procedure.\",\n",
    "        \"This is truly innovative!\",\n",
    "        \"The quality did not meet my expectations.\",\n",
    "        \"I am content with the current situation.\",\n",
    "        \"This is the 26th text, starting a new batch.\",\n",
    "        \"Another item for the second batch.\",\n",
    "        \"This is getting repetitive.\",\n",
    "        \"One more for the road.\",\n",
    "        \"Final text in the DataFrame.\"\n",
    "    ]\n",
    "}\n",
    "df = pd.DataFrame(data)"
   ]
  },
  {
   "cell_type": "code",
   "execution_count": 7,
   "id": "df5e56c3",
   "metadata": {},
   "outputs": [
    {
     "data": {
      "text/html": [
       "<div>\n",
       "<style scoped>\n",
       "    .dataframe tbody tr th:only-of-type {\n",
       "        vertical-align: middle;\n",
       "    }\n",
       "\n",
       "    .dataframe tbody tr th {\n",
       "        vertical-align: top;\n",
       "    }\n",
       "\n",
       "    .dataframe thead th {\n",
       "        text-align: right;\n",
       "    }\n",
       "</style>\n",
       "<table border=\"1\" class=\"dataframe\">\n",
       "  <thead>\n",
       "    <tr style=\"text-align: right;\">\n",
       "      <th></th>\n",
       "      <th>text</th>\n",
       "      <th>sentiment</th>\n",
       "    </tr>\n",
       "  </thead>\n",
       "  <tbody>\n",
       "    <tr>\n",
       "      <th>0</th>\n",
       "      <td>I am very happy with the new product.</td>\n",
       "      <td>POSITIVE</td>\n",
       "    </tr>\n",
       "    <tr>\n",
       "      <th>1</th>\n",
       "      <td>This is a terrible experience, I am so frustra...</td>\n",
       "      <td>NEGATIVE</td>\n",
       "    </tr>\n",
       "    <tr>\n",
       "      <th>2</th>\n",
       "      <td>The weather today is neutral and calm.</td>\n",
       "      <td>POSITIVE</td>\n",
       "    </tr>\n",
       "    <tr>\n",
       "      <th>3</th>\n",
       "      <td>What a fantastic achievement!</td>\n",
       "      <td>POSITIVE</td>\n",
       "    </tr>\n",
       "    <tr>\n",
       "      <th>4</th>\n",
       "      <td>I am not sure how I feel about this change.</td>\n",
       "      <td>NEGATIVE</td>\n",
       "    </tr>\n",
       "  </tbody>\n",
       "</table>\n",
       "</div>"
      ],
      "text/plain": [
       "                                                text sentiment\n",
       "0              I am very happy with the new product.  POSITIVE\n",
       "1  This is a terrible experience, I am so frustra...  NEGATIVE\n",
       "2             The weather today is neutral and calm.  POSITIVE\n",
       "3                      What a fantastic achievement!  POSITIVE\n",
       "4        I am not sure how I feel about this change.  NEGATIVE"
      ]
     },
     "metadata": {},
     "output_type": "display_data"
    }
   ],
   "source": [
    "sentiments = []\n",
    "\n",
    "for i in df['text'].tolist():\n",
    "    response = comprehend_client.detect_sentiment(\n",
    "        Text=i,\n",
    "        LanguageCode='en'\n",
    "    )\n",
    "    sentiments.append(response['Sentiment'])\n",
    "\n",
    "df['sentiment'] = sentiments\n",
    "\n",
    "display(df.head())"
   ]
  },
  {
   "cell_type": "code",
   "execution_count": null,
   "id": "e81e9ded",
   "metadata": {},
   "outputs": [],
   "source": []
  }
 ],
 "metadata": {
  "kernelspec": {
   "display_name": "dev1",
   "language": "python",
   "name": "python3"
  },
  "language_info": {
   "codemirror_mode": {
    "name": "ipython",
    "version": 3
   },
   "file_extension": ".py",
   "mimetype": "text/x-python",
   "name": "python",
   "nbconvert_exporter": "python",
   "pygments_lexer": "ipython3",
   "version": "3.12.10"
  }
 },
 "nbformat": 4,
 "nbformat_minor": 5
}
