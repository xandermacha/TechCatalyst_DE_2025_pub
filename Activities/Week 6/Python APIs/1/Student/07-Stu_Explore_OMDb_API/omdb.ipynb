{
 "cells": [
  {
   "cell_type": "code",
   "execution_count": 17,
   "id": "0458df81",
   "metadata": {},
   "outputs": [],
   "source": [
    "import requests\n",
    "import json\n",
    "from config import api_key"
   ]
  },
  {
   "cell_type": "code",
   "execution_count": 18,
   "id": "a42c86df",
   "metadata": {},
   "outputs": [
    {
     "name": "stdout",
     "output_type": "stream",
     "text": [
      "http://www.omdbapi.com/?apikey=e954f90b\n"
     ]
    }
   ],
   "source": [
    "url = f\"http://www.omdbapi.com/?apikey={api_key}\"\n",
    "\n",
    "print(url)"
   ]
  },
  {
   "cell_type": "code",
   "execution_count": 24,
   "id": "7074c02a",
   "metadata": {},
   "outputs": [
    {
     "name": "stdout",
     "output_type": "stream",
     "text": [
      "{\n",
      "    \"Title\": \"Rush Hour\",\n",
      "    \"Year\": \"1998\",\n",
      "    \"Rated\": \"PG-13\",\n",
      "    \"Released\": \"18 Sep 1998\",\n",
      "    \"Runtime\": \"98 min\",\n",
      "    \"Genre\": \"Action, Comedy, Crime\",\n",
      "    \"Director\": \"Brett Ratner\",\n",
      "    \"Writer\": \"Ross LaManna, Jim Kouf\",\n",
      "    \"Actors\": \"Jackie Chan, Chris Tucker, Ken Leung\",\n",
      "    \"Plot\": \"Cultures clash and tempers flares as the two cops named Detective Inspector Lee a Hong Kong Detective and Detective James Carter FBI, a big-mouthed work-alone Los Angeles cop who are from different worlds discovers one thing in common: they can't stand each other. With time running out, they must join forces to catch the criminals and save the eleven-year-old Chinese girl of the Chinese consul named Soo Yung.\",\n",
      "    \"Language\": \"English, Cantonese, Mandarin, Japanese, Chinese\",\n",
      "    \"Country\": \"United States\",\n",
      "    \"Awards\": \"6 wins & 9 nominations total\",\n",
      "    \"Poster\": \"https://m.media-amazon.com/images/M/MV5BMGZiMzViNmEtNTNlZi00MzFmLTk5NTEtNDE2OTUzNmNlMTY4XkEyXkFqcGc@._V1_SX300.jpg\",\n",
      "    \"Ratings\": [\n",
      "        {\n",
      "            \"Source\": \"Internet Movie Database\",\n",
      "            \"Value\": \"7.0/10\"\n",
      "        },\n",
      "        {\n",
      "            \"Source\": \"Rotten Tomatoes\",\n",
      "            \"Value\": \"62%\"\n",
      "        },\n",
      "        {\n",
      "            \"Source\": \"Metacritic\",\n",
      "            \"Value\": \"61/100\"\n",
      "        }\n",
      "    ],\n",
      "    \"Metascore\": \"61\",\n",
      "    \"imdbRating\": \"7.0\",\n",
      "    \"imdbVotes\": \"312,752\",\n",
      "    \"imdbID\": \"tt0120812\",\n",
      "    \"Type\": \"movie\",\n",
      "    \"DVD\": \"N/A\",\n",
      "    \"BoxOffice\": \"$141,186,864\",\n",
      "    \"Production\": \"N/A\",\n",
      "    \"Website\": \"N/A\",\n",
      "    \"Response\": \"True\"\n",
      "}\n"
     ]
    }
   ],
   "source": [
    "response = requests.get(url + \"&t=Rush Hour\" + \"&plot=full\")\n",
    "data = response.json()\n",
    "data = json.dumps(data, indent=4)\n",
    "print(data)"
   ]
  },
  {
   "cell_type": "code",
   "execution_count": null,
   "id": "e1ecf07a",
   "metadata": {},
   "outputs": [],
   "source": []
  }
 ],
 "metadata": {
  "kernelspec": {
   "display_name": "dev",
   "language": "python",
   "name": "python3"
  },
  "language_info": {
   "codemirror_mode": {
    "name": "ipython",
    "version": 3
   },
   "file_extension": ".py",
   "mimetype": "text/x-python",
   "name": "python",
   "nbconvert_exporter": "python",
   "pygments_lexer": "ipython3",
   "version": "3.13.5"
  }
 },
 "nbformat": 4,
 "nbformat_minor": 5
}
