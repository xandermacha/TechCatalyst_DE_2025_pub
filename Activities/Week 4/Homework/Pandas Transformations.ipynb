{
 "cells": [
  {
   "cell_type": "markdown",
   "id": "8e493f2a-5fb8-4899-a6a4-428a05eac45b",
   "metadata": {},
   "source": [
    "### Activity 1: Aggregating Data\n",
    "\n",
    "#### Description\n",
    "\n",
    "In this activity, students will learn how to aggregate data using the `groupby` function in Pandas. They will practice calculating summary statistics such as mean, sum, and count for different groups in the dataset.\n",
    "\n",
    "**Aggregating Sales Data**"
   ]
  },
  {
   "cell_type": "code",
   "execution_count": 1,
   "id": "88c310e9-130b-41b5-9886-bac424b0b5b0",
   "metadata": {},
   "outputs": [
    {
     "name": "stdout",
     "output_type": "stream",
     "text": [
      "Initial DataFrame:\n"
     ]
    },
    {
     "data": {
      "application/vnd.microsoft.datawrangler.viewer.v0+json": {
       "columns": [
        {
         "name": "index",
         "rawType": "int64",
         "type": "integer"
        },
        {
         "name": "Store",
         "rawType": "object",
         "type": "string"
        },
        {
         "name": "Product",
         "rawType": "object",
         "type": "string"
        },
        {
         "name": "Sales",
         "rawType": "int64",
         "type": "integer"
        },
        {
         "name": "Date",
         "rawType": "datetime64[ns]",
         "type": "datetime"
        }
       ],
       "ref": "7df150e3-63cb-4ae0-8422-86e8a83926c8",
       "rows": [
        [
         "0",
         "A",
         "Apples",
         "100",
         "2024-07-01 00:00:00"
        ],
        [
         "1",
         "A",
         "Oranges",
         "150",
         "2024-07-02 00:00:00"
        ],
        [
         "2",
         "B",
         "Apples",
         "200",
         "2024-07-01 00:00:00"
        ],
        [
         "3",
         "B",
         "Oranges",
         "120",
         "2024-07-02 00:00:00"
        ],
        [
         "4",
         "C",
         "Apples",
         "90",
         "2024-07-01 00:00:00"
        ],
        [
         "5",
         "C",
         "Oranges",
         "80",
         "2024-07-02 00:00:00"
        ],
        [
         "6",
         "A",
         "Apples",
         "130",
         "2024-07-03 00:00:00"
        ],
        [
         "7",
         "B",
         "Oranges",
         "110",
         "2024-07-03 00:00:00"
        ],
        [
         "8",
         "C",
         "Apples",
         "95",
         "2024-07-03 00:00:00"
        ]
       ],
       "shape": {
        "columns": 4,
        "rows": 9
       }
      },
      "text/html": [
       "<div>\n",
       "<style scoped>\n",
       "    .dataframe tbody tr th:only-of-type {\n",
       "        vertical-align: middle;\n",
       "    }\n",
       "\n",
       "    .dataframe tbody tr th {\n",
       "        vertical-align: top;\n",
       "    }\n",
       "\n",
       "    .dataframe thead th {\n",
       "        text-align: right;\n",
       "    }\n",
       "</style>\n",
       "<table border=\"1\" class=\"dataframe\">\n",
       "  <thead>\n",
       "    <tr style=\"text-align: right;\">\n",
       "      <th></th>\n",
       "      <th>Store</th>\n",
       "      <th>Product</th>\n",
       "      <th>Sales</th>\n",
       "      <th>Date</th>\n",
       "    </tr>\n",
       "  </thead>\n",
       "  <tbody>\n",
       "    <tr>\n",
       "      <th>0</th>\n",
       "      <td>A</td>\n",
       "      <td>Apples</td>\n",
       "      <td>100</td>\n",
       "      <td>2024-07-01</td>\n",
       "    </tr>\n",
       "    <tr>\n",
       "      <th>1</th>\n",
       "      <td>A</td>\n",
       "      <td>Oranges</td>\n",
       "      <td>150</td>\n",
       "      <td>2024-07-02</td>\n",
       "    </tr>\n",
       "    <tr>\n",
       "      <th>2</th>\n",
       "      <td>B</td>\n",
       "      <td>Apples</td>\n",
       "      <td>200</td>\n",
       "      <td>2024-07-01</td>\n",
       "    </tr>\n",
       "    <tr>\n",
       "      <th>3</th>\n",
       "      <td>B</td>\n",
       "      <td>Oranges</td>\n",
       "      <td>120</td>\n",
       "      <td>2024-07-02</td>\n",
       "    </tr>\n",
       "    <tr>\n",
       "      <th>4</th>\n",
       "      <td>C</td>\n",
       "      <td>Apples</td>\n",
       "      <td>90</td>\n",
       "      <td>2024-07-01</td>\n",
       "    </tr>\n",
       "    <tr>\n",
       "      <th>5</th>\n",
       "      <td>C</td>\n",
       "      <td>Oranges</td>\n",
       "      <td>80</td>\n",
       "      <td>2024-07-02</td>\n",
       "    </tr>\n",
       "    <tr>\n",
       "      <th>6</th>\n",
       "      <td>A</td>\n",
       "      <td>Apples</td>\n",
       "      <td>130</td>\n",
       "      <td>2024-07-03</td>\n",
       "    </tr>\n",
       "    <tr>\n",
       "      <th>7</th>\n",
       "      <td>B</td>\n",
       "      <td>Oranges</td>\n",
       "      <td>110</td>\n",
       "      <td>2024-07-03</td>\n",
       "    </tr>\n",
       "    <tr>\n",
       "      <th>8</th>\n",
       "      <td>C</td>\n",
       "      <td>Apples</td>\n",
       "      <td>95</td>\n",
       "      <td>2024-07-03</td>\n",
       "    </tr>\n",
       "  </tbody>\n",
       "</table>\n",
       "</div>"
      ],
      "text/plain": [
       "  Store  Product  Sales       Date\n",
       "0     A   Apples    100 2024-07-01\n",
       "1     A  Oranges    150 2024-07-02\n",
       "2     B   Apples    200 2024-07-01\n",
       "3     B  Oranges    120 2024-07-02\n",
       "4     C   Apples     90 2024-07-01\n",
       "5     C  Oranges     80 2024-07-02\n",
       "6     A   Apples    130 2024-07-03\n",
       "7     B  Oranges    110 2024-07-03\n",
       "8     C   Apples     95 2024-07-03"
      ]
     },
     "metadata": {},
     "output_type": "display_data"
    }
   ],
   "source": [
    "import pandas as pd\n",
    "\n",
    "# Sample sales data\n",
    "data = {\n",
    "    'Store': ['A', 'A', 'B', 'B', 'C', 'C', 'A', 'B', 'C'],\n",
    "    'Product': ['Apples', 'Oranges', 'Apples', 'Oranges', 'Apples', 'Oranges', 'Apples', 'Oranges', 'Apples'],\n",
    "    'Sales': [100, 150, 200, 120, 90, 80, 130, 110, 95],\n",
    "    'Date': ['2024-07-01', '2024-07-02', '2024-07-01', '2024-07-02', '2024-07-01', '2024-07-02', '2024-07-03', '2024-07-03', '2024-07-03']\n",
    "}\n",
    "\n",
    "# Create DataFrame\n",
    "df = pd.DataFrame(data)\n",
    "\n",
    "# Convert Date column to datetime\n",
    "df['Date'] = pd.to_datetime(df['Date'])\n",
    "\n",
    "# Display the DataFrame\n",
    "print(\"Initial DataFrame:\")\n",
    "display(df)\n"
   ]
  },
  {
   "cell_type": "markdown",
   "id": "acc5d349-3f54-4242-8c0b-004a400e946e",
   "metadata": {},
   "source": [
    "#### Task\n",
    "\n",
    "1. Group the data by `Store` and `Product`.\n",
    "2. Calculate the total sales for each group.\n",
    "3. Calculate the mean sales for each group.\n",
    "4. Count the number of sales records for each group."
   ]
  },
  {
   "cell_type": "code",
   "execution_count": 4,
   "id": "de1979fd-3a34-4632-bb37-c25e246f4a37",
   "metadata": {},
   "outputs": [
    {
     "name": "stdout",
     "output_type": "stream",
     "text": [
      "Total Sales:\n"
     ]
    },
    {
     "data": {
      "application/vnd.microsoft.datawrangler.viewer.v0+json": {
       "columns": [
        {
         "name": "index",
         "rawType": "int64",
         "type": "integer"
        },
        {
         "name": "Store",
         "rawType": "object",
         "type": "string"
        },
        {
         "name": "Product",
         "rawType": "object",
         "type": "string"
        },
        {
         "name": "Total Sales",
         "rawType": "int64",
         "type": "integer"
        }
       ],
       "ref": "1052b752-faa7-43a1-9453-b24cb4b359da",
       "rows": [
        [
         "0",
         "A",
         "Apples",
         "230"
        ],
        [
         "1",
         "A",
         "Oranges",
         "150"
        ],
        [
         "2",
         "B",
         "Apples",
         "200"
        ],
        [
         "3",
         "B",
         "Oranges",
         "230"
        ],
        [
         "4",
         "C",
         "Apples",
         "185"
        ],
        [
         "5",
         "C",
         "Oranges",
         "80"
        ]
       ],
       "shape": {
        "columns": 3,
        "rows": 6
       }
      },
      "text/html": [
       "<div>\n",
       "<style scoped>\n",
       "    .dataframe tbody tr th:only-of-type {\n",
       "        vertical-align: middle;\n",
       "    }\n",
       "\n",
       "    .dataframe tbody tr th {\n",
       "        vertical-align: top;\n",
       "    }\n",
       "\n",
       "    .dataframe thead th {\n",
       "        text-align: right;\n",
       "    }\n",
       "</style>\n",
       "<table border=\"1\" class=\"dataframe\">\n",
       "  <thead>\n",
       "    <tr style=\"text-align: right;\">\n",
       "      <th></th>\n",
       "      <th>Store</th>\n",
       "      <th>Product</th>\n",
       "      <th>Total Sales</th>\n",
       "    </tr>\n",
       "  </thead>\n",
       "  <tbody>\n",
       "    <tr>\n",
       "      <th>0</th>\n",
       "      <td>A</td>\n",
       "      <td>Apples</td>\n",
       "      <td>230</td>\n",
       "    </tr>\n",
       "    <tr>\n",
       "      <th>1</th>\n",
       "      <td>A</td>\n",
       "      <td>Oranges</td>\n",
       "      <td>150</td>\n",
       "    </tr>\n",
       "    <tr>\n",
       "      <th>2</th>\n",
       "      <td>B</td>\n",
       "      <td>Apples</td>\n",
       "      <td>200</td>\n",
       "    </tr>\n",
       "    <tr>\n",
       "      <th>3</th>\n",
       "      <td>B</td>\n",
       "      <td>Oranges</td>\n",
       "      <td>230</td>\n",
       "    </tr>\n",
       "    <tr>\n",
       "      <th>4</th>\n",
       "      <td>C</td>\n",
       "      <td>Apples</td>\n",
       "      <td>185</td>\n",
       "    </tr>\n",
       "    <tr>\n",
       "      <th>5</th>\n",
       "      <td>C</td>\n",
       "      <td>Oranges</td>\n",
       "      <td>80</td>\n",
       "    </tr>\n",
       "  </tbody>\n",
       "</table>\n",
       "</div>"
      ],
      "text/plain": [
       "  Store  Product  Total Sales\n",
       "0     A   Apples          230\n",
       "1     A  Oranges          150\n",
       "2     B   Apples          200\n",
       "3     B  Oranges          230\n",
       "4     C   Apples          185\n",
       "5     C  Oranges           80"
      ]
     },
     "metadata": {},
     "output_type": "display_data"
    },
    {
     "name": "stdout",
     "output_type": "stream",
     "text": [
      "\n",
      "Mean Sales:\n"
     ]
    },
    {
     "data": {
      "application/vnd.microsoft.datawrangler.viewer.v0+json": {
       "columns": [
        {
         "name": "index",
         "rawType": "int64",
         "type": "integer"
        },
        {
         "name": "Store",
         "rawType": "object",
         "type": "string"
        },
        {
         "name": "Product",
         "rawType": "object",
         "type": "string"
        },
        {
         "name": "Mean Sales",
         "rawType": "float64",
         "type": "float"
        }
       ],
       "ref": "6a0593f1-7744-4353-ae9d-02a7864367d1",
       "rows": [
        [
         "0",
         "A",
         "Apples",
         "115.0"
        ],
        [
         "1",
         "A",
         "Oranges",
         "150.0"
        ],
        [
         "2",
         "B",
         "Apples",
         "200.0"
        ],
        [
         "3",
         "B",
         "Oranges",
         "115.0"
        ],
        [
         "4",
         "C",
         "Apples",
         "92.5"
        ],
        [
         "5",
         "C",
         "Oranges",
         "80.0"
        ]
       ],
       "shape": {
        "columns": 3,
        "rows": 6
       }
      },
      "text/html": [
       "<div>\n",
       "<style scoped>\n",
       "    .dataframe tbody tr th:only-of-type {\n",
       "        vertical-align: middle;\n",
       "    }\n",
       "\n",
       "    .dataframe tbody tr th {\n",
       "        vertical-align: top;\n",
       "    }\n",
       "\n",
       "    .dataframe thead th {\n",
       "        text-align: right;\n",
       "    }\n",
       "</style>\n",
       "<table border=\"1\" class=\"dataframe\">\n",
       "  <thead>\n",
       "    <tr style=\"text-align: right;\">\n",
       "      <th></th>\n",
       "      <th>Store</th>\n",
       "      <th>Product</th>\n",
       "      <th>Mean Sales</th>\n",
       "    </tr>\n",
       "  </thead>\n",
       "  <tbody>\n",
       "    <tr>\n",
       "      <th>0</th>\n",
       "      <td>A</td>\n",
       "      <td>Apples</td>\n",
       "      <td>115.0</td>\n",
       "    </tr>\n",
       "    <tr>\n",
       "      <th>1</th>\n",
       "      <td>A</td>\n",
       "      <td>Oranges</td>\n",
       "      <td>150.0</td>\n",
       "    </tr>\n",
       "    <tr>\n",
       "      <th>2</th>\n",
       "      <td>B</td>\n",
       "      <td>Apples</td>\n",
       "      <td>200.0</td>\n",
       "    </tr>\n",
       "    <tr>\n",
       "      <th>3</th>\n",
       "      <td>B</td>\n",
       "      <td>Oranges</td>\n",
       "      <td>115.0</td>\n",
       "    </tr>\n",
       "    <tr>\n",
       "      <th>4</th>\n",
       "      <td>C</td>\n",
       "      <td>Apples</td>\n",
       "      <td>92.5</td>\n",
       "    </tr>\n",
       "    <tr>\n",
       "      <th>5</th>\n",
       "      <td>C</td>\n",
       "      <td>Oranges</td>\n",
       "      <td>80.0</td>\n",
       "    </tr>\n",
       "  </tbody>\n",
       "</table>\n",
       "</div>"
      ],
      "text/plain": [
       "  Store  Product  Mean Sales\n",
       "0     A   Apples       115.0\n",
       "1     A  Oranges       150.0\n",
       "2     B   Apples       200.0\n",
       "3     B  Oranges       115.0\n",
       "4     C   Apples        92.5\n",
       "5     C  Oranges        80.0"
      ]
     },
     "metadata": {},
     "output_type": "display_data"
    },
    {
     "name": "stdout",
     "output_type": "stream",
     "text": [
      "\n",
      "Sales Count:\n"
     ]
    },
    {
     "data": {
      "application/vnd.microsoft.datawrangler.viewer.v0+json": {
       "columns": [
        {
         "name": "index",
         "rawType": "int64",
         "type": "integer"
        },
        {
         "name": "Store",
         "rawType": "object",
         "type": "string"
        },
        {
         "name": "Product",
         "rawType": "object",
         "type": "string"
        },
        {
         "name": "Sales Count",
         "rawType": "int64",
         "type": "integer"
        }
       ],
       "ref": "d95cf96c-e024-4971-a360-a76e0a58c683",
       "rows": [
        [
         "0",
         "A",
         "Apples",
         "2"
        ],
        [
         "1",
         "A",
         "Oranges",
         "1"
        ],
        [
         "2",
         "B",
         "Apples",
         "1"
        ],
        [
         "3",
         "B",
         "Oranges",
         "2"
        ],
        [
         "4",
         "C",
         "Apples",
         "2"
        ],
        [
         "5",
         "C",
         "Oranges",
         "1"
        ]
       ],
       "shape": {
        "columns": 3,
        "rows": 6
       }
      },
      "text/html": [
       "<div>\n",
       "<style scoped>\n",
       "    .dataframe tbody tr th:only-of-type {\n",
       "        vertical-align: middle;\n",
       "    }\n",
       "\n",
       "    .dataframe tbody tr th {\n",
       "        vertical-align: top;\n",
       "    }\n",
       "\n",
       "    .dataframe thead th {\n",
       "        text-align: right;\n",
       "    }\n",
       "</style>\n",
       "<table border=\"1\" class=\"dataframe\">\n",
       "  <thead>\n",
       "    <tr style=\"text-align: right;\">\n",
       "      <th></th>\n",
       "      <th>Store</th>\n",
       "      <th>Product</th>\n",
       "      <th>Sales Count</th>\n",
       "    </tr>\n",
       "  </thead>\n",
       "  <tbody>\n",
       "    <tr>\n",
       "      <th>0</th>\n",
       "      <td>A</td>\n",
       "      <td>Apples</td>\n",
       "      <td>2</td>\n",
       "    </tr>\n",
       "    <tr>\n",
       "      <th>1</th>\n",
       "      <td>A</td>\n",
       "      <td>Oranges</td>\n",
       "      <td>1</td>\n",
       "    </tr>\n",
       "    <tr>\n",
       "      <th>2</th>\n",
       "      <td>B</td>\n",
       "      <td>Apples</td>\n",
       "      <td>1</td>\n",
       "    </tr>\n",
       "    <tr>\n",
       "      <th>3</th>\n",
       "      <td>B</td>\n",
       "      <td>Oranges</td>\n",
       "      <td>2</td>\n",
       "    </tr>\n",
       "    <tr>\n",
       "      <th>4</th>\n",
       "      <td>C</td>\n",
       "      <td>Apples</td>\n",
       "      <td>2</td>\n",
       "    </tr>\n",
       "    <tr>\n",
       "      <th>5</th>\n",
       "      <td>C</td>\n",
       "      <td>Oranges</td>\n",
       "      <td>1</td>\n",
       "    </tr>\n",
       "  </tbody>\n",
       "</table>\n",
       "</div>"
      ],
      "text/plain": [
       "  Store  Product  Sales Count\n",
       "0     A   Apples            2\n",
       "1     A  Oranges            1\n",
       "2     B   Apples            1\n",
       "3     B  Oranges            2\n",
       "4     C   Apples            2\n",
       "5     C  Oranges            1"
      ]
     },
     "metadata": {},
     "output_type": "display_data"
    }
   ],
   "source": [
    "# Group by Store and Product\n",
    "#YOUR CODE\n",
    "grouped = df.groupby(['Store', 'Product'])\n",
    "# Calculate total sales for each group\n",
    "total_sales = grouped['Sales'].sum().reset_index()\n",
    "total_sales.rename(columns={'Sales': 'Total Sales'}, inplace=True)\n",
    "\n",
    "# Calculate mean sales for each group\n",
    "mean_sales = grouped['Sales'].mean().reset_index()\n",
    "mean_sales.rename(columns={'Sales': 'Mean Sales'}, inplace=True)\n",
    "\n",
    "# Count the number of sales records for each group\n",
    "sales_count = grouped['Sales'].count().reset_index()\n",
    "sales_count.rename(columns={'Sales': 'Sales Count'}, inplace=True)\n",
    "\n",
    "# Display the aggregated results\n",
    "print(\"Total Sales:\")\n",
    "display(total_sales)\n",
    "print(\"\\nMean Sales:\")\n",
    "display(mean_sales)\n",
    "print(\"\\nSales Count:\")\n",
    "display(sales_count)\n"
   ]
  },
  {
   "cell_type": "markdown",
   "id": "61c4a7b9-9514-4619-8090-f2d59b5a4c08",
   "metadata": {},
   "source": [
    "### Activity 2: Feature Engineering\n",
    "\n",
    "#### Description\n",
    "\n",
    "In this activity, students will practice creating new columns or features based on existing data. They will use operations such as basic arithmetic, conditional statements, and functions to derive new features.\n",
    "\n",
    "**Creating New Features from Sales Data**"
   ]
  },
  {
   "cell_type": "code",
   "execution_count": 5,
   "id": "d25a3e53-6d16-4531-8641-b32e859e9ed5",
   "metadata": {},
   "outputs": [
    {
     "name": "stdout",
     "output_type": "stream",
     "text": [
      "Initial DataFrame:\n"
     ]
    },
    {
     "data": {
      "application/vnd.microsoft.datawrangler.viewer.v0+json": {
       "columns": [
        {
         "name": "index",
         "rawType": "int64",
         "type": "integer"
        },
        {
         "name": "Store",
         "rawType": "object",
         "type": "string"
        },
        {
         "name": "Product",
         "rawType": "object",
         "type": "string"
        },
        {
         "name": "Sales",
         "rawType": "int64",
         "type": "integer"
        },
        {
         "name": "Date",
         "rawType": "datetime64[ns]",
         "type": "datetime"
        }
       ],
       "ref": "ceb62979-656a-4236-840b-52e13ab78e28",
       "rows": [
        [
         "0",
         "A",
         "Apples",
         "100",
         "2024-07-01 00:00:00"
        ],
        [
         "1",
         "A",
         "Oranges",
         "150",
         "2024-07-02 00:00:00"
        ],
        [
         "2",
         "B",
         "Apples",
         "200",
         "2024-07-01 00:00:00"
        ],
        [
         "3",
         "B",
         "Oranges",
         "120",
         "2024-07-02 00:00:00"
        ],
        [
         "4",
         "C",
         "Apples",
         "90",
         "2024-07-01 00:00:00"
        ],
        [
         "5",
         "C",
         "Oranges",
         "80",
         "2024-07-02 00:00:00"
        ],
        [
         "6",
         "A",
         "Apples",
         "130",
         "2024-07-03 00:00:00"
        ],
        [
         "7",
         "B",
         "Oranges",
         "110",
         "2024-07-03 00:00:00"
        ],
        [
         "8",
         "C",
         "Apples",
         "95",
         "2024-07-03 00:00:00"
        ]
       ],
       "shape": {
        "columns": 4,
        "rows": 9
       }
      },
      "text/html": [
       "<div>\n",
       "<style scoped>\n",
       "    .dataframe tbody tr th:only-of-type {\n",
       "        vertical-align: middle;\n",
       "    }\n",
       "\n",
       "    .dataframe tbody tr th {\n",
       "        vertical-align: top;\n",
       "    }\n",
       "\n",
       "    .dataframe thead th {\n",
       "        text-align: right;\n",
       "    }\n",
       "</style>\n",
       "<table border=\"1\" class=\"dataframe\">\n",
       "  <thead>\n",
       "    <tr style=\"text-align: right;\">\n",
       "      <th></th>\n",
       "      <th>Store</th>\n",
       "      <th>Product</th>\n",
       "      <th>Sales</th>\n",
       "      <th>Date</th>\n",
       "    </tr>\n",
       "  </thead>\n",
       "  <tbody>\n",
       "    <tr>\n",
       "      <th>0</th>\n",
       "      <td>A</td>\n",
       "      <td>Apples</td>\n",
       "      <td>100</td>\n",
       "      <td>2024-07-01</td>\n",
       "    </tr>\n",
       "    <tr>\n",
       "      <th>1</th>\n",
       "      <td>A</td>\n",
       "      <td>Oranges</td>\n",
       "      <td>150</td>\n",
       "      <td>2024-07-02</td>\n",
       "    </tr>\n",
       "    <tr>\n",
       "      <th>2</th>\n",
       "      <td>B</td>\n",
       "      <td>Apples</td>\n",
       "      <td>200</td>\n",
       "      <td>2024-07-01</td>\n",
       "    </tr>\n",
       "    <tr>\n",
       "      <th>3</th>\n",
       "      <td>B</td>\n",
       "      <td>Oranges</td>\n",
       "      <td>120</td>\n",
       "      <td>2024-07-02</td>\n",
       "    </tr>\n",
       "    <tr>\n",
       "      <th>4</th>\n",
       "      <td>C</td>\n",
       "      <td>Apples</td>\n",
       "      <td>90</td>\n",
       "      <td>2024-07-01</td>\n",
       "    </tr>\n",
       "    <tr>\n",
       "      <th>5</th>\n",
       "      <td>C</td>\n",
       "      <td>Oranges</td>\n",
       "      <td>80</td>\n",
       "      <td>2024-07-02</td>\n",
       "    </tr>\n",
       "    <tr>\n",
       "      <th>6</th>\n",
       "      <td>A</td>\n",
       "      <td>Apples</td>\n",
       "      <td>130</td>\n",
       "      <td>2024-07-03</td>\n",
       "    </tr>\n",
       "    <tr>\n",
       "      <th>7</th>\n",
       "      <td>B</td>\n",
       "      <td>Oranges</td>\n",
       "      <td>110</td>\n",
       "      <td>2024-07-03</td>\n",
       "    </tr>\n",
       "    <tr>\n",
       "      <th>8</th>\n",
       "      <td>C</td>\n",
       "      <td>Apples</td>\n",
       "      <td>95</td>\n",
       "      <td>2024-07-03</td>\n",
       "    </tr>\n",
       "  </tbody>\n",
       "</table>\n",
       "</div>"
      ],
      "text/plain": [
       "  Store  Product  Sales       Date\n",
       "0     A   Apples    100 2024-07-01\n",
       "1     A  Oranges    150 2024-07-02\n",
       "2     B   Apples    200 2024-07-01\n",
       "3     B  Oranges    120 2024-07-02\n",
       "4     C   Apples     90 2024-07-01\n",
       "5     C  Oranges     80 2024-07-02\n",
       "6     A   Apples    130 2024-07-03\n",
       "7     B  Oranges    110 2024-07-03\n",
       "8     C   Apples     95 2024-07-03"
      ]
     },
     "metadata": {},
     "output_type": "display_data"
    }
   ],
   "source": [
    "import pandas as pd\n",
    "\n",
    "# Sample sales data\n",
    "data = {\n",
    "    'Store': ['A', 'A', 'B', 'B', 'C', 'C', 'A', 'B', 'C'],\n",
    "    'Product': ['Apples', 'Oranges', 'Apples', 'Oranges', 'Apples', 'Oranges', 'Apples', 'Oranges', 'Apples'],\n",
    "    'Sales': [100, 150, 200, 120, 90, 80, 130, 110, 95],\n",
    "    'Date': ['2024-07-01', '2024-07-02', '2024-07-01', '2024-07-02', '2024-07-01', '2024-07-02', '2024-07-03', '2024-07-03', '2024-07-03']\n",
    "}\n",
    "\n",
    "# Create DataFrame\n",
    "df = pd.DataFrame(data)\n",
    "\n",
    "# Convert Date column to datetime\n",
    "df['Date'] = pd.to_datetime(df['Date'])\n",
    "\n",
    "# Display the DataFrame\n",
    "print(\"Initial DataFrame:\")\n",
    "display(df)\n"
   ]
  },
  {
   "cell_type": "markdown",
   "id": "d75abf23-1f18-481d-aaf3-87c8930e83c9",
   "metadata": {},
   "source": [
    "#### Task\n",
    "\n",
    "1. Create a new column `Sales_Difference` which is the difference between each `Sales` value and the average sales of the corresponding `Product`.\n",
    "2. Create a new column `High_Sales` which indicates whether the sales are higher than 100 (True) or not (False).\n",
    "3. Create a new column `Sales_Per_Day` which is the sales divided by the number of days since the start of the month."
   ]
  },
  {
   "cell_type": "code",
   "execution_count": 6,
   "id": "1f0d0f14-2a03-485b-b09a-2fb8cded6c4e",
   "metadata": {},
   "outputs": [
    {
     "name": "stdout",
     "output_type": "stream",
     "text": [
      "DataFrame with New Features:\n"
     ]
    },
    {
     "data": {
      "application/vnd.microsoft.datawrangler.viewer.v0+json": {
       "columns": [
        {
         "name": "index",
         "rawType": "int64",
         "type": "integer"
        },
        {
         "name": "Store",
         "rawType": "object",
         "type": "string"
        },
        {
         "name": "Product",
         "rawType": "object",
         "type": "string"
        },
        {
         "name": "Sales",
         "rawType": "int64",
         "type": "integer"
        },
        {
         "name": "Date",
         "rawType": "datetime64[ns]",
         "type": "datetime"
        },
        {
         "name": "Sales_Difference",
         "rawType": "float64",
         "type": "float"
        },
        {
         "name": "High_Sales",
         "rawType": "bool",
         "type": "boolean"
        },
        {
         "name": "Days_Since_Start",
         "rawType": "int64",
         "type": "integer"
        },
        {
         "name": "Sales_Per_Day",
         "rawType": "float64",
         "type": "float"
        }
       ],
       "ref": "f36adbcc-2bea-4cdc-9589-5f5eb148623b",
       "rows": [
        [
         "0",
         "A",
         "Apples",
         "100",
         "2024-07-01 00:00:00",
         null,
         "False",
         "1",
         "100.0"
        ],
        [
         "1",
         "A",
         "Oranges",
         "150",
         "2024-07-02 00:00:00",
         "50.0",
         "True",
         "2",
         "75.0"
        ],
        [
         "2",
         "B",
         "Apples",
         "200",
         "2024-07-01 00:00:00",
         "50.0",
         "True",
         "1",
         "200.0"
        ],
        [
         "3",
         "B",
         "Oranges",
         "120",
         "2024-07-02 00:00:00",
         "-80.0",
         "True",
         "2",
         "60.0"
        ],
        [
         "4",
         "C",
         "Apples",
         "90",
         "2024-07-01 00:00:00",
         "-30.0",
         "False",
         "1",
         "90.0"
        ],
        [
         "5",
         "C",
         "Oranges",
         "80",
         "2024-07-02 00:00:00",
         "-10.0",
         "False",
         "2",
         "40.0"
        ],
        [
         "6",
         "A",
         "Apples",
         "130",
         "2024-07-03 00:00:00",
         "50.0",
         "True",
         "3",
         "43.333333333333336"
        ],
        [
         "7",
         "B",
         "Oranges",
         "110",
         "2024-07-03 00:00:00",
         "-20.0",
         "False",
         "3",
         "36.666666666666664"
        ],
        [
         "8",
         "C",
         "Apples",
         "95",
         "2024-07-03 00:00:00",
         "-15.0",
         "False",
         "3",
         "31.666666666666668"
        ]
       ],
       "shape": {
        "columns": 8,
        "rows": 9
       }
      },
      "text/html": [
       "<div>\n",
       "<style scoped>\n",
       "    .dataframe tbody tr th:only-of-type {\n",
       "        vertical-align: middle;\n",
       "    }\n",
       "\n",
       "    .dataframe tbody tr th {\n",
       "        vertical-align: top;\n",
       "    }\n",
       "\n",
       "    .dataframe thead th {\n",
       "        text-align: right;\n",
       "    }\n",
       "</style>\n",
       "<table border=\"1\" class=\"dataframe\">\n",
       "  <thead>\n",
       "    <tr style=\"text-align: right;\">\n",
       "      <th></th>\n",
       "      <th>Store</th>\n",
       "      <th>Product</th>\n",
       "      <th>Sales</th>\n",
       "      <th>Date</th>\n",
       "      <th>Sales_Difference</th>\n",
       "      <th>High_Sales</th>\n",
       "      <th>Days_Since_Start</th>\n",
       "      <th>Sales_Per_Day</th>\n",
       "    </tr>\n",
       "  </thead>\n",
       "  <tbody>\n",
       "    <tr>\n",
       "      <th>0</th>\n",
       "      <td>A</td>\n",
       "      <td>Apples</td>\n",
       "      <td>100</td>\n",
       "      <td>2024-07-01</td>\n",
       "      <td>NaN</td>\n",
       "      <td>False</td>\n",
       "      <td>1</td>\n",
       "      <td>100.000000</td>\n",
       "    </tr>\n",
       "    <tr>\n",
       "      <th>1</th>\n",
       "      <td>A</td>\n",
       "      <td>Oranges</td>\n",
       "      <td>150</td>\n",
       "      <td>2024-07-02</td>\n",
       "      <td>50.0</td>\n",
       "      <td>True</td>\n",
       "      <td>2</td>\n",
       "      <td>75.000000</td>\n",
       "    </tr>\n",
       "    <tr>\n",
       "      <th>2</th>\n",
       "      <td>B</td>\n",
       "      <td>Apples</td>\n",
       "      <td>200</td>\n",
       "      <td>2024-07-01</td>\n",
       "      <td>50.0</td>\n",
       "      <td>True</td>\n",
       "      <td>1</td>\n",
       "      <td>200.000000</td>\n",
       "    </tr>\n",
       "    <tr>\n",
       "      <th>3</th>\n",
       "      <td>B</td>\n",
       "      <td>Oranges</td>\n",
       "      <td>120</td>\n",
       "      <td>2024-07-02</td>\n",
       "      <td>-80.0</td>\n",
       "      <td>True</td>\n",
       "      <td>2</td>\n",
       "      <td>60.000000</td>\n",
       "    </tr>\n",
       "    <tr>\n",
       "      <th>4</th>\n",
       "      <td>C</td>\n",
       "      <td>Apples</td>\n",
       "      <td>90</td>\n",
       "      <td>2024-07-01</td>\n",
       "      <td>-30.0</td>\n",
       "      <td>False</td>\n",
       "      <td>1</td>\n",
       "      <td>90.000000</td>\n",
       "    </tr>\n",
       "    <tr>\n",
       "      <th>5</th>\n",
       "      <td>C</td>\n",
       "      <td>Oranges</td>\n",
       "      <td>80</td>\n",
       "      <td>2024-07-02</td>\n",
       "      <td>-10.0</td>\n",
       "      <td>False</td>\n",
       "      <td>2</td>\n",
       "      <td>40.000000</td>\n",
       "    </tr>\n",
       "    <tr>\n",
       "      <th>6</th>\n",
       "      <td>A</td>\n",
       "      <td>Apples</td>\n",
       "      <td>130</td>\n",
       "      <td>2024-07-03</td>\n",
       "      <td>50.0</td>\n",
       "      <td>True</td>\n",
       "      <td>3</td>\n",
       "      <td>43.333333</td>\n",
       "    </tr>\n",
       "    <tr>\n",
       "      <th>7</th>\n",
       "      <td>B</td>\n",
       "      <td>Oranges</td>\n",
       "      <td>110</td>\n",
       "      <td>2024-07-03</td>\n",
       "      <td>-20.0</td>\n",
       "      <td>False</td>\n",
       "      <td>3</td>\n",
       "      <td>36.666667</td>\n",
       "    </tr>\n",
       "    <tr>\n",
       "      <th>8</th>\n",
       "      <td>C</td>\n",
       "      <td>Apples</td>\n",
       "      <td>95</td>\n",
       "      <td>2024-07-03</td>\n",
       "      <td>-15.0</td>\n",
       "      <td>False</td>\n",
       "      <td>3</td>\n",
       "      <td>31.666667</td>\n",
       "    </tr>\n",
       "  </tbody>\n",
       "</table>\n",
       "</div>"
      ],
      "text/plain": [
       "  Store  Product  Sales       Date  Sales_Difference  High_Sales  \\\n",
       "0     A   Apples    100 2024-07-01               NaN       False   \n",
       "1     A  Oranges    150 2024-07-02              50.0        True   \n",
       "2     B   Apples    200 2024-07-01              50.0        True   \n",
       "3     B  Oranges    120 2024-07-02             -80.0        True   \n",
       "4     C   Apples     90 2024-07-01             -30.0       False   \n",
       "5     C  Oranges     80 2024-07-02             -10.0       False   \n",
       "6     A   Apples    130 2024-07-03              50.0        True   \n",
       "7     B  Oranges    110 2024-07-03             -20.0       False   \n",
       "8     C   Apples     95 2024-07-03             -15.0       False   \n",
       "\n",
       "   Days_Since_Start  Sales_Per_Day  \n",
       "0                 1     100.000000  \n",
       "1                 2      75.000000  \n",
       "2                 1     200.000000  \n",
       "3                 2      60.000000  \n",
       "4                 1      90.000000  \n",
       "5                 2      40.000000  \n",
       "6                 3      43.333333  \n",
       "7                 3      36.666667  \n",
       "8                 3      31.666667  "
      ]
     },
     "metadata": {},
     "output_type": "display_data"
    }
   ],
   "source": [
    "# Calculate the average sales for each product\n",
    "product_avg_sales = df.groupby('Product')['Sales'].mean().reset_index()\n",
    "\n",
    "# Create Sales_Difference column\n",
    "df['Sales_Difference'] = df['Sales'] - df['Sales'].shift(1)\n",
    "\n",
    "# Create High_Sales column\n",
    "df['High_Sales'] = df['Sales'] > product_avg_sales['Sales'].mean()\n",
    "\n",
    "# Calculate the number of days since the start of the month\n",
    "df['Days_Since_Start'] = (df['Date'] - df['Date'].min()).dt.days + 1\n",
    "\n",
    "# Create Sales_Per_Day column\n",
    "df['Sales_Per_Day'] = df['Sales'] / df['Days_Since_Start']\n",
    "\n",
    "# Display the DataFrame with new features\n",
    "print(\"DataFrame with New Features:\")\n",
    "display(df)\n"
   ]
  },
  {
   "cell_type": "markdown",
   "id": "ff63fc11-5032-42f2-bfbd-f72db9723a1d",
   "metadata": {},
   "source": [
    "### Activity 3: Using Rolling Window\n",
    "\n",
    "#### Description\n",
    "\n",
    "In this activity, students will practice using the rolling window method to calculate moving averages. They will apply a rolling window to smooth out sales data and understand trends over time.\n",
    "\n",
    "#### Title\n",
    "\n",
    "**Calculating Moving Averages for Sales Data**"
   ]
  },
  {
   "cell_type": "code",
   "execution_count": 7,
   "id": "8224ad8f-a964-490b-b5d8-27d587760796",
   "metadata": {},
   "outputs": [
    {
     "name": "stdout",
     "output_type": "stream",
     "text": [
      "Initial DataFrame:\n"
     ]
    },
    {
     "data": {
      "application/vnd.microsoft.datawrangler.viewer.v0+json": {
       "columns": [
        {
         "name": "index",
         "rawType": "int64",
         "type": "integer"
        },
        {
         "name": "Store",
         "rawType": "object",
         "type": "string"
        },
        {
         "name": "Product",
         "rawType": "object",
         "type": "string"
        },
        {
         "name": "Sales",
         "rawType": "int64",
         "type": "integer"
        },
        {
         "name": "Date",
         "rawType": "datetime64[ns]",
         "type": "datetime"
        }
       ],
       "ref": "1d749683-b869-4f52-893c-ca9504778f14",
       "rows": [
        [
         "0",
         "A",
         "Apples",
         "100",
         "2024-07-01 00:00:00"
        ],
        [
         "2",
         "B",
         "Apples",
         "200",
         "2024-07-01 00:00:00"
        ],
        [
         "4",
         "C",
         "Apples",
         "90",
         "2024-07-01 00:00:00"
        ],
        [
         "1",
         "A",
         "Oranges",
         "150",
         "2024-07-02 00:00:00"
        ],
        [
         "3",
         "B",
         "Oranges",
         "120",
         "2024-07-02 00:00:00"
        ],
        [
         "5",
         "C",
         "Oranges",
         "80",
         "2024-07-02 00:00:00"
        ],
        [
         "6",
         "A",
         "Apples",
         "130",
         "2024-07-03 00:00:00"
        ],
        [
         "7",
         "B",
         "Oranges",
         "110",
         "2024-07-03 00:00:00"
        ],
        [
         "8",
         "C",
         "Apples",
         "95",
         "2024-07-03 00:00:00"
        ]
       ],
       "shape": {
        "columns": 4,
        "rows": 9
       }
      },
      "text/html": [
       "<div>\n",
       "<style scoped>\n",
       "    .dataframe tbody tr th:only-of-type {\n",
       "        vertical-align: middle;\n",
       "    }\n",
       "\n",
       "    .dataframe tbody tr th {\n",
       "        vertical-align: top;\n",
       "    }\n",
       "\n",
       "    .dataframe thead th {\n",
       "        text-align: right;\n",
       "    }\n",
       "</style>\n",
       "<table border=\"1\" class=\"dataframe\">\n",
       "  <thead>\n",
       "    <tr style=\"text-align: right;\">\n",
       "      <th></th>\n",
       "      <th>Store</th>\n",
       "      <th>Product</th>\n",
       "      <th>Sales</th>\n",
       "      <th>Date</th>\n",
       "    </tr>\n",
       "  </thead>\n",
       "  <tbody>\n",
       "    <tr>\n",
       "      <th>0</th>\n",
       "      <td>A</td>\n",
       "      <td>Apples</td>\n",
       "      <td>100</td>\n",
       "      <td>2024-07-01</td>\n",
       "    </tr>\n",
       "    <tr>\n",
       "      <th>2</th>\n",
       "      <td>B</td>\n",
       "      <td>Apples</td>\n",
       "      <td>200</td>\n",
       "      <td>2024-07-01</td>\n",
       "    </tr>\n",
       "    <tr>\n",
       "      <th>4</th>\n",
       "      <td>C</td>\n",
       "      <td>Apples</td>\n",
       "      <td>90</td>\n",
       "      <td>2024-07-01</td>\n",
       "    </tr>\n",
       "    <tr>\n",
       "      <th>1</th>\n",
       "      <td>A</td>\n",
       "      <td>Oranges</td>\n",
       "      <td>150</td>\n",
       "      <td>2024-07-02</td>\n",
       "    </tr>\n",
       "    <tr>\n",
       "      <th>3</th>\n",
       "      <td>B</td>\n",
       "      <td>Oranges</td>\n",
       "      <td>120</td>\n",
       "      <td>2024-07-02</td>\n",
       "    </tr>\n",
       "    <tr>\n",
       "      <th>5</th>\n",
       "      <td>C</td>\n",
       "      <td>Oranges</td>\n",
       "      <td>80</td>\n",
       "      <td>2024-07-02</td>\n",
       "    </tr>\n",
       "    <tr>\n",
       "      <th>6</th>\n",
       "      <td>A</td>\n",
       "      <td>Apples</td>\n",
       "      <td>130</td>\n",
       "      <td>2024-07-03</td>\n",
       "    </tr>\n",
       "    <tr>\n",
       "      <th>7</th>\n",
       "      <td>B</td>\n",
       "      <td>Oranges</td>\n",
       "      <td>110</td>\n",
       "      <td>2024-07-03</td>\n",
       "    </tr>\n",
       "    <tr>\n",
       "      <th>8</th>\n",
       "      <td>C</td>\n",
       "      <td>Apples</td>\n",
       "      <td>95</td>\n",
       "      <td>2024-07-03</td>\n",
       "    </tr>\n",
       "  </tbody>\n",
       "</table>\n",
       "</div>"
      ],
      "text/plain": [
       "  Store  Product  Sales       Date\n",
       "0     A   Apples    100 2024-07-01\n",
       "2     B   Apples    200 2024-07-01\n",
       "4     C   Apples     90 2024-07-01\n",
       "1     A  Oranges    150 2024-07-02\n",
       "3     B  Oranges    120 2024-07-02\n",
       "5     C  Oranges     80 2024-07-02\n",
       "6     A   Apples    130 2024-07-03\n",
       "7     B  Oranges    110 2024-07-03\n",
       "8     C   Apples     95 2024-07-03"
      ]
     },
     "metadata": {},
     "output_type": "display_data"
    }
   ],
   "source": [
    "import pandas as pd\n",
    "\n",
    "# Sample sales data\n",
    "data = {\n",
    "    'Store': ['A', 'A', 'B', 'B', 'C', 'C', 'A', 'B', 'C'],\n",
    "    'Product': ['Apples', 'Oranges', 'Apples', 'Oranges', 'Apples', 'Oranges', 'Apples', 'Oranges', 'Apples'],\n",
    "    'Sales': [100, 150, 200, 120, 90, 80, 130, 110, 95],\n",
    "    'Date': ['2024-07-01', '2024-07-02', '2024-07-01', '2024-07-02', '2024-07-01', '2024-07-02', '2024-07-03', '2024-07-03', '2024-07-03']\n",
    "}\n",
    "\n",
    "# Create DataFrame\n",
    "df = pd.DataFrame(data)\n",
    "\n",
    "# Convert Date column to datetime\n",
    "df['Date'] = pd.to_datetime(df['Date'])\n",
    "\n",
    "# Sort DataFrame by Date\n",
    "df = df.sort_values(by='Date')\n",
    "\n",
    "# Display the DataFrame\n",
    "print(\"Initial DataFrame:\")\n",
    "display(df)\n"
   ]
  },
  {
   "cell_type": "markdown",
   "id": "ef1c4d81-be7c-4043-8a8f-65b55b92941e",
   "metadata": {},
   "source": [
    "#### Task\n",
    "\n",
    "1. Calculate the 3-day moving average of sales for each product.\n",
    "2. Add the moving average as a new column `Moving_Avg_3_Days`."
   ]
  },
  {
   "cell_type": "code",
   "execution_count": 8,
   "id": "16194f89-7039-473b-bb44-527c25856e82",
   "metadata": {},
   "outputs": [
    {
     "name": "stdout",
     "output_type": "stream",
     "text": [
      "DataFrame with 3-Day Moving Average:\n"
     ]
    },
    {
     "data": {
      "application/vnd.microsoft.datawrangler.viewer.v0+json": {
       "columns": [
        {
         "name": "index",
         "rawType": "int64",
         "type": "integer"
        },
        {
         "name": "Store",
         "rawType": "object",
         "type": "string"
        },
        {
         "name": "Product",
         "rawType": "object",
         "type": "string"
        },
        {
         "name": "Sales",
         "rawType": "int64",
         "type": "integer"
        },
        {
         "name": "Date",
         "rawType": "datetime64[ns]",
         "type": "datetime"
        },
        {
         "name": "Moving_Avg_3_Days",
         "rawType": "float64",
         "type": "float"
        }
       ],
       "ref": "d868bf77-ccc8-4c5d-bc9e-1e7dc81d561a",
       "rows": [
        [
         "0",
         "A",
         "Apples",
         "100",
         "2024-07-01 00:00:00",
         "100.0"
        ],
        [
         "2",
         "B",
         "Apples",
         "200",
         "2024-07-01 00:00:00",
         "150.0"
        ],
        [
         "4",
         "C",
         "Apples",
         "90",
         "2024-07-01 00:00:00",
         "130.0"
        ],
        [
         "1",
         "A",
         "Oranges",
         "150",
         "2024-07-02 00:00:00",
         "150.0"
        ],
        [
         "3",
         "B",
         "Oranges",
         "120",
         "2024-07-02 00:00:00",
         "135.0"
        ],
        [
         "5",
         "C",
         "Oranges",
         "80",
         "2024-07-02 00:00:00",
         "116.66666666666667"
        ],
        [
         "6",
         "A",
         "Apples",
         "130",
         "2024-07-03 00:00:00",
         "140.0"
        ],
        [
         "7",
         "B",
         "Oranges",
         "110",
         "2024-07-03 00:00:00",
         "103.33333333333333"
        ],
        [
         "8",
         "C",
         "Apples",
         "95",
         "2024-07-03 00:00:00",
         "105.0"
        ]
       ],
       "shape": {
        "columns": 5,
        "rows": 9
       }
      },
      "text/html": [
       "<div>\n",
       "<style scoped>\n",
       "    .dataframe tbody tr th:only-of-type {\n",
       "        vertical-align: middle;\n",
       "    }\n",
       "\n",
       "    .dataframe tbody tr th {\n",
       "        vertical-align: top;\n",
       "    }\n",
       "\n",
       "    .dataframe thead th {\n",
       "        text-align: right;\n",
       "    }\n",
       "</style>\n",
       "<table border=\"1\" class=\"dataframe\">\n",
       "  <thead>\n",
       "    <tr style=\"text-align: right;\">\n",
       "      <th></th>\n",
       "      <th>Store</th>\n",
       "      <th>Product</th>\n",
       "      <th>Sales</th>\n",
       "      <th>Date</th>\n",
       "      <th>Moving_Avg_3_Days</th>\n",
       "    </tr>\n",
       "  </thead>\n",
       "  <tbody>\n",
       "    <tr>\n",
       "      <th>0</th>\n",
       "      <td>A</td>\n",
       "      <td>Apples</td>\n",
       "      <td>100</td>\n",
       "      <td>2024-07-01</td>\n",
       "      <td>100.000000</td>\n",
       "    </tr>\n",
       "    <tr>\n",
       "      <th>2</th>\n",
       "      <td>B</td>\n",
       "      <td>Apples</td>\n",
       "      <td>200</td>\n",
       "      <td>2024-07-01</td>\n",
       "      <td>150.000000</td>\n",
       "    </tr>\n",
       "    <tr>\n",
       "      <th>4</th>\n",
       "      <td>C</td>\n",
       "      <td>Apples</td>\n",
       "      <td>90</td>\n",
       "      <td>2024-07-01</td>\n",
       "      <td>130.000000</td>\n",
       "    </tr>\n",
       "    <tr>\n",
       "      <th>1</th>\n",
       "      <td>A</td>\n",
       "      <td>Oranges</td>\n",
       "      <td>150</td>\n",
       "      <td>2024-07-02</td>\n",
       "      <td>150.000000</td>\n",
       "    </tr>\n",
       "    <tr>\n",
       "      <th>3</th>\n",
       "      <td>B</td>\n",
       "      <td>Oranges</td>\n",
       "      <td>120</td>\n",
       "      <td>2024-07-02</td>\n",
       "      <td>135.000000</td>\n",
       "    </tr>\n",
       "    <tr>\n",
       "      <th>5</th>\n",
       "      <td>C</td>\n",
       "      <td>Oranges</td>\n",
       "      <td>80</td>\n",
       "      <td>2024-07-02</td>\n",
       "      <td>116.666667</td>\n",
       "    </tr>\n",
       "    <tr>\n",
       "      <th>6</th>\n",
       "      <td>A</td>\n",
       "      <td>Apples</td>\n",
       "      <td>130</td>\n",
       "      <td>2024-07-03</td>\n",
       "      <td>140.000000</td>\n",
       "    </tr>\n",
       "    <tr>\n",
       "      <th>7</th>\n",
       "      <td>B</td>\n",
       "      <td>Oranges</td>\n",
       "      <td>110</td>\n",
       "      <td>2024-07-03</td>\n",
       "      <td>103.333333</td>\n",
       "    </tr>\n",
       "    <tr>\n",
       "      <th>8</th>\n",
       "      <td>C</td>\n",
       "      <td>Apples</td>\n",
       "      <td>95</td>\n",
       "      <td>2024-07-03</td>\n",
       "      <td>105.000000</td>\n",
       "    </tr>\n",
       "  </tbody>\n",
       "</table>\n",
       "</div>"
      ],
      "text/plain": [
       "  Store  Product  Sales       Date  Moving_Avg_3_Days\n",
       "0     A   Apples    100 2024-07-01         100.000000\n",
       "2     B   Apples    200 2024-07-01         150.000000\n",
       "4     C   Apples     90 2024-07-01         130.000000\n",
       "1     A  Oranges    150 2024-07-02         150.000000\n",
       "3     B  Oranges    120 2024-07-02         135.000000\n",
       "5     C  Oranges     80 2024-07-02         116.666667\n",
       "6     A   Apples    130 2024-07-03         140.000000\n",
       "7     B  Oranges    110 2024-07-03         103.333333\n",
       "8     C   Apples     95 2024-07-03         105.000000"
      ]
     },
     "metadata": {},
     "output_type": "display_data"
    }
   ],
   "source": [
    "# Calculate the 3-day moving average for each product\n",
    "# hint: consider using Group by and .transform with a rolling inside \n",
    "# hint: This is a template only => df.groupby(<some column>)['<some column>'].transform(lambda x: x.rolling(<some values>).mean())\n",
    "\n",
    "df['Moving_Avg_3_Days'] = df.groupby('Product')['Sales'].transform(lambda x: x.rolling(window=3, min_periods=1).mean())\n",
    "\n",
    "# Display the DataFrame with the moving average\n",
    "print(\"DataFrame with 3-Day Moving Average:\")\n",
    "\n",
    "display(df)\n"
   ]
  },
  {
   "cell_type": "markdown",
   "id": "09b6e4a3-b1ef-4a25-913e-b1db92d43195",
   "metadata": {},
   "source": [
    "### Activity 4: Using Shift for Lag in Time Series Data\n",
    "\n",
    "#### Description\n",
    "\n",
    "In this activity, students will practice using the `shift` function to create lagged features in time series data. They will create a new column representing the previous day's sales for each product.\n",
    "\n",
    "#### Title\n",
    "\n",
    "**Creating Lagged Features in Sales Data**"
   ]
  },
  {
   "cell_type": "code",
   "execution_count": 9,
   "id": "0e18bf75-28ac-49bf-89c1-5c1246dac319",
   "metadata": {},
   "outputs": [
    {
     "data": {
      "application/vnd.microsoft.datawrangler.viewer.v0+json": {
       "columns": [
        {
         "name": "index",
         "rawType": "int64",
         "type": "integer"
        },
        {
         "name": "Store",
         "rawType": "object",
         "type": "string"
        },
        {
         "name": "Product",
         "rawType": "object",
         "type": "string"
        },
        {
         "name": "Sales",
         "rawType": "int64",
         "type": "integer"
        },
        {
         "name": "Date",
         "rawType": "datetime64[ns]",
         "type": "datetime"
        }
       ],
       "ref": "37a1e444-c355-423e-9f63-e71ed0dce150",
       "rows": [
        [
         "0",
         "A",
         "Apples",
         "100",
         "2024-07-01 00:00:00"
        ],
        [
         "2",
         "B",
         "Apples",
         "200",
         "2024-07-01 00:00:00"
        ],
        [
         "4",
         "C",
         "Apples",
         "90",
         "2024-07-01 00:00:00"
        ],
        [
         "1",
         "A",
         "Oranges",
         "150",
         "2024-07-02 00:00:00"
        ],
        [
         "3",
         "B",
         "Oranges",
         "120",
         "2024-07-02 00:00:00"
        ],
        [
         "5",
         "C",
         "Oranges",
         "80",
         "2024-07-02 00:00:00"
        ],
        [
         "6",
         "A",
         "Apples",
         "130",
         "2024-07-03 00:00:00"
        ],
        [
         "7",
         "B",
         "Oranges",
         "110",
         "2024-07-03 00:00:00"
        ],
        [
         "8",
         "C",
         "Apples",
         "95",
         "2024-07-03 00:00:00"
        ]
       ],
       "shape": {
        "columns": 4,
        "rows": 9
       }
      },
      "text/html": [
       "<div>\n",
       "<style scoped>\n",
       "    .dataframe tbody tr th:only-of-type {\n",
       "        vertical-align: middle;\n",
       "    }\n",
       "\n",
       "    .dataframe tbody tr th {\n",
       "        vertical-align: top;\n",
       "    }\n",
       "\n",
       "    .dataframe thead th {\n",
       "        text-align: right;\n",
       "    }\n",
       "</style>\n",
       "<table border=\"1\" class=\"dataframe\">\n",
       "  <thead>\n",
       "    <tr style=\"text-align: right;\">\n",
       "      <th></th>\n",
       "      <th>Store</th>\n",
       "      <th>Product</th>\n",
       "      <th>Sales</th>\n",
       "      <th>Date</th>\n",
       "    </tr>\n",
       "  </thead>\n",
       "  <tbody>\n",
       "    <tr>\n",
       "      <th>0</th>\n",
       "      <td>A</td>\n",
       "      <td>Apples</td>\n",
       "      <td>100</td>\n",
       "      <td>2024-07-01</td>\n",
       "    </tr>\n",
       "    <tr>\n",
       "      <th>2</th>\n",
       "      <td>B</td>\n",
       "      <td>Apples</td>\n",
       "      <td>200</td>\n",
       "      <td>2024-07-01</td>\n",
       "    </tr>\n",
       "    <tr>\n",
       "      <th>4</th>\n",
       "      <td>C</td>\n",
       "      <td>Apples</td>\n",
       "      <td>90</td>\n",
       "      <td>2024-07-01</td>\n",
       "    </tr>\n",
       "    <tr>\n",
       "      <th>1</th>\n",
       "      <td>A</td>\n",
       "      <td>Oranges</td>\n",
       "      <td>150</td>\n",
       "      <td>2024-07-02</td>\n",
       "    </tr>\n",
       "    <tr>\n",
       "      <th>3</th>\n",
       "      <td>B</td>\n",
       "      <td>Oranges</td>\n",
       "      <td>120</td>\n",
       "      <td>2024-07-02</td>\n",
       "    </tr>\n",
       "    <tr>\n",
       "      <th>5</th>\n",
       "      <td>C</td>\n",
       "      <td>Oranges</td>\n",
       "      <td>80</td>\n",
       "      <td>2024-07-02</td>\n",
       "    </tr>\n",
       "    <tr>\n",
       "      <th>6</th>\n",
       "      <td>A</td>\n",
       "      <td>Apples</td>\n",
       "      <td>130</td>\n",
       "      <td>2024-07-03</td>\n",
       "    </tr>\n",
       "    <tr>\n",
       "      <th>7</th>\n",
       "      <td>B</td>\n",
       "      <td>Oranges</td>\n",
       "      <td>110</td>\n",
       "      <td>2024-07-03</td>\n",
       "    </tr>\n",
       "    <tr>\n",
       "      <th>8</th>\n",
       "      <td>C</td>\n",
       "      <td>Apples</td>\n",
       "      <td>95</td>\n",
       "      <td>2024-07-03</td>\n",
       "    </tr>\n",
       "  </tbody>\n",
       "</table>\n",
       "</div>"
      ],
      "text/plain": [
       "  Store  Product  Sales       Date\n",
       "0     A   Apples    100 2024-07-01\n",
       "2     B   Apples    200 2024-07-01\n",
       "4     C   Apples     90 2024-07-01\n",
       "1     A  Oranges    150 2024-07-02\n",
       "3     B  Oranges    120 2024-07-02\n",
       "5     C  Oranges     80 2024-07-02\n",
       "6     A   Apples    130 2024-07-03\n",
       "7     B  Oranges    110 2024-07-03\n",
       "8     C   Apples     95 2024-07-03"
      ]
     },
     "metadata": {},
     "output_type": "display_data"
    }
   ],
   "source": [
    "import pandas as pd\n",
    "\n",
    "# Sample sales data\n",
    "data = {\n",
    "    'Store': ['A', 'A', 'B', 'B', 'C', 'C', 'A', 'B', 'C'],\n",
    "    'Product': ['Apples', 'Oranges', 'Apples', 'Oranges', 'Apples', 'Oranges', 'Apples', 'Oranges', 'Apples'],\n",
    "    'Sales': [100, 150, 200, 120, 90, 80, 130, 110, 95],\n",
    "    'Date': ['2024-07-01', '2024-07-02', '2024-07-01', '2024-07-02', '2024-07-01', '2024-07-02', '2024-07-03', '2024-07-03', '2024-07-03']\n",
    "}\n",
    "\n",
    "# Create DataFrame\n",
    "df = pd.DataFrame(data)\n",
    "\n",
    "# Convert Date column to datetime\n",
    "df['Date'] = pd.to_datetime(df['Date'])\n",
    "\n",
    "# Sort DataFrame by Date\n",
    "df = df.sort_values(by='Date')\n",
    "\n",
    "# Display the DataFrame\n",
    "display(df)\n"
   ]
  },
  {
   "cell_type": "markdown",
   "id": "72e66407-f7ad-4de4-8d76-aed82e3b95fd",
   "metadata": {},
   "source": [
    "#### Task\n",
    "\n",
    "1. Create a new column `Prev_Day_Sales` that contains the sales value of the previous day for each product.\n",
    "2. Handle missing values appropriately for the new column."
   ]
  },
  {
   "cell_type": "code",
   "execution_count": 10,
   "id": "835f0089-89f6-417c-b7fc-7339d4a4a52c",
   "metadata": {},
   "outputs": [
    {
     "data": {
      "application/vnd.microsoft.datawrangler.viewer.v0+json": {
       "columns": [
        {
         "name": "index",
         "rawType": "int64",
         "type": "integer"
        },
        {
         "name": "Store",
         "rawType": "object",
         "type": "string"
        },
        {
         "name": "Product",
         "rawType": "object",
         "type": "string"
        },
        {
         "name": "Sales",
         "rawType": "int64",
         "type": "integer"
        },
        {
         "name": "Date",
         "rawType": "datetime64[ns]",
         "type": "datetime"
        },
        {
         "name": "Prev_Day_Sales",
         "rawType": "float64",
         "type": "float"
        }
       ],
       "ref": "25fc7fa8-6f24-4091-a406-5c08f85241ae",
       "rows": [
        [
         "0",
         "A",
         "Apples",
         "100",
         "2024-07-01 00:00:00",
         "0.0"
        ],
        [
         "2",
         "B",
         "Apples",
         "200",
         "2024-07-01 00:00:00",
         "0.0"
        ],
        [
         "4",
         "C",
         "Apples",
         "90",
         "2024-07-01 00:00:00",
         "0.0"
        ],
        [
         "1",
         "A",
         "Oranges",
         "150",
         "2024-07-02 00:00:00",
         "0.0"
        ],
        [
         "3",
         "B",
         "Oranges",
         "120",
         "2024-07-02 00:00:00",
         "0.0"
        ],
        [
         "5",
         "C",
         "Oranges",
         "80",
         "2024-07-02 00:00:00",
         "0.0"
        ],
        [
         "6",
         "A",
         "Apples",
         "130",
         "2024-07-03 00:00:00",
         "100.0"
        ],
        [
         "7",
         "B",
         "Oranges",
         "110",
         "2024-07-03 00:00:00",
         "120.0"
        ],
        [
         "8",
         "C",
         "Apples",
         "95",
         "2024-07-03 00:00:00",
         "90.0"
        ]
       ],
       "shape": {
        "columns": 5,
        "rows": 9
       }
      },
      "text/html": [
       "<div>\n",
       "<style scoped>\n",
       "    .dataframe tbody tr th:only-of-type {\n",
       "        vertical-align: middle;\n",
       "    }\n",
       "\n",
       "    .dataframe tbody tr th {\n",
       "        vertical-align: top;\n",
       "    }\n",
       "\n",
       "    .dataframe thead th {\n",
       "        text-align: right;\n",
       "    }\n",
       "</style>\n",
       "<table border=\"1\" class=\"dataframe\">\n",
       "  <thead>\n",
       "    <tr style=\"text-align: right;\">\n",
       "      <th></th>\n",
       "      <th>Store</th>\n",
       "      <th>Product</th>\n",
       "      <th>Sales</th>\n",
       "      <th>Date</th>\n",
       "      <th>Prev_Day_Sales</th>\n",
       "    </tr>\n",
       "  </thead>\n",
       "  <tbody>\n",
       "    <tr>\n",
       "      <th>0</th>\n",
       "      <td>A</td>\n",
       "      <td>Apples</td>\n",
       "      <td>100</td>\n",
       "      <td>2024-07-01</td>\n",
       "      <td>0.0</td>\n",
       "    </tr>\n",
       "    <tr>\n",
       "      <th>2</th>\n",
       "      <td>B</td>\n",
       "      <td>Apples</td>\n",
       "      <td>200</td>\n",
       "      <td>2024-07-01</td>\n",
       "      <td>0.0</td>\n",
       "    </tr>\n",
       "    <tr>\n",
       "      <th>4</th>\n",
       "      <td>C</td>\n",
       "      <td>Apples</td>\n",
       "      <td>90</td>\n",
       "      <td>2024-07-01</td>\n",
       "      <td>0.0</td>\n",
       "    </tr>\n",
       "    <tr>\n",
       "      <th>1</th>\n",
       "      <td>A</td>\n",
       "      <td>Oranges</td>\n",
       "      <td>150</td>\n",
       "      <td>2024-07-02</td>\n",
       "      <td>0.0</td>\n",
       "    </tr>\n",
       "    <tr>\n",
       "      <th>3</th>\n",
       "      <td>B</td>\n",
       "      <td>Oranges</td>\n",
       "      <td>120</td>\n",
       "      <td>2024-07-02</td>\n",
       "      <td>0.0</td>\n",
       "    </tr>\n",
       "    <tr>\n",
       "      <th>5</th>\n",
       "      <td>C</td>\n",
       "      <td>Oranges</td>\n",
       "      <td>80</td>\n",
       "      <td>2024-07-02</td>\n",
       "      <td>0.0</td>\n",
       "    </tr>\n",
       "    <tr>\n",
       "      <th>6</th>\n",
       "      <td>A</td>\n",
       "      <td>Apples</td>\n",
       "      <td>130</td>\n",
       "      <td>2024-07-03</td>\n",
       "      <td>100.0</td>\n",
       "    </tr>\n",
       "    <tr>\n",
       "      <th>7</th>\n",
       "      <td>B</td>\n",
       "      <td>Oranges</td>\n",
       "      <td>110</td>\n",
       "      <td>2024-07-03</td>\n",
       "      <td>120.0</td>\n",
       "    </tr>\n",
       "    <tr>\n",
       "      <th>8</th>\n",
       "      <td>C</td>\n",
       "      <td>Apples</td>\n",
       "      <td>95</td>\n",
       "      <td>2024-07-03</td>\n",
       "      <td>90.0</td>\n",
       "    </tr>\n",
       "  </tbody>\n",
       "</table>\n",
       "</div>"
      ],
      "text/plain": [
       "  Store  Product  Sales       Date  Prev_Day_Sales\n",
       "0     A   Apples    100 2024-07-01             0.0\n",
       "2     B   Apples    200 2024-07-01             0.0\n",
       "4     C   Apples     90 2024-07-01             0.0\n",
       "1     A  Oranges    150 2024-07-02             0.0\n",
       "3     B  Oranges    120 2024-07-02             0.0\n",
       "5     C  Oranges     80 2024-07-02             0.0\n",
       "6     A   Apples    130 2024-07-03           100.0\n",
       "7     B  Oranges    110 2024-07-03           120.0\n",
       "8     C   Apples     95 2024-07-03            90.0"
      ]
     },
     "metadata": {},
     "output_type": "display_data"
    }
   ],
   "source": [
    "# Create Prev_Day_Sales column\n",
    "# hint: Group by then Shift\n",
    "\n",
    "df['Prev_Day_Sales'] = df.groupby(['Store', 'Product'])['Sales'].shift(1)\n",
    "\n",
    "# Handle missing values by filling with 0 (or you can choose another appropriate method)\n",
    "df['Prev_Day_Sales'] = df['Prev_Day_Sales'].fillna(0)\n",
    "\n",
    "# Display the DataFrame with the new lagged feature\n",
    "display(df)\n"
   ]
  },
  {
   "cell_type": "markdown",
   "id": "89a0a78f-f8c2-493d-a451-f8cbd5409794",
   "metadata": {},
   "source": [
    "### Activity 5: Datetime Manipulation\n",
    "\n",
    "#### Description\n",
    "\n",
    "In this activity, students will practice manipulating datetime data. They will extract different components from a datetime column and create new columns based on these components.\n",
    "\n",
    "#### Title\n",
    "\n",
    "**Manipulating Datetime Data in Sales Data**"
   ]
  },
  {
   "cell_type": "code",
   "execution_count": 11,
   "id": "0563a27c-b536-4e47-9834-1a667f4b6191",
   "metadata": {},
   "outputs": [
    {
     "data": {
      "application/vnd.microsoft.datawrangler.viewer.v0+json": {
       "columns": [
        {
         "name": "index",
         "rawType": "int64",
         "type": "integer"
        },
        {
         "name": "Store",
         "rawType": "object",
         "type": "string"
        },
        {
         "name": "Product",
         "rawType": "object",
         "type": "string"
        },
        {
         "name": "Sales",
         "rawType": "int64",
         "type": "integer"
        },
        {
         "name": "Date",
         "rawType": "datetime64[ns]",
         "type": "datetime"
        }
       ],
       "ref": "bea09645-0e73-4d26-a8e5-f20f2ed491a9",
       "rows": [
        [
         "0",
         "A",
         "Apples",
         "100",
         "2024-07-01 00:00:00"
        ],
        [
         "1",
         "A",
         "Oranges",
         "150",
         "2024-07-02 00:00:00"
        ],
        [
         "2",
         "B",
         "Apples",
         "200",
         "2024-07-01 00:00:00"
        ],
        [
         "3",
         "B",
         "Oranges",
         "120",
         "2024-07-02 00:00:00"
        ],
        [
         "4",
         "C",
         "Apples",
         "90",
         "2024-07-01 00:00:00"
        ],
        [
         "5",
         "C",
         "Oranges",
         "80",
         "2024-07-02 00:00:00"
        ],
        [
         "6",
         "A",
         "Apples",
         "130",
         "2024-07-03 00:00:00"
        ],
        [
         "7",
         "B",
         "Oranges",
         "110",
         "2024-07-03 00:00:00"
        ],
        [
         "8",
         "C",
         "Apples",
         "95",
         "2024-07-03 00:00:00"
        ]
       ],
       "shape": {
        "columns": 4,
        "rows": 9
       }
      },
      "text/html": [
       "<div>\n",
       "<style scoped>\n",
       "    .dataframe tbody tr th:only-of-type {\n",
       "        vertical-align: middle;\n",
       "    }\n",
       "\n",
       "    .dataframe tbody tr th {\n",
       "        vertical-align: top;\n",
       "    }\n",
       "\n",
       "    .dataframe thead th {\n",
       "        text-align: right;\n",
       "    }\n",
       "</style>\n",
       "<table border=\"1\" class=\"dataframe\">\n",
       "  <thead>\n",
       "    <tr style=\"text-align: right;\">\n",
       "      <th></th>\n",
       "      <th>Store</th>\n",
       "      <th>Product</th>\n",
       "      <th>Sales</th>\n",
       "      <th>Date</th>\n",
       "    </tr>\n",
       "  </thead>\n",
       "  <tbody>\n",
       "    <tr>\n",
       "      <th>0</th>\n",
       "      <td>A</td>\n",
       "      <td>Apples</td>\n",
       "      <td>100</td>\n",
       "      <td>2024-07-01</td>\n",
       "    </tr>\n",
       "    <tr>\n",
       "      <th>1</th>\n",
       "      <td>A</td>\n",
       "      <td>Oranges</td>\n",
       "      <td>150</td>\n",
       "      <td>2024-07-02</td>\n",
       "    </tr>\n",
       "    <tr>\n",
       "      <th>2</th>\n",
       "      <td>B</td>\n",
       "      <td>Apples</td>\n",
       "      <td>200</td>\n",
       "      <td>2024-07-01</td>\n",
       "    </tr>\n",
       "    <tr>\n",
       "      <th>3</th>\n",
       "      <td>B</td>\n",
       "      <td>Oranges</td>\n",
       "      <td>120</td>\n",
       "      <td>2024-07-02</td>\n",
       "    </tr>\n",
       "    <tr>\n",
       "      <th>4</th>\n",
       "      <td>C</td>\n",
       "      <td>Apples</td>\n",
       "      <td>90</td>\n",
       "      <td>2024-07-01</td>\n",
       "    </tr>\n",
       "    <tr>\n",
       "      <th>5</th>\n",
       "      <td>C</td>\n",
       "      <td>Oranges</td>\n",
       "      <td>80</td>\n",
       "      <td>2024-07-02</td>\n",
       "    </tr>\n",
       "    <tr>\n",
       "      <th>6</th>\n",
       "      <td>A</td>\n",
       "      <td>Apples</td>\n",
       "      <td>130</td>\n",
       "      <td>2024-07-03</td>\n",
       "    </tr>\n",
       "    <tr>\n",
       "      <th>7</th>\n",
       "      <td>B</td>\n",
       "      <td>Oranges</td>\n",
       "      <td>110</td>\n",
       "      <td>2024-07-03</td>\n",
       "    </tr>\n",
       "    <tr>\n",
       "      <th>8</th>\n",
       "      <td>C</td>\n",
       "      <td>Apples</td>\n",
       "      <td>95</td>\n",
       "      <td>2024-07-03</td>\n",
       "    </tr>\n",
       "  </tbody>\n",
       "</table>\n",
       "</div>"
      ],
      "text/plain": [
       "  Store  Product  Sales       Date\n",
       "0     A   Apples    100 2024-07-01\n",
       "1     A  Oranges    150 2024-07-02\n",
       "2     B   Apples    200 2024-07-01\n",
       "3     B  Oranges    120 2024-07-02\n",
       "4     C   Apples     90 2024-07-01\n",
       "5     C  Oranges     80 2024-07-02\n",
       "6     A   Apples    130 2024-07-03\n",
       "7     B  Oranges    110 2024-07-03\n",
       "8     C   Apples     95 2024-07-03"
      ]
     },
     "metadata": {},
     "output_type": "display_data"
    }
   ],
   "source": [
    "import pandas as pd\n",
    "\n",
    "# Sample sales data\n",
    "data = {\n",
    "    'Store': ['A', 'A', 'B', 'B', 'C', 'C', 'A', 'B', 'C'],\n",
    "    'Product': ['Apples', 'Oranges', 'Apples', 'Oranges', 'Apples', 'Oranges', 'Apples', 'Oranges', 'Apples'],\n",
    "    'Sales': [100, 150, 200, 120, 90, 80, 130, 110, 95],\n",
    "    'Date': ['2024-07-01', '2024-07-02', '2024-07-01', '2024-07-02', '2024-07-01', '2024-07-02', '2024-07-03', '2024-07-03', '2024-07-03']\n",
    "}\n",
    "\n",
    "# Create DataFrame\n",
    "df = pd.DataFrame(data)\n",
    "\n",
    "# Convert Date column to datetime\n",
    "df['Date'] = pd.to_datetime(df['Date'])\n",
    "\n",
    "# Display the DataFrame\n",
    "display(df)\n"
   ]
  },
  {
   "cell_type": "markdown",
   "id": "219952ce-9c00-4a75-a1ef-fee017d1d0e0",
   "metadata": {},
   "source": [
    "#### Task\n",
    "\n",
    "1. Create a new column `Year` that extracts the year from the `Date` column.\n",
    "2. Create a new column `Month` that extracts the month from the `Date` column.\n",
    "3. Create a new column `Day` that extracts the day from the `Date` column.\n",
    "4. Create a new column `Day_of_Week` that extracts the day of the week from the `Date` column."
   ]
  },
  {
   "cell_type": "code",
   "execution_count": 12,
   "id": "ca71ea50-63d5-49fa-9e76-37d7477e8f9e",
   "metadata": {},
   "outputs": [
    {
     "data": {
      "application/vnd.microsoft.datawrangler.viewer.v0+json": {
       "columns": [
        {
         "name": "index",
         "rawType": "int64",
         "type": "integer"
        },
        {
         "name": "Store",
         "rawType": "object",
         "type": "string"
        },
        {
         "name": "Product",
         "rawType": "object",
         "type": "string"
        },
        {
         "name": "Sales",
         "rawType": "int64",
         "type": "integer"
        },
        {
         "name": "Date",
         "rawType": "datetime64[ns]",
         "type": "datetime"
        },
        {
         "name": "Year",
         "rawType": "int32",
         "type": "integer"
        },
        {
         "name": "Month",
         "rawType": "int32",
         "type": "integer"
        },
        {
         "name": "Day",
         "rawType": "int32",
         "type": "integer"
        },
        {
         "name": "Day_of_Week",
         "rawType": "object",
         "type": "string"
        }
       ],
       "ref": "ab9a6fc0-d532-4c04-8c26-9381234700fe",
       "rows": [
        [
         "0",
         "A",
         "Apples",
         "100",
         "2024-07-01 00:00:00",
         "2024",
         "7",
         "1",
         "Monday"
        ],
        [
         "1",
         "A",
         "Oranges",
         "150",
         "2024-07-02 00:00:00",
         "2024",
         "7",
         "2",
         "Tuesday"
        ],
        [
         "2",
         "B",
         "Apples",
         "200",
         "2024-07-01 00:00:00",
         "2024",
         "7",
         "1",
         "Monday"
        ],
        [
         "3",
         "B",
         "Oranges",
         "120",
         "2024-07-02 00:00:00",
         "2024",
         "7",
         "2",
         "Tuesday"
        ],
        [
         "4",
         "C",
         "Apples",
         "90",
         "2024-07-01 00:00:00",
         "2024",
         "7",
         "1",
         "Monday"
        ],
        [
         "5",
         "C",
         "Oranges",
         "80",
         "2024-07-02 00:00:00",
         "2024",
         "7",
         "2",
         "Tuesday"
        ],
        [
         "6",
         "A",
         "Apples",
         "130",
         "2024-07-03 00:00:00",
         "2024",
         "7",
         "3",
         "Wednesday"
        ],
        [
         "7",
         "B",
         "Oranges",
         "110",
         "2024-07-03 00:00:00",
         "2024",
         "7",
         "3",
         "Wednesday"
        ],
        [
         "8",
         "C",
         "Apples",
         "95",
         "2024-07-03 00:00:00",
         "2024",
         "7",
         "3",
         "Wednesday"
        ]
       ],
       "shape": {
        "columns": 8,
        "rows": 9
       }
      },
      "text/html": [
       "<div>\n",
       "<style scoped>\n",
       "    .dataframe tbody tr th:only-of-type {\n",
       "        vertical-align: middle;\n",
       "    }\n",
       "\n",
       "    .dataframe tbody tr th {\n",
       "        vertical-align: top;\n",
       "    }\n",
       "\n",
       "    .dataframe thead th {\n",
       "        text-align: right;\n",
       "    }\n",
       "</style>\n",
       "<table border=\"1\" class=\"dataframe\">\n",
       "  <thead>\n",
       "    <tr style=\"text-align: right;\">\n",
       "      <th></th>\n",
       "      <th>Store</th>\n",
       "      <th>Product</th>\n",
       "      <th>Sales</th>\n",
       "      <th>Date</th>\n",
       "      <th>Year</th>\n",
       "      <th>Month</th>\n",
       "      <th>Day</th>\n",
       "      <th>Day_of_Week</th>\n",
       "    </tr>\n",
       "  </thead>\n",
       "  <tbody>\n",
       "    <tr>\n",
       "      <th>0</th>\n",
       "      <td>A</td>\n",
       "      <td>Apples</td>\n",
       "      <td>100</td>\n",
       "      <td>2024-07-01</td>\n",
       "      <td>2024</td>\n",
       "      <td>7</td>\n",
       "      <td>1</td>\n",
       "      <td>Monday</td>\n",
       "    </tr>\n",
       "    <tr>\n",
       "      <th>1</th>\n",
       "      <td>A</td>\n",
       "      <td>Oranges</td>\n",
       "      <td>150</td>\n",
       "      <td>2024-07-02</td>\n",
       "      <td>2024</td>\n",
       "      <td>7</td>\n",
       "      <td>2</td>\n",
       "      <td>Tuesday</td>\n",
       "    </tr>\n",
       "    <tr>\n",
       "      <th>2</th>\n",
       "      <td>B</td>\n",
       "      <td>Apples</td>\n",
       "      <td>200</td>\n",
       "      <td>2024-07-01</td>\n",
       "      <td>2024</td>\n",
       "      <td>7</td>\n",
       "      <td>1</td>\n",
       "      <td>Monday</td>\n",
       "    </tr>\n",
       "    <tr>\n",
       "      <th>3</th>\n",
       "      <td>B</td>\n",
       "      <td>Oranges</td>\n",
       "      <td>120</td>\n",
       "      <td>2024-07-02</td>\n",
       "      <td>2024</td>\n",
       "      <td>7</td>\n",
       "      <td>2</td>\n",
       "      <td>Tuesday</td>\n",
       "    </tr>\n",
       "    <tr>\n",
       "      <th>4</th>\n",
       "      <td>C</td>\n",
       "      <td>Apples</td>\n",
       "      <td>90</td>\n",
       "      <td>2024-07-01</td>\n",
       "      <td>2024</td>\n",
       "      <td>7</td>\n",
       "      <td>1</td>\n",
       "      <td>Monday</td>\n",
       "    </tr>\n",
       "    <tr>\n",
       "      <th>5</th>\n",
       "      <td>C</td>\n",
       "      <td>Oranges</td>\n",
       "      <td>80</td>\n",
       "      <td>2024-07-02</td>\n",
       "      <td>2024</td>\n",
       "      <td>7</td>\n",
       "      <td>2</td>\n",
       "      <td>Tuesday</td>\n",
       "    </tr>\n",
       "    <tr>\n",
       "      <th>6</th>\n",
       "      <td>A</td>\n",
       "      <td>Apples</td>\n",
       "      <td>130</td>\n",
       "      <td>2024-07-03</td>\n",
       "      <td>2024</td>\n",
       "      <td>7</td>\n",
       "      <td>3</td>\n",
       "      <td>Wednesday</td>\n",
       "    </tr>\n",
       "    <tr>\n",
       "      <th>7</th>\n",
       "      <td>B</td>\n",
       "      <td>Oranges</td>\n",
       "      <td>110</td>\n",
       "      <td>2024-07-03</td>\n",
       "      <td>2024</td>\n",
       "      <td>7</td>\n",
       "      <td>3</td>\n",
       "      <td>Wednesday</td>\n",
       "    </tr>\n",
       "    <tr>\n",
       "      <th>8</th>\n",
       "      <td>C</td>\n",
       "      <td>Apples</td>\n",
       "      <td>95</td>\n",
       "      <td>2024-07-03</td>\n",
       "      <td>2024</td>\n",
       "      <td>7</td>\n",
       "      <td>3</td>\n",
       "      <td>Wednesday</td>\n",
       "    </tr>\n",
       "  </tbody>\n",
       "</table>\n",
       "</div>"
      ],
      "text/plain": [
       "  Store  Product  Sales       Date  Year  Month  Day Day_of_Week\n",
       "0     A   Apples    100 2024-07-01  2024      7    1      Monday\n",
       "1     A  Oranges    150 2024-07-02  2024      7    2     Tuesday\n",
       "2     B   Apples    200 2024-07-01  2024      7    1      Monday\n",
       "3     B  Oranges    120 2024-07-02  2024      7    2     Tuesday\n",
       "4     C   Apples     90 2024-07-01  2024      7    1      Monday\n",
       "5     C  Oranges     80 2024-07-02  2024      7    2     Tuesday\n",
       "6     A   Apples    130 2024-07-03  2024      7    3   Wednesday\n",
       "7     B  Oranges    110 2024-07-03  2024      7    3   Wednesday\n",
       "8     C   Apples     95 2024-07-03  2024      7    3   Wednesday"
      ]
     },
     "metadata": {},
     "output_type": "display_data"
    }
   ],
   "source": [
    "# Extract year from Date\n",
    "df['Year'] = df['Date'].dt.year\n",
    "\n",
    "# Extract month from Date\n",
    "df['Month'] = df['Date'].dt.month\n",
    "\n",
    "# Extract day from Date\n",
    "df['Day'] = df['Date'].dt.day\n",
    "\n",
    "# Extract day of the week from Date\n",
    "df['Day_of_Week'] = df['Date'].dt.day_name()\n",
    "\n",
    "# Display the DataFrame with new datetime features\n",
    "display(df)\n"
   ]
  },
  {
   "cell_type": "markdown",
   "id": "743f3494-bfdf-4ffb-969c-0ee442681779",
   "metadata": {},
   "source": [
    "### Activity 6: Stacking Data\n",
    "\n",
    "#### Description\n",
    "\n",
    "In this activity, students will practice stacking data using the `stack` method in Pandas. They will transform a DataFrame from a wide format to a long format.\n",
    "\n",
    "#### Title\n",
    "\n",
    "**Stacking Sales Data**"
   ]
  },
  {
   "cell_type": "code",
   "execution_count": 13,
   "id": "991d54ca-1f34-469f-b0b6-a3bcbecc0c40",
   "metadata": {},
   "outputs": [
    {
     "data": {
      "application/vnd.microsoft.datawrangler.viewer.v0+json": {
       "columns": [
        {
         "name": "index",
         "rawType": "int64",
         "type": "integer"
        },
        {
         "name": "Store",
         "rawType": "object",
         "type": "string"
        },
        {
         "name": "Product_A_Sales",
         "rawType": "int64",
         "type": "integer"
        },
        {
         "name": "Product_B_Sales",
         "rawType": "int64",
         "type": "integer"
        }
       ],
       "ref": "415a52f1-769f-4f66-aafa-53545080b61c",
       "rows": [
        [
         "0",
         "A",
         "100",
         "130"
        ],
        [
         "1",
         "A",
         "150",
         "160"
        ],
        [
         "2",
         "B",
         "200",
         "210"
        ],
        [
         "3",
         "B",
         "120",
         "130"
        ],
        [
         "4",
         "C",
         "90",
         "95"
        ],
        [
         "5",
         "C",
         "80",
         "85"
        ]
       ],
       "shape": {
        "columns": 3,
        "rows": 6
       }
      },
      "text/html": [
       "<div>\n",
       "<style scoped>\n",
       "    .dataframe tbody tr th:only-of-type {\n",
       "        vertical-align: middle;\n",
       "    }\n",
       "\n",
       "    .dataframe tbody tr th {\n",
       "        vertical-align: top;\n",
       "    }\n",
       "\n",
       "    .dataframe thead th {\n",
       "        text-align: right;\n",
       "    }\n",
       "</style>\n",
       "<table border=\"1\" class=\"dataframe\">\n",
       "  <thead>\n",
       "    <tr style=\"text-align: right;\">\n",
       "      <th></th>\n",
       "      <th>Store</th>\n",
       "      <th>Product_A_Sales</th>\n",
       "      <th>Product_B_Sales</th>\n",
       "    </tr>\n",
       "  </thead>\n",
       "  <tbody>\n",
       "    <tr>\n",
       "      <th>0</th>\n",
       "      <td>A</td>\n",
       "      <td>100</td>\n",
       "      <td>130</td>\n",
       "    </tr>\n",
       "    <tr>\n",
       "      <th>1</th>\n",
       "      <td>A</td>\n",
       "      <td>150</td>\n",
       "      <td>160</td>\n",
       "    </tr>\n",
       "    <tr>\n",
       "      <th>2</th>\n",
       "      <td>B</td>\n",
       "      <td>200</td>\n",
       "      <td>210</td>\n",
       "    </tr>\n",
       "    <tr>\n",
       "      <th>3</th>\n",
       "      <td>B</td>\n",
       "      <td>120</td>\n",
       "      <td>130</td>\n",
       "    </tr>\n",
       "    <tr>\n",
       "      <th>4</th>\n",
       "      <td>C</td>\n",
       "      <td>90</td>\n",
       "      <td>95</td>\n",
       "    </tr>\n",
       "    <tr>\n",
       "      <th>5</th>\n",
       "      <td>C</td>\n",
       "      <td>80</td>\n",
       "      <td>85</td>\n",
       "    </tr>\n",
       "  </tbody>\n",
       "</table>\n",
       "</div>"
      ],
      "text/plain": [
       "  Store  Product_A_Sales  Product_B_Sales\n",
       "0     A              100              130\n",
       "1     A              150              160\n",
       "2     B              200              210\n",
       "3     B              120              130\n",
       "4     C               90               95\n",
       "5     C               80               85"
      ]
     },
     "metadata": {},
     "output_type": "display_data"
    }
   ],
   "source": [
    "import pandas as pd\n",
    "\n",
    "# Sample sales data\n",
    "data = {\n",
    "    'Store': ['A', 'A', 'B', 'B', 'C', 'C'],\n",
    "    'Product_A_Sales': [100, 150, 200, 120, 90, 80],\n",
    "    'Product_B_Sales': [130, 160, 210, 130, 95, 85]\n",
    "}\n",
    "\n",
    "# Create DataFrame\n",
    "df = pd.DataFrame(data)\n",
    "\n",
    "# Display the DataFrame\n",
    "display(df)\n"
   ]
  },
  {
   "cell_type": "markdown",
   "id": "0df9f8b6-7f35-4f5a-94d7-d19a5cedd563",
   "metadata": {},
   "source": [
    "#### Task\n",
    "\n",
    "1. Stack the sales data so that the products are in a single column and their corresponding sales in another column.\n",
    "2. Reset the index after stacking to convert the resulting Series back to a DataFrame."
   ]
  },
  {
   "cell_type": "code",
   "execution_count": 14,
   "id": "adb65d48-0bc3-4897-a5a2-c2d673a0580c",
   "metadata": {},
   "outputs": [
    {
     "data": {
      "application/vnd.microsoft.datawrangler.viewer.v0+json": {
       "columns": [
        {
         "name": "index",
         "rawType": "int64",
         "type": "integer"
        },
        {
         "name": "Store",
         "rawType": "object",
         "type": "string"
        },
        {
         "name": "Product",
         "rawType": "object",
         "type": "string"
        },
        {
         "name": "Sales",
         "rawType": "int64",
         "type": "integer"
        }
       ],
       "ref": "63bb793d-cc0b-4494-bb9a-92f21f002027",
       "rows": [
        [
         "0",
         "A",
         "Product_A_Sales",
         "100"
        ],
        [
         "1",
         "A",
         "Product_B_Sales",
         "130"
        ],
        [
         "2",
         "A",
         "Product_A_Sales",
         "150"
        ],
        [
         "3",
         "A",
         "Product_B_Sales",
         "160"
        ],
        [
         "4",
         "B",
         "Product_A_Sales",
         "200"
        ],
        [
         "5",
         "B",
         "Product_B_Sales",
         "210"
        ],
        [
         "6",
         "B",
         "Product_A_Sales",
         "120"
        ],
        [
         "7",
         "B",
         "Product_B_Sales",
         "130"
        ],
        [
         "8",
         "C",
         "Product_A_Sales",
         "90"
        ],
        [
         "9",
         "C",
         "Product_B_Sales",
         "95"
        ],
        [
         "10",
         "C",
         "Product_A_Sales",
         "80"
        ],
        [
         "11",
         "C",
         "Product_B_Sales",
         "85"
        ]
       ],
       "shape": {
        "columns": 3,
        "rows": 12
       }
      },
      "text/html": [
       "<div>\n",
       "<style scoped>\n",
       "    .dataframe tbody tr th:only-of-type {\n",
       "        vertical-align: middle;\n",
       "    }\n",
       "\n",
       "    .dataframe tbody tr th {\n",
       "        vertical-align: top;\n",
       "    }\n",
       "\n",
       "    .dataframe thead th {\n",
       "        text-align: right;\n",
       "    }\n",
       "</style>\n",
       "<table border=\"1\" class=\"dataframe\">\n",
       "  <thead>\n",
       "    <tr style=\"text-align: right;\">\n",
       "      <th></th>\n",
       "      <th>Store</th>\n",
       "      <th>Product</th>\n",
       "      <th>Sales</th>\n",
       "    </tr>\n",
       "  </thead>\n",
       "  <tbody>\n",
       "    <tr>\n",
       "      <th>0</th>\n",
       "      <td>A</td>\n",
       "      <td>Product_A_Sales</td>\n",
       "      <td>100</td>\n",
       "    </tr>\n",
       "    <tr>\n",
       "      <th>1</th>\n",
       "      <td>A</td>\n",
       "      <td>Product_B_Sales</td>\n",
       "      <td>130</td>\n",
       "    </tr>\n",
       "    <tr>\n",
       "      <th>2</th>\n",
       "      <td>A</td>\n",
       "      <td>Product_A_Sales</td>\n",
       "      <td>150</td>\n",
       "    </tr>\n",
       "    <tr>\n",
       "      <th>3</th>\n",
       "      <td>A</td>\n",
       "      <td>Product_B_Sales</td>\n",
       "      <td>160</td>\n",
       "    </tr>\n",
       "    <tr>\n",
       "      <th>4</th>\n",
       "      <td>B</td>\n",
       "      <td>Product_A_Sales</td>\n",
       "      <td>200</td>\n",
       "    </tr>\n",
       "    <tr>\n",
       "      <th>5</th>\n",
       "      <td>B</td>\n",
       "      <td>Product_B_Sales</td>\n",
       "      <td>210</td>\n",
       "    </tr>\n",
       "    <tr>\n",
       "      <th>6</th>\n",
       "      <td>B</td>\n",
       "      <td>Product_A_Sales</td>\n",
       "      <td>120</td>\n",
       "    </tr>\n",
       "    <tr>\n",
       "      <th>7</th>\n",
       "      <td>B</td>\n",
       "      <td>Product_B_Sales</td>\n",
       "      <td>130</td>\n",
       "    </tr>\n",
       "    <tr>\n",
       "      <th>8</th>\n",
       "      <td>C</td>\n",
       "      <td>Product_A_Sales</td>\n",
       "      <td>90</td>\n",
       "    </tr>\n",
       "    <tr>\n",
       "      <th>9</th>\n",
       "      <td>C</td>\n",
       "      <td>Product_B_Sales</td>\n",
       "      <td>95</td>\n",
       "    </tr>\n",
       "    <tr>\n",
       "      <th>10</th>\n",
       "      <td>C</td>\n",
       "      <td>Product_A_Sales</td>\n",
       "      <td>80</td>\n",
       "    </tr>\n",
       "    <tr>\n",
       "      <th>11</th>\n",
       "      <td>C</td>\n",
       "      <td>Product_B_Sales</td>\n",
       "      <td>85</td>\n",
       "    </tr>\n",
       "  </tbody>\n",
       "</table>\n",
       "</div>"
      ],
      "text/plain": [
       "   Store          Product  Sales\n",
       "0      A  Product_A_Sales    100\n",
       "1      A  Product_B_Sales    130\n",
       "2      A  Product_A_Sales    150\n",
       "3      A  Product_B_Sales    160\n",
       "4      B  Product_A_Sales    200\n",
       "5      B  Product_B_Sales    210\n",
       "6      B  Product_A_Sales    120\n",
       "7      B  Product_B_Sales    130\n",
       "8      C  Product_A_Sales     90\n",
       "9      C  Product_B_Sales     95\n",
       "10     C  Product_A_Sales     80\n",
       "11     C  Product_B_Sales     85"
      ]
     },
     "metadata": {},
     "output_type": "display_data"
    }
   ],
   "source": [
    "# Stack the data\n",
    "# Hint: Watch the indexes. Try to understand how Stack works \n",
    "stacked_df = df.set_index(['Store']).stack().reset_index()\n",
    "\n",
    "# Rename the columns for better understanding\n",
    "stacked_df.columns = ['Store', 'Product', 'Sales']\n",
    "\n",
    "# Display the stacked DataFrame\n",
    "display(stacked_df)\n"
   ]
  },
  {
   "cell_type": "markdown",
   "id": "1771528a-5da1-407e-95a8-84b6807dc8bc",
   "metadata": {},
   "source": [
    "### Activity 7: Melting Data\n",
    "\n",
    "#### Description\n",
    "\n",
    "In this activity, students will practice melting data using the `melt` method in Pandas. They will transform a DataFrame from a wide format to a long format, focusing on converting multiple columns into a single column.\n",
    "\n",
    "#### Title\n",
    "\n",
    "**Melting Sales Data**"
   ]
  },
  {
   "cell_type": "code",
   "execution_count": 15,
   "id": "17dc9fa3-4736-411d-a652-1a561c923626",
   "metadata": {},
   "outputs": [
    {
     "data": {
      "application/vnd.microsoft.datawrangler.viewer.v0+json": {
       "columns": [
        {
         "name": "index",
         "rawType": "int64",
         "type": "integer"
        },
        {
         "name": "Store",
         "rawType": "object",
         "type": "string"
        },
        {
         "name": "Product_A_Sales",
         "rawType": "int64",
         "type": "integer"
        },
        {
         "name": "Product_B_Sales",
         "rawType": "int64",
         "type": "integer"
        }
       ],
       "ref": "1943e342-a79f-4266-94e6-fe7afed6abf9",
       "rows": [
        [
         "0",
         "A",
         "100",
         "130"
        ],
        [
         "1",
         "A",
         "150",
         "160"
        ],
        [
         "2",
         "B",
         "200",
         "210"
        ],
        [
         "3",
         "B",
         "120",
         "130"
        ],
        [
         "4",
         "C",
         "90",
         "95"
        ],
        [
         "5",
         "C",
         "80",
         "85"
        ]
       ],
       "shape": {
        "columns": 3,
        "rows": 6
       }
      },
      "text/html": [
       "<div>\n",
       "<style scoped>\n",
       "    .dataframe tbody tr th:only-of-type {\n",
       "        vertical-align: middle;\n",
       "    }\n",
       "\n",
       "    .dataframe tbody tr th {\n",
       "        vertical-align: top;\n",
       "    }\n",
       "\n",
       "    .dataframe thead th {\n",
       "        text-align: right;\n",
       "    }\n",
       "</style>\n",
       "<table border=\"1\" class=\"dataframe\">\n",
       "  <thead>\n",
       "    <tr style=\"text-align: right;\">\n",
       "      <th></th>\n",
       "      <th>Store</th>\n",
       "      <th>Product_A_Sales</th>\n",
       "      <th>Product_B_Sales</th>\n",
       "    </tr>\n",
       "  </thead>\n",
       "  <tbody>\n",
       "    <tr>\n",
       "      <th>0</th>\n",
       "      <td>A</td>\n",
       "      <td>100</td>\n",
       "      <td>130</td>\n",
       "    </tr>\n",
       "    <tr>\n",
       "      <th>1</th>\n",
       "      <td>A</td>\n",
       "      <td>150</td>\n",
       "      <td>160</td>\n",
       "    </tr>\n",
       "    <tr>\n",
       "      <th>2</th>\n",
       "      <td>B</td>\n",
       "      <td>200</td>\n",
       "      <td>210</td>\n",
       "    </tr>\n",
       "    <tr>\n",
       "      <th>3</th>\n",
       "      <td>B</td>\n",
       "      <td>120</td>\n",
       "      <td>130</td>\n",
       "    </tr>\n",
       "    <tr>\n",
       "      <th>4</th>\n",
       "      <td>C</td>\n",
       "      <td>90</td>\n",
       "      <td>95</td>\n",
       "    </tr>\n",
       "    <tr>\n",
       "      <th>5</th>\n",
       "      <td>C</td>\n",
       "      <td>80</td>\n",
       "      <td>85</td>\n",
       "    </tr>\n",
       "  </tbody>\n",
       "</table>\n",
       "</div>"
      ],
      "text/plain": [
       "  Store  Product_A_Sales  Product_B_Sales\n",
       "0     A              100              130\n",
       "1     A              150              160\n",
       "2     B              200              210\n",
       "3     B              120              130\n",
       "4     C               90               95\n",
       "5     C               80               85"
      ]
     },
     "metadata": {},
     "output_type": "display_data"
    }
   ],
   "source": [
    "import pandas as pd\n",
    "\n",
    "# Sample sales data\n",
    "data = {\n",
    "    'Store': ['A', 'A', 'B', 'B', 'C', 'C'],\n",
    "    'Product_A_Sales': [100, 150, 200, 120, 90, 80],\n",
    "    'Product_B_Sales': [130, 160, 210, 130, 95, 85]\n",
    "}\n",
    "\n",
    "# Create DataFrame\n",
    "df = pd.DataFrame(data)\n",
    "\n",
    "# Display the DataFrame\n",
    "display(df)\n"
   ]
  },
  {
   "cell_type": "markdown",
   "id": "e8b131b7-6304-47dd-b9e8-e79b77a338d4",
   "metadata": {},
   "source": [
    "#### Task\n",
    "\n",
    "1. Melt the data so that `Product_A_Sales` and `Product_B_Sales` columns are converted into a single `Product` column with their respective sales in another column `Sales`."
   ]
  },
  {
   "cell_type": "code",
   "execution_count": 16,
   "id": "5b24b78d-fc15-46ca-9d7c-4c4c6d09ee1f",
   "metadata": {},
   "outputs": [
    {
     "data": {
      "application/vnd.microsoft.datawrangler.viewer.v0+json": {
       "columns": [
        {
         "name": "index",
         "rawType": "int64",
         "type": "integer"
        },
        {
         "name": "Store",
         "rawType": "object",
         "type": "string"
        },
        {
         "name": "Product",
         "rawType": "object",
         "type": "string"
        },
        {
         "name": "Sales",
         "rawType": "int64",
         "type": "integer"
        }
       ],
       "ref": "287a8ca6-aca3-47da-8298-6198da02dddc",
       "rows": [
        [
         "0",
         "A",
         "Product_A_Sales",
         "100"
        ],
        [
         "1",
         "A",
         "Product_A_Sales",
         "150"
        ],
        [
         "2",
         "B",
         "Product_A_Sales",
         "200"
        ],
        [
         "3",
         "B",
         "Product_A_Sales",
         "120"
        ],
        [
         "4",
         "C",
         "Product_A_Sales",
         "90"
        ],
        [
         "5",
         "C",
         "Product_A_Sales",
         "80"
        ],
        [
         "6",
         "A",
         "Product_B_Sales",
         "130"
        ],
        [
         "7",
         "A",
         "Product_B_Sales",
         "160"
        ],
        [
         "8",
         "B",
         "Product_B_Sales",
         "210"
        ],
        [
         "9",
         "B",
         "Product_B_Sales",
         "130"
        ],
        [
         "10",
         "C",
         "Product_B_Sales",
         "95"
        ],
        [
         "11",
         "C",
         "Product_B_Sales",
         "85"
        ]
       ],
       "shape": {
        "columns": 3,
        "rows": 12
       }
      },
      "text/html": [
       "<div>\n",
       "<style scoped>\n",
       "    .dataframe tbody tr th:only-of-type {\n",
       "        vertical-align: middle;\n",
       "    }\n",
       "\n",
       "    .dataframe tbody tr th {\n",
       "        vertical-align: top;\n",
       "    }\n",
       "\n",
       "    .dataframe thead th {\n",
       "        text-align: right;\n",
       "    }\n",
       "</style>\n",
       "<table border=\"1\" class=\"dataframe\">\n",
       "  <thead>\n",
       "    <tr style=\"text-align: right;\">\n",
       "      <th></th>\n",
       "      <th>Store</th>\n",
       "      <th>Product</th>\n",
       "      <th>Sales</th>\n",
       "    </tr>\n",
       "  </thead>\n",
       "  <tbody>\n",
       "    <tr>\n",
       "      <th>0</th>\n",
       "      <td>A</td>\n",
       "      <td>Product_A_Sales</td>\n",
       "      <td>100</td>\n",
       "    </tr>\n",
       "    <tr>\n",
       "      <th>1</th>\n",
       "      <td>A</td>\n",
       "      <td>Product_A_Sales</td>\n",
       "      <td>150</td>\n",
       "    </tr>\n",
       "    <tr>\n",
       "      <th>2</th>\n",
       "      <td>B</td>\n",
       "      <td>Product_A_Sales</td>\n",
       "      <td>200</td>\n",
       "    </tr>\n",
       "    <tr>\n",
       "      <th>3</th>\n",
       "      <td>B</td>\n",
       "      <td>Product_A_Sales</td>\n",
       "      <td>120</td>\n",
       "    </tr>\n",
       "    <tr>\n",
       "      <th>4</th>\n",
       "      <td>C</td>\n",
       "      <td>Product_A_Sales</td>\n",
       "      <td>90</td>\n",
       "    </tr>\n",
       "    <tr>\n",
       "      <th>5</th>\n",
       "      <td>C</td>\n",
       "      <td>Product_A_Sales</td>\n",
       "      <td>80</td>\n",
       "    </tr>\n",
       "    <tr>\n",
       "      <th>6</th>\n",
       "      <td>A</td>\n",
       "      <td>Product_B_Sales</td>\n",
       "      <td>130</td>\n",
       "    </tr>\n",
       "    <tr>\n",
       "      <th>7</th>\n",
       "      <td>A</td>\n",
       "      <td>Product_B_Sales</td>\n",
       "      <td>160</td>\n",
       "    </tr>\n",
       "    <tr>\n",
       "      <th>8</th>\n",
       "      <td>B</td>\n",
       "      <td>Product_B_Sales</td>\n",
       "      <td>210</td>\n",
       "    </tr>\n",
       "    <tr>\n",
       "      <th>9</th>\n",
       "      <td>B</td>\n",
       "      <td>Product_B_Sales</td>\n",
       "      <td>130</td>\n",
       "    </tr>\n",
       "    <tr>\n",
       "      <th>10</th>\n",
       "      <td>C</td>\n",
       "      <td>Product_B_Sales</td>\n",
       "      <td>95</td>\n",
       "    </tr>\n",
       "    <tr>\n",
       "      <th>11</th>\n",
       "      <td>C</td>\n",
       "      <td>Product_B_Sales</td>\n",
       "      <td>85</td>\n",
       "    </tr>\n",
       "  </tbody>\n",
       "</table>\n",
       "</div>"
      ],
      "text/plain": [
       "   Store          Product  Sales\n",
       "0      A  Product_A_Sales    100\n",
       "1      A  Product_A_Sales    150\n",
       "2      B  Product_A_Sales    200\n",
       "3      B  Product_A_Sales    120\n",
       "4      C  Product_A_Sales     90\n",
       "5      C  Product_A_Sales     80\n",
       "6      A  Product_B_Sales    130\n",
       "7      A  Product_B_Sales    160\n",
       "8      B  Product_B_Sales    210\n",
       "9      B  Product_B_Sales    130\n",
       "10     C  Product_B_Sales     95\n",
       "11     C  Product_B_Sales     85"
      ]
     },
     "metadata": {},
     "output_type": "display_data"
    }
   ],
   "source": [
    "# Melt the data\n",
    "melted_df = pd.melt(df, id_vars=['Store'], value_vars=['Product_A_Sales', 'Product_B_Sales'], \n",
    "                     var_name='Product', value_name='Sales')\n",
    "\n",
    "# Display the melted DataFrame\n",
    "display(melted_df)"
   ]
  },
  {
   "cell_type": "markdown",
   "id": "ff1c91d7-6096-45e0-b47d-1032e7390379",
   "metadata": {},
   "source": [
    "### Activity 8: Pivoting Data\n",
    "\n",
    "#### Description\n",
    "\n",
    "In this activity, students will practice pivoting data using the `pivot` method in Pandas. They will transform a DataFrame from a long format to a wide format, focusing on creating a matrix-like structure.\n",
    "\n",
    "#### Title\n",
    "\n",
    "**Pivoting Sales Data**"
   ]
  },
  {
   "cell_type": "code",
   "execution_count": 17,
   "id": "f77b4996-99d5-4aee-b762-22e8c1e1b6ab",
   "metadata": {},
   "outputs": [
    {
     "data": {
      "application/vnd.microsoft.datawrangler.viewer.v0+json": {
       "columns": [
        {
         "name": "index",
         "rawType": "int64",
         "type": "integer"
        },
        {
         "name": "Store",
         "rawType": "object",
         "type": "string"
        },
        {
         "name": "Product",
         "rawType": "object",
         "type": "string"
        },
        {
         "name": "Sales",
         "rawType": "int64",
         "type": "integer"
        }
       ],
       "ref": "ba1062c7-e441-41fb-87ed-25e62bfc69ba",
       "rows": [
        [
         "0",
         "A",
         "Product_A",
         "100"
        ],
        [
         "1",
         "A",
         "Product_B",
         "150"
        ],
        [
         "2",
         "B",
         "Product_A",
         "200"
        ],
        [
         "3",
         "B",
         "Product_B",
         "120"
        ],
        [
         "4",
         "C",
         "Product_A",
         "90"
        ],
        [
         "5",
         "C",
         "Product_B",
         "80"
        ]
       ],
       "shape": {
        "columns": 3,
        "rows": 6
       }
      },
      "text/html": [
       "<div>\n",
       "<style scoped>\n",
       "    .dataframe tbody tr th:only-of-type {\n",
       "        vertical-align: middle;\n",
       "    }\n",
       "\n",
       "    .dataframe tbody tr th {\n",
       "        vertical-align: top;\n",
       "    }\n",
       "\n",
       "    .dataframe thead th {\n",
       "        text-align: right;\n",
       "    }\n",
       "</style>\n",
       "<table border=\"1\" class=\"dataframe\">\n",
       "  <thead>\n",
       "    <tr style=\"text-align: right;\">\n",
       "      <th></th>\n",
       "      <th>Store</th>\n",
       "      <th>Product</th>\n",
       "      <th>Sales</th>\n",
       "    </tr>\n",
       "  </thead>\n",
       "  <tbody>\n",
       "    <tr>\n",
       "      <th>0</th>\n",
       "      <td>A</td>\n",
       "      <td>Product_A</td>\n",
       "      <td>100</td>\n",
       "    </tr>\n",
       "    <tr>\n",
       "      <th>1</th>\n",
       "      <td>A</td>\n",
       "      <td>Product_B</td>\n",
       "      <td>150</td>\n",
       "    </tr>\n",
       "    <tr>\n",
       "      <th>2</th>\n",
       "      <td>B</td>\n",
       "      <td>Product_A</td>\n",
       "      <td>200</td>\n",
       "    </tr>\n",
       "    <tr>\n",
       "      <th>3</th>\n",
       "      <td>B</td>\n",
       "      <td>Product_B</td>\n",
       "      <td>120</td>\n",
       "    </tr>\n",
       "    <tr>\n",
       "      <th>4</th>\n",
       "      <td>C</td>\n",
       "      <td>Product_A</td>\n",
       "      <td>90</td>\n",
       "    </tr>\n",
       "    <tr>\n",
       "      <th>5</th>\n",
       "      <td>C</td>\n",
       "      <td>Product_B</td>\n",
       "      <td>80</td>\n",
       "    </tr>\n",
       "  </tbody>\n",
       "</table>\n",
       "</div>"
      ],
      "text/plain": [
       "  Store    Product  Sales\n",
       "0     A  Product_A    100\n",
       "1     A  Product_B    150\n",
       "2     B  Product_A    200\n",
       "3     B  Product_B    120\n",
       "4     C  Product_A     90\n",
       "5     C  Product_B     80"
      ]
     },
     "metadata": {},
     "output_type": "display_data"
    }
   ],
   "source": [
    "import pandas as pd\n",
    "\n",
    "# Sample melted sales data\n",
    "data = {\n",
    "    'Store': ['A', 'A', 'B', 'B', 'C', 'C'],\n",
    "    'Product': ['Product_A', 'Product_B', 'Product_A', 'Product_B', 'Product_A', 'Product_B'],\n",
    "    'Sales': [100, 150, 200, 120, 90, 80]\n",
    "}\n",
    "\n",
    "# Create DataFrame\n",
    "df = pd.DataFrame(data)\n",
    "\n",
    "# Display the DataFrame\n",
    "display(df)\n"
   ]
  },
  {
   "cell_type": "markdown",
   "id": "c468beee-0fa0-4088-b912-46f0359e8fc6",
   "metadata": {},
   "source": [
    "#### Task\n",
    "\n",
    "1. Pivot the data so that the `Product` column becomes columns, and their corresponding sales are the values.\n",
    "2. Use the `Store` column as the index."
   ]
  },
  {
   "cell_type": "code",
   "execution_count": 18,
   "id": "b8c0fe9f-5def-4e68-8781-88ed84832f71",
   "metadata": {},
   "outputs": [
    {
     "data": {
      "application/vnd.microsoft.datawrangler.viewer.v0+json": {
       "columns": [
        {
         "name": "index",
         "rawType": "int64",
         "type": "integer"
        },
        {
         "name": "Store",
         "rawType": "object",
         "type": "string"
        },
        {
         "name": "Product_A",
         "rawType": "int64",
         "type": "integer"
        },
        {
         "name": "Product_B",
         "rawType": "int64",
         "type": "integer"
        }
       ],
       "ref": "0e043dc8-b023-4ced-8419-96964cbfb254",
       "rows": [
        [
         "0",
         "A",
         "100",
         "150"
        ],
        [
         "1",
         "B",
         "200",
         "120"
        ],
        [
         "2",
         "C",
         "90",
         "80"
        ]
       ],
       "shape": {
        "columns": 3,
        "rows": 3
       }
      },
      "text/html": [
       "<div>\n",
       "<style scoped>\n",
       "    .dataframe tbody tr th:only-of-type {\n",
       "        vertical-align: middle;\n",
       "    }\n",
       "\n",
       "    .dataframe tbody tr th {\n",
       "        vertical-align: top;\n",
       "    }\n",
       "\n",
       "    .dataframe thead th {\n",
       "        text-align: right;\n",
       "    }\n",
       "</style>\n",
       "<table border=\"1\" class=\"dataframe\">\n",
       "  <thead>\n",
       "    <tr style=\"text-align: right;\">\n",
       "      <th>Product</th>\n",
       "      <th>Store</th>\n",
       "      <th>Product_A</th>\n",
       "      <th>Product_B</th>\n",
       "    </tr>\n",
       "  </thead>\n",
       "  <tbody>\n",
       "    <tr>\n",
       "      <th>0</th>\n",
       "      <td>A</td>\n",
       "      <td>100</td>\n",
       "      <td>150</td>\n",
       "    </tr>\n",
       "    <tr>\n",
       "      <th>1</th>\n",
       "      <td>B</td>\n",
       "      <td>200</td>\n",
       "      <td>120</td>\n",
       "    </tr>\n",
       "    <tr>\n",
       "      <th>2</th>\n",
       "      <td>C</td>\n",
       "      <td>90</td>\n",
       "      <td>80</td>\n",
       "    </tr>\n",
       "  </tbody>\n",
       "</table>\n",
       "</div>"
      ],
      "text/plain": [
       "Product Store  Product_A  Product_B\n",
       "0           A        100        150\n",
       "1           B        200        120\n",
       "2           C         90         80"
      ]
     },
     "metadata": {},
     "output_type": "display_data"
    }
   ],
   "source": [
    "# Pivot the data\n",
    "pivoted_df = df.pivot(index='Store', columns='Product', values='Sales').reset_index()\n",
    "\n",
    "# Display the pivoted DataFrame\n",
    "display(pivoted_df)\n"
   ]
  },
  {
   "cell_type": "markdown",
   "id": "0527177b-bffa-488a-ab42-a833688431d9",
   "metadata": {},
   "source": [
    "### Activity 9: Using `nlargest` and `nsmallest`\n",
    "\n",
    "#### Description\n",
    "\n",
    "In this activity, students will practice using the `nlargest` and `nsmallest` methods in Pandas. They will identify the top and bottom sales records in the dataset.\n",
    "\n",
    "#### Title\n",
    "\n",
    "**Finding Top and Bottom Sales Records**"
   ]
  },
  {
   "cell_type": "code",
   "execution_count": 19,
   "id": "277d4c22-7255-4192-a869-f620610c8832",
   "metadata": {},
   "outputs": [
    {
     "data": {
      "application/vnd.microsoft.datawrangler.viewer.v0+json": {
       "columns": [
        {
         "name": "index",
         "rawType": "int64",
         "type": "integer"
        },
        {
         "name": "Store",
         "rawType": "object",
         "type": "string"
        },
        {
         "name": "Product",
         "rawType": "object",
         "type": "string"
        },
        {
         "name": "Sales",
         "rawType": "int64",
         "type": "integer"
        },
        {
         "name": "Date",
         "rawType": "object",
         "type": "string"
        }
       ],
       "ref": "27cd2a22-d6bd-464a-adfe-37662eeff7b4",
       "rows": [
        [
         "0",
         "A",
         "Apples",
         "100",
         "2024-07-01"
        ],
        [
         "1",
         "A",
         "Oranges",
         "150",
         "2024-07-02"
        ],
        [
         "2",
         "B",
         "Apples",
         "200",
         "2024-07-01"
        ],
        [
         "3",
         "B",
         "Oranges",
         "120",
         "2024-07-02"
        ],
        [
         "4",
         "C",
         "Apples",
         "90",
         "2024-07-01"
        ],
        [
         "5",
         "C",
         "Oranges",
         "80",
         "2024-07-02"
        ],
        [
         "6",
         "A",
         "Apples",
         "130",
         "2024-07-03"
        ],
        [
         "7",
         "B",
         "Oranges",
         "110",
         "2024-07-03"
        ],
        [
         "8",
         "C",
         "Apples",
         "95",
         "2024-07-03"
        ]
       ],
       "shape": {
        "columns": 4,
        "rows": 9
       }
      },
      "text/html": [
       "<div>\n",
       "<style scoped>\n",
       "    .dataframe tbody tr th:only-of-type {\n",
       "        vertical-align: middle;\n",
       "    }\n",
       "\n",
       "    .dataframe tbody tr th {\n",
       "        vertical-align: top;\n",
       "    }\n",
       "\n",
       "    .dataframe thead th {\n",
       "        text-align: right;\n",
       "    }\n",
       "</style>\n",
       "<table border=\"1\" class=\"dataframe\">\n",
       "  <thead>\n",
       "    <tr style=\"text-align: right;\">\n",
       "      <th></th>\n",
       "      <th>Store</th>\n",
       "      <th>Product</th>\n",
       "      <th>Sales</th>\n",
       "      <th>Date</th>\n",
       "    </tr>\n",
       "  </thead>\n",
       "  <tbody>\n",
       "    <tr>\n",
       "      <th>0</th>\n",
       "      <td>A</td>\n",
       "      <td>Apples</td>\n",
       "      <td>100</td>\n",
       "      <td>2024-07-01</td>\n",
       "    </tr>\n",
       "    <tr>\n",
       "      <th>1</th>\n",
       "      <td>A</td>\n",
       "      <td>Oranges</td>\n",
       "      <td>150</td>\n",
       "      <td>2024-07-02</td>\n",
       "    </tr>\n",
       "    <tr>\n",
       "      <th>2</th>\n",
       "      <td>B</td>\n",
       "      <td>Apples</td>\n",
       "      <td>200</td>\n",
       "      <td>2024-07-01</td>\n",
       "    </tr>\n",
       "    <tr>\n",
       "      <th>3</th>\n",
       "      <td>B</td>\n",
       "      <td>Oranges</td>\n",
       "      <td>120</td>\n",
       "      <td>2024-07-02</td>\n",
       "    </tr>\n",
       "    <tr>\n",
       "      <th>4</th>\n",
       "      <td>C</td>\n",
       "      <td>Apples</td>\n",
       "      <td>90</td>\n",
       "      <td>2024-07-01</td>\n",
       "    </tr>\n",
       "    <tr>\n",
       "      <th>5</th>\n",
       "      <td>C</td>\n",
       "      <td>Oranges</td>\n",
       "      <td>80</td>\n",
       "      <td>2024-07-02</td>\n",
       "    </tr>\n",
       "    <tr>\n",
       "      <th>6</th>\n",
       "      <td>A</td>\n",
       "      <td>Apples</td>\n",
       "      <td>130</td>\n",
       "      <td>2024-07-03</td>\n",
       "    </tr>\n",
       "    <tr>\n",
       "      <th>7</th>\n",
       "      <td>B</td>\n",
       "      <td>Oranges</td>\n",
       "      <td>110</td>\n",
       "      <td>2024-07-03</td>\n",
       "    </tr>\n",
       "    <tr>\n",
       "      <th>8</th>\n",
       "      <td>C</td>\n",
       "      <td>Apples</td>\n",
       "      <td>95</td>\n",
       "      <td>2024-07-03</td>\n",
       "    </tr>\n",
       "  </tbody>\n",
       "</table>\n",
       "</div>"
      ],
      "text/plain": [
       "  Store  Product  Sales        Date\n",
       "0     A   Apples    100  2024-07-01\n",
       "1     A  Oranges    150  2024-07-02\n",
       "2     B   Apples    200  2024-07-01\n",
       "3     B  Oranges    120  2024-07-02\n",
       "4     C   Apples     90  2024-07-01\n",
       "5     C  Oranges     80  2024-07-02\n",
       "6     A   Apples    130  2024-07-03\n",
       "7     B  Oranges    110  2024-07-03\n",
       "8     C   Apples     95  2024-07-03"
      ]
     },
     "metadata": {},
     "output_type": "display_data"
    }
   ],
   "source": [
    "import pandas as pd\n",
    "\n",
    "# Sample sales data\n",
    "data = {\n",
    "    'Store': ['A', 'A', 'B', 'B', 'C', 'C', 'A', 'B', 'C'],\n",
    "    'Product': ['Apples', 'Oranges', 'Apples', 'Oranges', 'Apples', 'Oranges', 'Apples', 'Oranges', 'Apples'],\n",
    "    'Sales': [100, 150, 200, 120, 90, 80, 130, 110, 95],\n",
    "    'Date': ['2024-07-01', '2024-07-02', '2024-07-01', '2024-07-02', '2024-07-01', '2024-07-02', '2024-07-03', '2024-07-03', '2024-07-03']\n",
    "}\n",
    "\n",
    "# Create DataFrame\n",
    "df = pd.DataFrame(data)\n",
    "\n",
    "# Display the DataFrame\n",
    "display(df)\n"
   ]
  },
  {
   "cell_type": "markdown",
   "id": "3f35645c-fe3a-4b75-8464-00b61f33ee32",
   "metadata": {},
   "source": [
    "#### Task\n",
    "\n",
    "1. Find the top 3 sales records using `nlargest`.\n",
    "2. Find the bottom 3 sales records using `nsmallest`."
   ]
  },
  {
   "cell_type": "code",
   "execution_count": 20,
   "id": "763f48be-8b54-4fa5-9ea0-e92c1a2b8db4",
   "metadata": {},
   "outputs": [
    {
     "data": {
      "application/vnd.microsoft.datawrangler.viewer.v0+json": {
       "columns": [
        {
         "name": "index",
         "rawType": "int64",
         "type": "integer"
        },
        {
         "name": "Store",
         "rawType": "object",
         "type": "string"
        },
        {
         "name": "Product",
         "rawType": "object",
         "type": "string"
        },
        {
         "name": "Sales",
         "rawType": "int64",
         "type": "integer"
        },
        {
         "name": "Date",
         "rawType": "object",
         "type": "string"
        }
       ],
       "ref": "eae2e702-0f65-4f5f-8db8-44343f200453",
       "rows": [
        [
         "2",
         "B",
         "Apples",
         "200",
         "2024-07-01"
        ],
        [
         "1",
         "A",
         "Oranges",
         "150",
         "2024-07-02"
        ],
        [
         "6",
         "A",
         "Apples",
         "130",
         "2024-07-03"
        ]
       ],
       "shape": {
        "columns": 4,
        "rows": 3
       }
      },
      "text/html": [
       "<div>\n",
       "<style scoped>\n",
       "    .dataframe tbody tr th:only-of-type {\n",
       "        vertical-align: middle;\n",
       "    }\n",
       "\n",
       "    .dataframe tbody tr th {\n",
       "        vertical-align: top;\n",
       "    }\n",
       "\n",
       "    .dataframe thead th {\n",
       "        text-align: right;\n",
       "    }\n",
       "</style>\n",
       "<table border=\"1\" class=\"dataframe\">\n",
       "  <thead>\n",
       "    <tr style=\"text-align: right;\">\n",
       "      <th></th>\n",
       "      <th>Store</th>\n",
       "      <th>Product</th>\n",
       "      <th>Sales</th>\n",
       "      <th>Date</th>\n",
       "    </tr>\n",
       "  </thead>\n",
       "  <tbody>\n",
       "    <tr>\n",
       "      <th>2</th>\n",
       "      <td>B</td>\n",
       "      <td>Apples</td>\n",
       "      <td>200</td>\n",
       "      <td>2024-07-01</td>\n",
       "    </tr>\n",
       "    <tr>\n",
       "      <th>1</th>\n",
       "      <td>A</td>\n",
       "      <td>Oranges</td>\n",
       "      <td>150</td>\n",
       "      <td>2024-07-02</td>\n",
       "    </tr>\n",
       "    <tr>\n",
       "      <th>6</th>\n",
       "      <td>A</td>\n",
       "      <td>Apples</td>\n",
       "      <td>130</td>\n",
       "      <td>2024-07-03</td>\n",
       "    </tr>\n",
       "  </tbody>\n",
       "</table>\n",
       "</div>"
      ],
      "text/plain": [
       "  Store  Product  Sales        Date\n",
       "2     B   Apples    200  2024-07-01\n",
       "1     A  Oranges    150  2024-07-02\n",
       "6     A   Apples    130  2024-07-03"
      ]
     },
     "metadata": {},
     "output_type": "display_data"
    },
    {
     "data": {
      "application/vnd.microsoft.datawrangler.viewer.v0+json": {
       "columns": [
        {
         "name": "index",
         "rawType": "int64",
         "type": "integer"
        },
        {
         "name": "Store",
         "rawType": "object",
         "type": "string"
        },
        {
         "name": "Product",
         "rawType": "object",
         "type": "string"
        },
        {
         "name": "Sales",
         "rawType": "int64",
         "type": "integer"
        },
        {
         "name": "Date",
         "rawType": "object",
         "type": "string"
        }
       ],
       "ref": "b52b6b97-4a2c-4afc-8e8d-509592111d6c",
       "rows": [
        [
         "5",
         "C",
         "Oranges",
         "80",
         "2024-07-02"
        ],
        [
         "4",
         "C",
         "Apples",
         "90",
         "2024-07-01"
        ],
        [
         "8",
         "C",
         "Apples",
         "95",
         "2024-07-03"
        ]
       ],
       "shape": {
        "columns": 4,
        "rows": 3
       }
      },
      "text/html": [
       "<div>\n",
       "<style scoped>\n",
       "    .dataframe tbody tr th:only-of-type {\n",
       "        vertical-align: middle;\n",
       "    }\n",
       "\n",
       "    .dataframe tbody tr th {\n",
       "        vertical-align: top;\n",
       "    }\n",
       "\n",
       "    .dataframe thead th {\n",
       "        text-align: right;\n",
       "    }\n",
       "</style>\n",
       "<table border=\"1\" class=\"dataframe\">\n",
       "  <thead>\n",
       "    <tr style=\"text-align: right;\">\n",
       "      <th></th>\n",
       "      <th>Store</th>\n",
       "      <th>Product</th>\n",
       "      <th>Sales</th>\n",
       "      <th>Date</th>\n",
       "    </tr>\n",
       "  </thead>\n",
       "  <tbody>\n",
       "    <tr>\n",
       "      <th>5</th>\n",
       "      <td>C</td>\n",
       "      <td>Oranges</td>\n",
       "      <td>80</td>\n",
       "      <td>2024-07-02</td>\n",
       "    </tr>\n",
       "    <tr>\n",
       "      <th>4</th>\n",
       "      <td>C</td>\n",
       "      <td>Apples</td>\n",
       "      <td>90</td>\n",
       "      <td>2024-07-01</td>\n",
       "    </tr>\n",
       "    <tr>\n",
       "      <th>8</th>\n",
       "      <td>C</td>\n",
       "      <td>Apples</td>\n",
       "      <td>95</td>\n",
       "      <td>2024-07-03</td>\n",
       "    </tr>\n",
       "  </tbody>\n",
       "</table>\n",
       "</div>"
      ],
      "text/plain": [
       "  Store  Product  Sales        Date\n",
       "5     C  Oranges     80  2024-07-02\n",
       "4     C   Apples     90  2024-07-01\n",
       "8     C   Apples     95  2024-07-03"
      ]
     },
     "metadata": {},
     "output_type": "display_data"
    }
   ],
   "source": [
    "# Find the top 3 sales records\n",
    "top_3_sales = df.nlargest(3, 'Sales')\n",
    "\n",
    "# Find the bottom 3 sales records\n",
    "bottom_3_sales = df.nsmallest(3, 'Sales')\n",
    "\n",
    "# Display the top 3 sales records\n",
    "display(top_3_sales)\n",
    "\n",
    "# Display the bottom 3 sales records\n",
    "display(bottom_3_sales)\n"
   ]
  },
  {
   "cell_type": "markdown",
   "id": "cfd64947-81d0-41ef-aa56-c59ac0d8f7a6",
   "metadata": {},
   "source": [
    "### Activity 10: Ranking Data\n",
    "\n",
    "#### Description\n",
    "\n",
    "In this activity, students will practice ranking data using the `rank` method in Pandas. They will create a new column that ranks the sales within each store.\n",
    "\n",
    "#### Title\n",
    "\n",
    "**Ranking Sales Data**"
   ]
  },
  {
   "cell_type": "code",
   "execution_count": 21,
   "id": "d0b727a0-139b-4992-afc8-bd388539565d",
   "metadata": {},
   "outputs": [
    {
     "data": {
      "application/vnd.microsoft.datawrangler.viewer.v0+json": {
       "columns": [
        {
         "name": "index",
         "rawType": "int64",
         "type": "integer"
        },
        {
         "name": "Store",
         "rawType": "object",
         "type": "string"
        },
        {
         "name": "Product",
         "rawType": "object",
         "type": "string"
        },
        {
         "name": "Sales",
         "rawType": "int64",
         "type": "integer"
        },
        {
         "name": "Date",
         "rawType": "object",
         "type": "string"
        }
       ],
       "ref": "b308ba60-f0e9-4b59-a4a1-8d95a3a1de81",
       "rows": [
        [
         "0",
         "A",
         "Apples",
         "100",
         "2024-07-01"
        ],
        [
         "1",
         "A",
         "Oranges",
         "150",
         "2024-07-02"
        ],
        [
         "2",
         "B",
         "Apples",
         "200",
         "2024-07-01"
        ],
        [
         "3",
         "B",
         "Oranges",
         "120",
         "2024-07-02"
        ],
        [
         "4",
         "C",
         "Apples",
         "90",
         "2024-07-01"
        ],
        [
         "5",
         "C",
         "Oranges",
         "80",
         "2024-07-02"
        ],
        [
         "6",
         "A",
         "Apples",
         "130",
         "2024-07-03"
        ],
        [
         "7",
         "B",
         "Oranges",
         "110",
         "2024-07-03"
        ],
        [
         "8",
         "C",
         "Apples",
         "95",
         "2024-07-03"
        ]
       ],
       "shape": {
        "columns": 4,
        "rows": 9
       }
      },
      "text/html": [
       "<div>\n",
       "<style scoped>\n",
       "    .dataframe tbody tr th:only-of-type {\n",
       "        vertical-align: middle;\n",
       "    }\n",
       "\n",
       "    .dataframe tbody tr th {\n",
       "        vertical-align: top;\n",
       "    }\n",
       "\n",
       "    .dataframe thead th {\n",
       "        text-align: right;\n",
       "    }\n",
       "</style>\n",
       "<table border=\"1\" class=\"dataframe\">\n",
       "  <thead>\n",
       "    <tr style=\"text-align: right;\">\n",
       "      <th></th>\n",
       "      <th>Store</th>\n",
       "      <th>Product</th>\n",
       "      <th>Sales</th>\n",
       "      <th>Date</th>\n",
       "    </tr>\n",
       "  </thead>\n",
       "  <tbody>\n",
       "    <tr>\n",
       "      <th>0</th>\n",
       "      <td>A</td>\n",
       "      <td>Apples</td>\n",
       "      <td>100</td>\n",
       "      <td>2024-07-01</td>\n",
       "    </tr>\n",
       "    <tr>\n",
       "      <th>1</th>\n",
       "      <td>A</td>\n",
       "      <td>Oranges</td>\n",
       "      <td>150</td>\n",
       "      <td>2024-07-02</td>\n",
       "    </tr>\n",
       "    <tr>\n",
       "      <th>2</th>\n",
       "      <td>B</td>\n",
       "      <td>Apples</td>\n",
       "      <td>200</td>\n",
       "      <td>2024-07-01</td>\n",
       "    </tr>\n",
       "    <tr>\n",
       "      <th>3</th>\n",
       "      <td>B</td>\n",
       "      <td>Oranges</td>\n",
       "      <td>120</td>\n",
       "      <td>2024-07-02</td>\n",
       "    </tr>\n",
       "    <tr>\n",
       "      <th>4</th>\n",
       "      <td>C</td>\n",
       "      <td>Apples</td>\n",
       "      <td>90</td>\n",
       "      <td>2024-07-01</td>\n",
       "    </tr>\n",
       "    <tr>\n",
       "      <th>5</th>\n",
       "      <td>C</td>\n",
       "      <td>Oranges</td>\n",
       "      <td>80</td>\n",
       "      <td>2024-07-02</td>\n",
       "    </tr>\n",
       "    <tr>\n",
       "      <th>6</th>\n",
       "      <td>A</td>\n",
       "      <td>Apples</td>\n",
       "      <td>130</td>\n",
       "      <td>2024-07-03</td>\n",
       "    </tr>\n",
       "    <tr>\n",
       "      <th>7</th>\n",
       "      <td>B</td>\n",
       "      <td>Oranges</td>\n",
       "      <td>110</td>\n",
       "      <td>2024-07-03</td>\n",
       "    </tr>\n",
       "    <tr>\n",
       "      <th>8</th>\n",
       "      <td>C</td>\n",
       "      <td>Apples</td>\n",
       "      <td>95</td>\n",
       "      <td>2024-07-03</td>\n",
       "    </tr>\n",
       "  </tbody>\n",
       "</table>\n",
       "</div>"
      ],
      "text/plain": [
       "  Store  Product  Sales        Date\n",
       "0     A   Apples    100  2024-07-01\n",
       "1     A  Oranges    150  2024-07-02\n",
       "2     B   Apples    200  2024-07-01\n",
       "3     B  Oranges    120  2024-07-02\n",
       "4     C   Apples     90  2024-07-01\n",
       "5     C  Oranges     80  2024-07-02\n",
       "6     A   Apples    130  2024-07-03\n",
       "7     B  Oranges    110  2024-07-03\n",
       "8     C   Apples     95  2024-07-03"
      ]
     },
     "metadata": {},
     "output_type": "display_data"
    }
   ],
   "source": [
    "import pandas as pd\n",
    "\n",
    "# Sample sales data\n",
    "data = {\n",
    "    'Store': ['A', 'A', 'B', 'B', 'C', 'C', 'A', 'B', 'C'],\n",
    "    'Product': ['Apples', 'Oranges', 'Apples', 'Oranges', 'Apples', 'Oranges', 'Apples', 'Oranges', 'Apples'],\n",
    "    'Sales': [100, 150, 200, 120, 90, 80, 130, 110, 95],\n",
    "    'Date': ['2024-07-01', '2024-07-02', '2024-07-01', '2024-07-02', '2024-07-01', '2024-07-02', '2024-07-03', '2024-07-03', '2024-07-03']\n",
    "}\n",
    "\n",
    "# Create DataFrame\n",
    "df = pd.DataFrame(data)\n",
    "\n",
    "# Display the DataFrame\n",
    "display(df)\n"
   ]
  },
  {
   "cell_type": "markdown",
   "id": "f19b5b4a-f629-4b5e-aa6c-207fb71f0b63",
   "metadata": {},
   "source": [
    "#### Task\n",
    "\n",
    "1. Create a new column `Sales_Rank` that ranks the sales within each store in descending order."
   ]
  },
  {
   "cell_type": "code",
   "execution_count": 22,
   "id": "510bde03-277e-4738-a39b-ab1561bde3fe",
   "metadata": {},
   "outputs": [
    {
     "data": {
      "application/vnd.microsoft.datawrangler.viewer.v0+json": {
       "columns": [
        {
         "name": "index",
         "rawType": "int64",
         "type": "integer"
        },
        {
         "name": "Store",
         "rawType": "object",
         "type": "string"
        },
        {
         "name": "Product",
         "rawType": "object",
         "type": "string"
        },
        {
         "name": "Sales",
         "rawType": "int64",
         "type": "integer"
        },
        {
         "name": "Date",
         "rawType": "object",
         "type": "string"
        },
        {
         "name": "Sales_Rank",
         "rawType": "float64",
         "type": "float"
        }
       ],
       "ref": "5204f969-8afa-4628-a9ce-357716338afb",
       "rows": [
        [
         "0",
         "A",
         "Apples",
         "100",
         "2024-07-01",
         "3.0"
        ],
        [
         "1",
         "A",
         "Oranges",
         "150",
         "2024-07-02",
         "1.0"
        ],
        [
         "2",
         "B",
         "Apples",
         "200",
         "2024-07-01",
         "1.0"
        ],
        [
         "3",
         "B",
         "Oranges",
         "120",
         "2024-07-02",
         "2.0"
        ],
        [
         "4",
         "C",
         "Apples",
         "90",
         "2024-07-01",
         "2.0"
        ],
        [
         "5",
         "C",
         "Oranges",
         "80",
         "2024-07-02",
         "3.0"
        ],
        [
         "6",
         "A",
         "Apples",
         "130",
         "2024-07-03",
         "2.0"
        ],
        [
         "7",
         "B",
         "Oranges",
         "110",
         "2024-07-03",
         "3.0"
        ],
        [
         "8",
         "C",
         "Apples",
         "95",
         "2024-07-03",
         "1.0"
        ]
       ],
       "shape": {
        "columns": 5,
        "rows": 9
       }
      },
      "text/html": [
       "<div>\n",
       "<style scoped>\n",
       "    .dataframe tbody tr th:only-of-type {\n",
       "        vertical-align: middle;\n",
       "    }\n",
       "\n",
       "    .dataframe tbody tr th {\n",
       "        vertical-align: top;\n",
       "    }\n",
       "\n",
       "    .dataframe thead th {\n",
       "        text-align: right;\n",
       "    }\n",
       "</style>\n",
       "<table border=\"1\" class=\"dataframe\">\n",
       "  <thead>\n",
       "    <tr style=\"text-align: right;\">\n",
       "      <th></th>\n",
       "      <th>Store</th>\n",
       "      <th>Product</th>\n",
       "      <th>Sales</th>\n",
       "      <th>Date</th>\n",
       "      <th>Sales_Rank</th>\n",
       "    </tr>\n",
       "  </thead>\n",
       "  <tbody>\n",
       "    <tr>\n",
       "      <th>0</th>\n",
       "      <td>A</td>\n",
       "      <td>Apples</td>\n",
       "      <td>100</td>\n",
       "      <td>2024-07-01</td>\n",
       "      <td>3.0</td>\n",
       "    </tr>\n",
       "    <tr>\n",
       "      <th>1</th>\n",
       "      <td>A</td>\n",
       "      <td>Oranges</td>\n",
       "      <td>150</td>\n",
       "      <td>2024-07-02</td>\n",
       "      <td>1.0</td>\n",
       "    </tr>\n",
       "    <tr>\n",
       "      <th>2</th>\n",
       "      <td>B</td>\n",
       "      <td>Apples</td>\n",
       "      <td>200</td>\n",
       "      <td>2024-07-01</td>\n",
       "      <td>1.0</td>\n",
       "    </tr>\n",
       "    <tr>\n",
       "      <th>3</th>\n",
       "      <td>B</td>\n",
       "      <td>Oranges</td>\n",
       "      <td>120</td>\n",
       "      <td>2024-07-02</td>\n",
       "      <td>2.0</td>\n",
       "    </tr>\n",
       "    <tr>\n",
       "      <th>4</th>\n",
       "      <td>C</td>\n",
       "      <td>Apples</td>\n",
       "      <td>90</td>\n",
       "      <td>2024-07-01</td>\n",
       "      <td>2.0</td>\n",
       "    </tr>\n",
       "    <tr>\n",
       "      <th>5</th>\n",
       "      <td>C</td>\n",
       "      <td>Oranges</td>\n",
       "      <td>80</td>\n",
       "      <td>2024-07-02</td>\n",
       "      <td>3.0</td>\n",
       "    </tr>\n",
       "    <tr>\n",
       "      <th>6</th>\n",
       "      <td>A</td>\n",
       "      <td>Apples</td>\n",
       "      <td>130</td>\n",
       "      <td>2024-07-03</td>\n",
       "      <td>2.0</td>\n",
       "    </tr>\n",
       "    <tr>\n",
       "      <th>7</th>\n",
       "      <td>B</td>\n",
       "      <td>Oranges</td>\n",
       "      <td>110</td>\n",
       "      <td>2024-07-03</td>\n",
       "      <td>3.0</td>\n",
       "    </tr>\n",
       "    <tr>\n",
       "      <th>8</th>\n",
       "      <td>C</td>\n",
       "      <td>Apples</td>\n",
       "      <td>95</td>\n",
       "      <td>2024-07-03</td>\n",
       "      <td>1.0</td>\n",
       "    </tr>\n",
       "  </tbody>\n",
       "</table>\n",
       "</div>"
      ],
      "text/plain": [
       "  Store  Product  Sales        Date  Sales_Rank\n",
       "0     A   Apples    100  2024-07-01         3.0\n",
       "1     A  Oranges    150  2024-07-02         1.0\n",
       "2     B   Apples    200  2024-07-01         1.0\n",
       "3     B  Oranges    120  2024-07-02         2.0\n",
       "4     C   Apples     90  2024-07-01         2.0\n",
       "5     C  Oranges     80  2024-07-02         3.0\n",
       "6     A   Apples    130  2024-07-03         2.0\n",
       "7     B  Oranges    110  2024-07-03         3.0\n",
       "8     C   Apples     95  2024-07-03         1.0"
      ]
     },
     "metadata": {},
     "output_type": "display_data"
    }
   ],
   "source": [
    "# Rank the sales within each store\n",
    "df['Sales_Rank'] = df.groupby('Store')['Sales'].rank(method='min', ascending=False)\n",
    "\n",
    "# Display the DataFrame with the Sales_Rank column\n",
    "display(df)\n"
   ]
  },
  {
   "cell_type": "markdown",
   "id": "205c3516-1b82-4cba-8124-1a7a9ea11100",
   "metadata": {},
   "source": [
    "### Activity 11: Binning Data\n",
    "\n",
    "#### Description\n",
    "\n",
    "In this activity, students will practice binning data using the `cut` method in Pandas. They will create bins for the sales data and categorize the sales into different levels.\n",
    "\n",
    "#### Title\n",
    "\n",
    "**Binning Sales Data**"
   ]
  },
  {
   "cell_type": "code",
   "execution_count": 23,
   "id": "112ab778-986e-4c11-b320-ae927c3885a6",
   "metadata": {},
   "outputs": [
    {
     "data": {
      "application/vnd.microsoft.datawrangler.viewer.v0+json": {
       "columns": [
        {
         "name": "index",
         "rawType": "int64",
         "type": "integer"
        },
        {
         "name": "Store",
         "rawType": "object",
         "type": "string"
        },
        {
         "name": "Product",
         "rawType": "object",
         "type": "string"
        },
        {
         "name": "Sales",
         "rawType": "int64",
         "type": "integer"
        },
        {
         "name": "Date",
         "rawType": "object",
         "type": "string"
        }
       ],
       "ref": "1adab178-7af0-426b-8c5d-4f3f58eae865",
       "rows": [
        [
         "0",
         "A",
         "Apples",
         "100",
         "2024-07-01"
        ],
        [
         "1",
         "A",
         "Oranges",
         "150",
         "2024-07-02"
        ],
        [
         "2",
         "B",
         "Apples",
         "200",
         "2024-07-01"
        ],
        [
         "3",
         "B",
         "Oranges",
         "120",
         "2024-07-02"
        ],
        [
         "4",
         "C",
         "Apples",
         "90",
         "2024-07-01"
        ],
        [
         "5",
         "C",
         "Oranges",
         "80",
         "2024-07-02"
        ],
        [
         "6",
         "A",
         "Apples",
         "130",
         "2024-07-03"
        ],
        [
         "7",
         "B",
         "Oranges",
         "110",
         "2024-07-03"
        ],
        [
         "8",
         "C",
         "Apples",
         "95",
         "2024-07-03"
        ]
       ],
       "shape": {
        "columns": 4,
        "rows": 9
       }
      },
      "text/html": [
       "<div>\n",
       "<style scoped>\n",
       "    .dataframe tbody tr th:only-of-type {\n",
       "        vertical-align: middle;\n",
       "    }\n",
       "\n",
       "    .dataframe tbody tr th {\n",
       "        vertical-align: top;\n",
       "    }\n",
       "\n",
       "    .dataframe thead th {\n",
       "        text-align: right;\n",
       "    }\n",
       "</style>\n",
       "<table border=\"1\" class=\"dataframe\">\n",
       "  <thead>\n",
       "    <tr style=\"text-align: right;\">\n",
       "      <th></th>\n",
       "      <th>Store</th>\n",
       "      <th>Product</th>\n",
       "      <th>Sales</th>\n",
       "      <th>Date</th>\n",
       "    </tr>\n",
       "  </thead>\n",
       "  <tbody>\n",
       "    <tr>\n",
       "      <th>0</th>\n",
       "      <td>A</td>\n",
       "      <td>Apples</td>\n",
       "      <td>100</td>\n",
       "      <td>2024-07-01</td>\n",
       "    </tr>\n",
       "    <tr>\n",
       "      <th>1</th>\n",
       "      <td>A</td>\n",
       "      <td>Oranges</td>\n",
       "      <td>150</td>\n",
       "      <td>2024-07-02</td>\n",
       "    </tr>\n",
       "    <tr>\n",
       "      <th>2</th>\n",
       "      <td>B</td>\n",
       "      <td>Apples</td>\n",
       "      <td>200</td>\n",
       "      <td>2024-07-01</td>\n",
       "    </tr>\n",
       "    <tr>\n",
       "      <th>3</th>\n",
       "      <td>B</td>\n",
       "      <td>Oranges</td>\n",
       "      <td>120</td>\n",
       "      <td>2024-07-02</td>\n",
       "    </tr>\n",
       "    <tr>\n",
       "      <th>4</th>\n",
       "      <td>C</td>\n",
       "      <td>Apples</td>\n",
       "      <td>90</td>\n",
       "      <td>2024-07-01</td>\n",
       "    </tr>\n",
       "    <tr>\n",
       "      <th>5</th>\n",
       "      <td>C</td>\n",
       "      <td>Oranges</td>\n",
       "      <td>80</td>\n",
       "      <td>2024-07-02</td>\n",
       "    </tr>\n",
       "    <tr>\n",
       "      <th>6</th>\n",
       "      <td>A</td>\n",
       "      <td>Apples</td>\n",
       "      <td>130</td>\n",
       "      <td>2024-07-03</td>\n",
       "    </tr>\n",
       "    <tr>\n",
       "      <th>7</th>\n",
       "      <td>B</td>\n",
       "      <td>Oranges</td>\n",
       "      <td>110</td>\n",
       "      <td>2024-07-03</td>\n",
       "    </tr>\n",
       "    <tr>\n",
       "      <th>8</th>\n",
       "      <td>C</td>\n",
       "      <td>Apples</td>\n",
       "      <td>95</td>\n",
       "      <td>2024-07-03</td>\n",
       "    </tr>\n",
       "  </tbody>\n",
       "</table>\n",
       "</div>"
      ],
      "text/plain": [
       "  Store  Product  Sales        Date\n",
       "0     A   Apples    100  2024-07-01\n",
       "1     A  Oranges    150  2024-07-02\n",
       "2     B   Apples    200  2024-07-01\n",
       "3     B  Oranges    120  2024-07-02\n",
       "4     C   Apples     90  2024-07-01\n",
       "5     C  Oranges     80  2024-07-02\n",
       "6     A   Apples    130  2024-07-03\n",
       "7     B  Oranges    110  2024-07-03\n",
       "8     C   Apples     95  2024-07-03"
      ]
     },
     "metadata": {},
     "output_type": "display_data"
    }
   ],
   "source": [
    "import pandas as pd\n",
    "\n",
    "# Sample sales data\n",
    "data = {\n",
    "    'Store': ['A', 'A', 'B', 'B', 'C', 'C', 'A', 'B', 'C'],\n",
    "    'Product': ['Apples', 'Oranges', 'Apples', 'Oranges', 'Apples', 'Oranges', 'Apples', 'Oranges', 'Apples'],\n",
    "    'Sales': [100, 150, 200, 120, 90, 80, 130, 110, 95],\n",
    "    'Date': ['2024-07-01', '2024-07-02', '2024-07-01', '2024-07-02', '2024-07-01', '2024-07-02', '2024-07-03', '2024-07-03', '2024-07-03']\n",
    "}\n",
    "\n",
    "# Create DataFrame\n",
    "df = pd.DataFrame(data)\n",
    "\n",
    "# Display the DataFrame\n",
    "display(df)\n"
   ]
  },
  {
   "cell_type": "markdown",
   "id": "34a93439-7c16-447f-95f9-8dea9bce4933",
   "metadata": {},
   "source": [
    "#### Task\n",
    "\n",
    "1. Create bins for the `Sales` data with the following categories: 'Low', 'Medium', 'High'.\n",
    "2. Add a new column `Sales_Level` to categorize each sale into one of the bins."
   ]
  },
  {
   "cell_type": "code",
   "execution_count": 24,
   "id": "0af04a60-69ae-4769-b22e-5fa1f51cea96",
   "metadata": {},
   "outputs": [
    {
     "data": {
      "application/vnd.microsoft.datawrangler.viewer.v0+json": {
       "columns": [
        {
         "name": "index",
         "rawType": "int64",
         "type": "integer"
        },
        {
         "name": "Store",
         "rawType": "object",
         "type": "string"
        },
        {
         "name": "Product",
         "rawType": "object",
         "type": "string"
        },
        {
         "name": "Sales",
         "rawType": "int64",
         "type": "integer"
        },
        {
         "name": "Date",
         "rawType": "object",
         "type": "string"
        },
        {
         "name": "Sales_Level",
         "rawType": "category",
         "type": "unknown"
        }
       ],
       "ref": "5e8c8277-7113-4008-a356-28d85d4b8995",
       "rows": [
        [
         "0",
         "A",
         "Apples",
         "100",
         "2024-07-01",
         "Low"
        ],
        [
         "1",
         "A",
         "Oranges",
         "150",
         "2024-07-02",
         "Medium"
        ],
        [
         "2",
         "B",
         "Apples",
         "200",
         "2024-07-01",
         "High"
        ],
        [
         "3",
         "B",
         "Oranges",
         "120",
         "2024-07-02",
         "Medium"
        ],
        [
         "4",
         "C",
         "Apples",
         "90",
         "2024-07-01",
         "Low"
        ],
        [
         "5",
         "C",
         "Oranges",
         "80",
         "2024-07-02",
         "Low"
        ],
        [
         "6",
         "A",
         "Apples",
         "130",
         "2024-07-03",
         "Medium"
        ],
        [
         "7",
         "B",
         "Oranges",
         "110",
         "2024-07-03",
         "Medium"
        ],
        [
         "8",
         "C",
         "Apples",
         "95",
         "2024-07-03",
         "Low"
        ]
       ],
       "shape": {
        "columns": 5,
        "rows": 9
       }
      },
      "text/html": [
       "<div>\n",
       "<style scoped>\n",
       "    .dataframe tbody tr th:only-of-type {\n",
       "        vertical-align: middle;\n",
       "    }\n",
       "\n",
       "    .dataframe tbody tr th {\n",
       "        vertical-align: top;\n",
       "    }\n",
       "\n",
       "    .dataframe thead th {\n",
       "        text-align: right;\n",
       "    }\n",
       "</style>\n",
       "<table border=\"1\" class=\"dataframe\">\n",
       "  <thead>\n",
       "    <tr style=\"text-align: right;\">\n",
       "      <th></th>\n",
       "      <th>Store</th>\n",
       "      <th>Product</th>\n",
       "      <th>Sales</th>\n",
       "      <th>Date</th>\n",
       "      <th>Sales_Level</th>\n",
       "    </tr>\n",
       "  </thead>\n",
       "  <tbody>\n",
       "    <tr>\n",
       "      <th>0</th>\n",
       "      <td>A</td>\n",
       "      <td>Apples</td>\n",
       "      <td>100</td>\n",
       "      <td>2024-07-01</td>\n",
       "      <td>Low</td>\n",
       "    </tr>\n",
       "    <tr>\n",
       "      <th>1</th>\n",
       "      <td>A</td>\n",
       "      <td>Oranges</td>\n",
       "      <td>150</td>\n",
       "      <td>2024-07-02</td>\n",
       "      <td>Medium</td>\n",
       "    </tr>\n",
       "    <tr>\n",
       "      <th>2</th>\n",
       "      <td>B</td>\n",
       "      <td>Apples</td>\n",
       "      <td>200</td>\n",
       "      <td>2024-07-01</td>\n",
       "      <td>High</td>\n",
       "    </tr>\n",
       "    <tr>\n",
       "      <th>3</th>\n",
       "      <td>B</td>\n",
       "      <td>Oranges</td>\n",
       "      <td>120</td>\n",
       "      <td>2024-07-02</td>\n",
       "      <td>Medium</td>\n",
       "    </tr>\n",
       "    <tr>\n",
       "      <th>4</th>\n",
       "      <td>C</td>\n",
       "      <td>Apples</td>\n",
       "      <td>90</td>\n",
       "      <td>2024-07-01</td>\n",
       "      <td>Low</td>\n",
       "    </tr>\n",
       "    <tr>\n",
       "      <th>5</th>\n",
       "      <td>C</td>\n",
       "      <td>Oranges</td>\n",
       "      <td>80</td>\n",
       "      <td>2024-07-02</td>\n",
       "      <td>Low</td>\n",
       "    </tr>\n",
       "    <tr>\n",
       "      <th>6</th>\n",
       "      <td>A</td>\n",
       "      <td>Apples</td>\n",
       "      <td>130</td>\n",
       "      <td>2024-07-03</td>\n",
       "      <td>Medium</td>\n",
       "    </tr>\n",
       "    <tr>\n",
       "      <th>7</th>\n",
       "      <td>B</td>\n",
       "      <td>Oranges</td>\n",
       "      <td>110</td>\n",
       "      <td>2024-07-03</td>\n",
       "      <td>Medium</td>\n",
       "    </tr>\n",
       "    <tr>\n",
       "      <th>8</th>\n",
       "      <td>C</td>\n",
       "      <td>Apples</td>\n",
       "      <td>95</td>\n",
       "      <td>2024-07-03</td>\n",
       "      <td>Low</td>\n",
       "    </tr>\n",
       "  </tbody>\n",
       "</table>\n",
       "</div>"
      ],
      "text/plain": [
       "  Store  Product  Sales        Date Sales_Level\n",
       "0     A   Apples    100  2024-07-01         Low\n",
       "1     A  Oranges    150  2024-07-02      Medium\n",
       "2     B   Apples    200  2024-07-01        High\n",
       "3     B  Oranges    120  2024-07-02      Medium\n",
       "4     C   Apples     90  2024-07-01         Low\n",
       "5     C  Oranges     80  2024-07-02         Low\n",
       "6     A   Apples    130  2024-07-03      Medium\n",
       "7     B  Oranges    110  2024-07-03      Medium\n",
       "8     C   Apples     95  2024-07-03         Low"
      ]
     },
     "metadata": {},
     "output_type": "display_data"
    }
   ],
   "source": [
    "# Define the bins and labels\n",
    "bins = [0, 100, 150, 200, float('inf')]\n",
    "labels = ['Low', 'Medium', 'High', 'Very High']\n",
    "\n",
    "# Create the Sales_Level column\n",
    "df['Sales_Level'] = pd.cut(df['Sales'], bins=bins, labels=labels)\n",
    "\n",
    "# Display the DataFrame with the Sales_Level column\n",
    "display(df)\n"
   ]
  },
  {
   "cell_type": "markdown",
   "id": "660d667f-8a4b-4678-8733-84a76fb35542",
   "metadata": {},
   "source": [
    "### Challenge Activity: Comprehensive Sales Analysis\n",
    "\n",
    "#### Description\n",
    "\n",
    "In this final challenge, students will apply multiple data transformation concepts they have learned to perform a comprehensive analysis of sales data. They will aggregate data, create new features, manipulate datetime data, use rolling windows, create lagged features, rank data, and categorize sales into bins.\n",
    "\n",
    "#### Title\n",
    "\n",
    "**Comprehensive Sales Data Analysis**"
   ]
  },
  {
   "cell_type": "code",
   "execution_count": 25,
   "id": "3fd7bb34-89b1-4488-acbd-7e35ad6ba7b0",
   "metadata": {},
   "outputs": [
    {
     "data": {
      "application/vnd.microsoft.datawrangler.viewer.v0+json": {
       "columns": [
        {
         "name": "index",
         "rawType": "int64",
         "type": "integer"
        },
        {
         "name": "Store",
         "rawType": "object",
         "type": "string"
        },
        {
         "name": "Product",
         "rawType": "object",
         "type": "string"
        },
        {
         "name": "Sales",
         "rawType": "int64",
         "type": "integer"
        },
        {
         "name": "Date",
         "rawType": "datetime64[ns]",
         "type": "datetime"
        }
       ],
       "ref": "0ff090f2-482f-4cec-b1dd-e13a5103c05b",
       "rows": [
        [
         "0",
         "A",
         "Apples",
         "100",
         "2024-07-01 00:00:00"
        ],
        [
         "1",
         "A",
         "Oranges",
         "150",
         "2024-07-02 00:00:00"
        ],
        [
         "2",
         "B",
         "Apples",
         "200",
         "2024-07-01 00:00:00"
        ],
        [
         "3",
         "B",
         "Oranges",
         "120",
         "2024-07-02 00:00:00"
        ],
        [
         "4",
         "C",
         "Apples",
         "90",
         "2024-07-01 00:00:00"
        ],
        [
         "5",
         "C",
         "Oranges",
         "80",
         "2024-07-02 00:00:00"
        ],
        [
         "6",
         "A",
         "Apples",
         "130",
         "2024-07-03 00:00:00"
        ],
        [
         "7",
         "B",
         "Oranges",
         "110",
         "2024-07-03 00:00:00"
        ],
        [
         "8",
         "C",
         "Apples",
         "95",
         "2024-07-03 00:00:00"
        ],
        [
         "9",
         "A",
         "Oranges",
         "105",
         "2024-07-04 00:00:00"
        ],
        [
         "10",
         "B",
         "Apples",
         "210",
         "2024-07-04 00:00:00"
        ],
        [
         "11",
         "C",
         "Oranges",
         "70",
         "2024-07-04 00:00:00"
        ]
       ],
       "shape": {
        "columns": 4,
        "rows": 12
       }
      },
      "text/html": [
       "<div>\n",
       "<style scoped>\n",
       "    .dataframe tbody tr th:only-of-type {\n",
       "        vertical-align: middle;\n",
       "    }\n",
       "\n",
       "    .dataframe tbody tr th {\n",
       "        vertical-align: top;\n",
       "    }\n",
       "\n",
       "    .dataframe thead th {\n",
       "        text-align: right;\n",
       "    }\n",
       "</style>\n",
       "<table border=\"1\" class=\"dataframe\">\n",
       "  <thead>\n",
       "    <tr style=\"text-align: right;\">\n",
       "      <th></th>\n",
       "      <th>Store</th>\n",
       "      <th>Product</th>\n",
       "      <th>Sales</th>\n",
       "      <th>Date</th>\n",
       "    </tr>\n",
       "  </thead>\n",
       "  <tbody>\n",
       "    <tr>\n",
       "      <th>0</th>\n",
       "      <td>A</td>\n",
       "      <td>Apples</td>\n",
       "      <td>100</td>\n",
       "      <td>2024-07-01</td>\n",
       "    </tr>\n",
       "    <tr>\n",
       "      <th>1</th>\n",
       "      <td>A</td>\n",
       "      <td>Oranges</td>\n",
       "      <td>150</td>\n",
       "      <td>2024-07-02</td>\n",
       "    </tr>\n",
       "    <tr>\n",
       "      <th>2</th>\n",
       "      <td>B</td>\n",
       "      <td>Apples</td>\n",
       "      <td>200</td>\n",
       "      <td>2024-07-01</td>\n",
       "    </tr>\n",
       "    <tr>\n",
       "      <th>3</th>\n",
       "      <td>B</td>\n",
       "      <td>Oranges</td>\n",
       "      <td>120</td>\n",
       "      <td>2024-07-02</td>\n",
       "    </tr>\n",
       "    <tr>\n",
       "      <th>4</th>\n",
       "      <td>C</td>\n",
       "      <td>Apples</td>\n",
       "      <td>90</td>\n",
       "      <td>2024-07-01</td>\n",
       "    </tr>\n",
       "    <tr>\n",
       "      <th>5</th>\n",
       "      <td>C</td>\n",
       "      <td>Oranges</td>\n",
       "      <td>80</td>\n",
       "      <td>2024-07-02</td>\n",
       "    </tr>\n",
       "    <tr>\n",
       "      <th>6</th>\n",
       "      <td>A</td>\n",
       "      <td>Apples</td>\n",
       "      <td>130</td>\n",
       "      <td>2024-07-03</td>\n",
       "    </tr>\n",
       "    <tr>\n",
       "      <th>7</th>\n",
       "      <td>B</td>\n",
       "      <td>Oranges</td>\n",
       "      <td>110</td>\n",
       "      <td>2024-07-03</td>\n",
       "    </tr>\n",
       "    <tr>\n",
       "      <th>8</th>\n",
       "      <td>C</td>\n",
       "      <td>Apples</td>\n",
       "      <td>95</td>\n",
       "      <td>2024-07-03</td>\n",
       "    </tr>\n",
       "    <tr>\n",
       "      <th>9</th>\n",
       "      <td>A</td>\n",
       "      <td>Oranges</td>\n",
       "      <td>105</td>\n",
       "      <td>2024-07-04</td>\n",
       "    </tr>\n",
       "    <tr>\n",
       "      <th>10</th>\n",
       "      <td>B</td>\n",
       "      <td>Apples</td>\n",
       "      <td>210</td>\n",
       "      <td>2024-07-04</td>\n",
       "    </tr>\n",
       "    <tr>\n",
       "      <th>11</th>\n",
       "      <td>C</td>\n",
       "      <td>Oranges</td>\n",
       "      <td>70</td>\n",
       "      <td>2024-07-04</td>\n",
       "    </tr>\n",
       "  </tbody>\n",
       "</table>\n",
       "</div>"
      ],
      "text/plain": [
       "   Store  Product  Sales       Date\n",
       "0      A   Apples    100 2024-07-01\n",
       "1      A  Oranges    150 2024-07-02\n",
       "2      B   Apples    200 2024-07-01\n",
       "3      B  Oranges    120 2024-07-02\n",
       "4      C   Apples     90 2024-07-01\n",
       "5      C  Oranges     80 2024-07-02\n",
       "6      A   Apples    130 2024-07-03\n",
       "7      B  Oranges    110 2024-07-03\n",
       "8      C   Apples     95 2024-07-03\n",
       "9      A  Oranges    105 2024-07-04\n",
       "10     B   Apples    210 2024-07-04\n",
       "11     C  Oranges     70 2024-07-04"
      ]
     },
     "metadata": {},
     "output_type": "display_data"
    }
   ],
   "source": [
    "import pandas as pd\n",
    "\n",
    "# Sample sales data\n",
    "data = {\n",
    "    'Store': ['A', 'A', 'B', 'B', 'C', 'C', 'A', 'B', 'C', 'A', 'B', 'C'],\n",
    "    'Product': ['Apples', 'Oranges', 'Apples', 'Oranges', 'Apples', 'Oranges', 'Apples', 'Oranges', 'Apples', 'Oranges', 'Apples', 'Oranges'],\n",
    "    'Sales': [100, 150, 200, 120, 90, 80, 130, 110, 95, 105, 210, 70],\n",
    "    'Date': ['2024-07-01', '2024-07-02', '2024-07-01', '2024-07-02', '2024-07-01', '2024-07-02', '2024-07-03', '2024-07-03', '2024-07-03', '2024-07-04', '2024-07-04', '2024-07-04']\n",
    "}\n",
    "\n",
    "# Create DataFrame\n",
    "df = pd.DataFrame(data)\n",
    "\n",
    "# Convert Date column to datetime\n",
    "df['Date'] = pd.to_datetime(df['Date'])\n",
    "\n",
    "# Display the DataFrame\n",
    "display(df)\n"
   ]
  },
  {
   "cell_type": "markdown",
   "id": "8d422486-d565-4e55-8292-88275be1db2f",
   "metadata": {},
   "source": [
    "#### Task\n",
    "\n",
    "1. Aggregate the data to calculate total sales for each store and product combination.\n",
    "2. Create new features:\n",
    "   - `Sales_Difference` which is the difference between each `Sales` value and the average sales of the corresponding `Product`.\n",
    "   - `High_Sales` which indicates whether the sales are higher than 100 (True) or not (False).\n",
    "3. Manipulate datetime data to extract `Year`, `Month`, `Day`, and `Day_of_Week`.\n",
    "4. Calculate a 3-day moving average of sales for each product.\n",
    "5. Create a lagged feature `Prev_Day_Sales` that contains the sales value of the previous day for each product.\n",
    "6. Rank the sales within each store in descending order.\n",
    "7. Categorize sales into bins with the categories: 'Low', 'Medium', 'High'.\n",
    "8. Create a summary report showing total sales, average sales, highest sale, and lowest sale for each store."
   ]
  },
  {
   "cell_type": "code",
   "execution_count": 26,
   "id": "1d2e7a78-1220-4eb9-b2a2-a430eadf3a19",
   "metadata": {},
   "outputs": [
    {
     "name": "stdout",
     "output_type": "stream",
     "text": [
      "Fully Transformed Data:\n"
     ]
    },
    {
     "data": {
      "application/vnd.microsoft.datawrangler.viewer.v0+json": {
       "columns": [
        {
         "name": "index",
         "rawType": "int64",
         "type": "integer"
        },
        {
         "name": "Store",
         "rawType": "object",
         "type": "string"
        },
        {
         "name": "Product",
         "rawType": "object",
         "type": "string"
        },
        {
         "name": "Sales",
         "rawType": "int64",
         "type": "integer"
        },
        {
         "name": "Date",
         "rawType": "datetime64[ns]",
         "type": "datetime"
        },
        {
         "name": "Sales_Difference",
         "rawType": "float64",
         "type": "float"
        },
        {
         "name": "High_Sales",
         "rawType": "bool",
         "type": "boolean"
        },
        {
         "name": "Year",
         "rawType": "int32",
         "type": "integer"
        },
        {
         "name": "Month",
         "rawType": "int32",
         "type": "integer"
        },
        {
         "name": "Day",
         "rawType": "int32",
         "type": "integer"
        },
        {
         "name": "Day_of_Week",
         "rawType": "int32",
         "type": "integer"
        },
        {
         "name": "Moving_Avg_3_Days",
         "rawType": "float64",
         "type": "float"
        },
        {
         "name": "Prev_Day_Sales",
         "rawType": "float64",
         "type": "float"
        },
        {
         "name": "Sales_Rank",
         "rawType": "float64",
         "type": "float"
        },
        {
         "name": "Sales_Level",
         "rawType": "category",
         "type": "unknown"
        }
       ],
       "ref": "99d80973-6796-47c3-975a-ae28bcd18f86",
       "rows": [
        [
         "0",
         "A",
         "Apples",
         "100",
         "2024-07-01 00:00:00",
         null,
         "False",
         "2024",
         "7",
         "1",
         "0",
         "100.0",
         "0.0",
         "4.0",
         "Low"
        ],
        [
         "1",
         "A",
         "Oranges",
         "150",
         "2024-07-02 00:00:00",
         "50.0",
         "False",
         "2024",
         "7",
         "2",
         "1",
         "150.0",
         "0.0",
         "1.0",
         "Medium"
        ],
        [
         "2",
         "B",
         "Apples",
         "200",
         "2024-07-01 00:00:00",
         "50.0",
         "True",
         "2024",
         "7",
         "1",
         "0",
         "150.0",
         "0.0",
         "2.0",
         "High"
        ],
        [
         "3",
         "B",
         "Oranges",
         "120",
         "2024-07-02 00:00:00",
         "-80.0",
         "False",
         "2024",
         "7",
         "2",
         "1",
         "135.0",
         "0.0",
         "3.0",
         "Medium"
        ],
        [
         "4",
         "C",
         "Apples",
         "90",
         "2024-07-01 00:00:00",
         "-30.0",
         "False",
         "2024",
         "7",
         "1",
         "0",
         "130.0",
         "0.0",
         "2.0",
         "Low"
        ],
        [
         "5",
         "C",
         "Oranges",
         "80",
         "2024-07-02 00:00:00",
         "-10.0",
         "False",
         "2024",
         "7",
         "2",
         "1",
         "116.66666666666667",
         "0.0",
         "3.0",
         "Low"
        ],
        [
         "6",
         "A",
         "Apples",
         "130",
         "2024-07-03 00:00:00",
         "50.0",
         "False",
         "2024",
         "7",
         "3",
         "2",
         "140.0",
         "100.0",
         "2.0",
         "Medium"
        ],
        [
         "7",
         "B",
         "Oranges",
         "110",
         "2024-07-03 00:00:00",
         "-20.0",
         "False",
         "2024",
         "7",
         "3",
         "2",
         "103.33333333333333",
         "120.0",
         "4.0",
         "Medium"
        ],
        [
         "8",
         "C",
         "Apples",
         "95",
         "2024-07-03 00:00:00",
         "-15.0",
         "False",
         "2024",
         "7",
         "3",
         "2",
         "105.0",
         "90.0",
         "1.0",
         "Low"
        ],
        [
         "9",
         "A",
         "Oranges",
         "105",
         "2024-07-04 00:00:00",
         "10.0",
         "False",
         "2024",
         "7",
         "4",
         "3",
         "98.33333333333333",
         "150.0",
         "3.0",
         "Medium"
        ],
        [
         "10",
         "B",
         "Apples",
         "210",
         "2024-07-04 00:00:00",
         "105.0",
         "True",
         "2024",
         "7",
         "4",
         "3",
         "145.0",
         "200.0",
         "1.0",
         "Very High"
        ],
        [
         "11",
         "C",
         "Oranges",
         "70",
         "2024-07-04 00:00:00",
         "-140.0",
         "False",
         "2024",
         "7",
         "4",
         "3",
         "95.0",
         "80.0",
         "4.0",
         "Low"
        ]
       ],
       "shape": {
        "columns": 14,
        "rows": 12
       }
      },
      "text/html": [
       "<div>\n",
       "<style scoped>\n",
       "    .dataframe tbody tr th:only-of-type {\n",
       "        vertical-align: middle;\n",
       "    }\n",
       "\n",
       "    .dataframe tbody tr th {\n",
       "        vertical-align: top;\n",
       "    }\n",
       "\n",
       "    .dataframe thead th {\n",
       "        text-align: right;\n",
       "    }\n",
       "</style>\n",
       "<table border=\"1\" class=\"dataframe\">\n",
       "  <thead>\n",
       "    <tr style=\"text-align: right;\">\n",
       "      <th></th>\n",
       "      <th>Store</th>\n",
       "      <th>Product</th>\n",
       "      <th>Sales</th>\n",
       "      <th>Date</th>\n",
       "      <th>Sales_Difference</th>\n",
       "      <th>High_Sales</th>\n",
       "      <th>Year</th>\n",
       "      <th>Month</th>\n",
       "      <th>Day</th>\n",
       "      <th>Day_of_Week</th>\n",
       "      <th>Moving_Avg_3_Days</th>\n",
       "      <th>Prev_Day_Sales</th>\n",
       "      <th>Sales_Rank</th>\n",
       "      <th>Sales_Level</th>\n",
       "    </tr>\n",
       "  </thead>\n",
       "  <tbody>\n",
       "    <tr>\n",
       "      <th>0</th>\n",
       "      <td>A</td>\n",
       "      <td>Apples</td>\n",
       "      <td>100</td>\n",
       "      <td>2024-07-01</td>\n",
       "      <td>NaN</td>\n",
       "      <td>False</td>\n",
       "      <td>2024</td>\n",
       "      <td>7</td>\n",
       "      <td>1</td>\n",
       "      <td>0</td>\n",
       "      <td>100.000000</td>\n",
       "      <td>0.0</td>\n",
       "      <td>4.0</td>\n",
       "      <td>Low</td>\n",
       "    </tr>\n",
       "    <tr>\n",
       "      <th>1</th>\n",
       "      <td>A</td>\n",
       "      <td>Oranges</td>\n",
       "      <td>150</td>\n",
       "      <td>2024-07-02</td>\n",
       "      <td>50.0</td>\n",
       "      <td>False</td>\n",
       "      <td>2024</td>\n",
       "      <td>7</td>\n",
       "      <td>2</td>\n",
       "      <td>1</td>\n",
       "      <td>150.000000</td>\n",
       "      <td>0.0</td>\n",
       "      <td>1.0</td>\n",
       "      <td>Medium</td>\n",
       "    </tr>\n",
       "    <tr>\n",
       "      <th>2</th>\n",
       "      <td>B</td>\n",
       "      <td>Apples</td>\n",
       "      <td>200</td>\n",
       "      <td>2024-07-01</td>\n",
       "      <td>50.0</td>\n",
       "      <td>True</td>\n",
       "      <td>2024</td>\n",
       "      <td>7</td>\n",
       "      <td>1</td>\n",
       "      <td>0</td>\n",
       "      <td>150.000000</td>\n",
       "      <td>0.0</td>\n",
       "      <td>2.0</td>\n",
       "      <td>High</td>\n",
       "    </tr>\n",
       "    <tr>\n",
       "      <th>3</th>\n",
       "      <td>B</td>\n",
       "      <td>Oranges</td>\n",
       "      <td>120</td>\n",
       "      <td>2024-07-02</td>\n",
       "      <td>-80.0</td>\n",
       "      <td>False</td>\n",
       "      <td>2024</td>\n",
       "      <td>7</td>\n",
       "      <td>2</td>\n",
       "      <td>1</td>\n",
       "      <td>135.000000</td>\n",
       "      <td>0.0</td>\n",
       "      <td>3.0</td>\n",
       "      <td>Medium</td>\n",
       "    </tr>\n",
       "    <tr>\n",
       "      <th>4</th>\n",
       "      <td>C</td>\n",
       "      <td>Apples</td>\n",
       "      <td>90</td>\n",
       "      <td>2024-07-01</td>\n",
       "      <td>-30.0</td>\n",
       "      <td>False</td>\n",
       "      <td>2024</td>\n",
       "      <td>7</td>\n",
       "      <td>1</td>\n",
       "      <td>0</td>\n",
       "      <td>130.000000</td>\n",
       "      <td>0.0</td>\n",
       "      <td>2.0</td>\n",
       "      <td>Low</td>\n",
       "    </tr>\n",
       "    <tr>\n",
       "      <th>5</th>\n",
       "      <td>C</td>\n",
       "      <td>Oranges</td>\n",
       "      <td>80</td>\n",
       "      <td>2024-07-02</td>\n",
       "      <td>-10.0</td>\n",
       "      <td>False</td>\n",
       "      <td>2024</td>\n",
       "      <td>7</td>\n",
       "      <td>2</td>\n",
       "      <td>1</td>\n",
       "      <td>116.666667</td>\n",
       "      <td>0.0</td>\n",
       "      <td>3.0</td>\n",
       "      <td>Low</td>\n",
       "    </tr>\n",
       "    <tr>\n",
       "      <th>6</th>\n",
       "      <td>A</td>\n",
       "      <td>Apples</td>\n",
       "      <td>130</td>\n",
       "      <td>2024-07-03</td>\n",
       "      <td>50.0</td>\n",
       "      <td>False</td>\n",
       "      <td>2024</td>\n",
       "      <td>7</td>\n",
       "      <td>3</td>\n",
       "      <td>2</td>\n",
       "      <td>140.000000</td>\n",
       "      <td>100.0</td>\n",
       "      <td>2.0</td>\n",
       "      <td>Medium</td>\n",
       "    </tr>\n",
       "    <tr>\n",
       "      <th>7</th>\n",
       "      <td>B</td>\n",
       "      <td>Oranges</td>\n",
       "      <td>110</td>\n",
       "      <td>2024-07-03</td>\n",
       "      <td>-20.0</td>\n",
       "      <td>False</td>\n",
       "      <td>2024</td>\n",
       "      <td>7</td>\n",
       "      <td>3</td>\n",
       "      <td>2</td>\n",
       "      <td>103.333333</td>\n",
       "      <td>120.0</td>\n",
       "      <td>4.0</td>\n",
       "      <td>Medium</td>\n",
       "    </tr>\n",
       "    <tr>\n",
       "      <th>8</th>\n",
       "      <td>C</td>\n",
       "      <td>Apples</td>\n",
       "      <td>95</td>\n",
       "      <td>2024-07-03</td>\n",
       "      <td>-15.0</td>\n",
       "      <td>False</td>\n",
       "      <td>2024</td>\n",
       "      <td>7</td>\n",
       "      <td>3</td>\n",
       "      <td>2</td>\n",
       "      <td>105.000000</td>\n",
       "      <td>90.0</td>\n",
       "      <td>1.0</td>\n",
       "      <td>Low</td>\n",
       "    </tr>\n",
       "    <tr>\n",
       "      <th>9</th>\n",
       "      <td>A</td>\n",
       "      <td>Oranges</td>\n",
       "      <td>105</td>\n",
       "      <td>2024-07-04</td>\n",
       "      <td>10.0</td>\n",
       "      <td>False</td>\n",
       "      <td>2024</td>\n",
       "      <td>7</td>\n",
       "      <td>4</td>\n",
       "      <td>3</td>\n",
       "      <td>98.333333</td>\n",
       "      <td>150.0</td>\n",
       "      <td>3.0</td>\n",
       "      <td>Medium</td>\n",
       "    </tr>\n",
       "    <tr>\n",
       "      <th>10</th>\n",
       "      <td>B</td>\n",
       "      <td>Apples</td>\n",
       "      <td>210</td>\n",
       "      <td>2024-07-04</td>\n",
       "      <td>105.0</td>\n",
       "      <td>True</td>\n",
       "      <td>2024</td>\n",
       "      <td>7</td>\n",
       "      <td>4</td>\n",
       "      <td>3</td>\n",
       "      <td>145.000000</td>\n",
       "      <td>200.0</td>\n",
       "      <td>1.0</td>\n",
       "      <td>Very High</td>\n",
       "    </tr>\n",
       "    <tr>\n",
       "      <th>11</th>\n",
       "      <td>C</td>\n",
       "      <td>Oranges</td>\n",
       "      <td>70</td>\n",
       "      <td>2024-07-04</td>\n",
       "      <td>-140.0</td>\n",
       "      <td>False</td>\n",
       "      <td>2024</td>\n",
       "      <td>7</td>\n",
       "      <td>4</td>\n",
       "      <td>3</td>\n",
       "      <td>95.000000</td>\n",
       "      <td>80.0</td>\n",
       "      <td>4.0</td>\n",
       "      <td>Low</td>\n",
       "    </tr>\n",
       "  </tbody>\n",
       "</table>\n",
       "</div>"
      ],
      "text/plain": [
       "   Store  Product  Sales       Date  Sales_Difference  High_Sales  Year  \\\n",
       "0      A   Apples    100 2024-07-01               NaN       False  2024   \n",
       "1      A  Oranges    150 2024-07-02              50.0       False  2024   \n",
       "2      B   Apples    200 2024-07-01              50.0        True  2024   \n",
       "3      B  Oranges    120 2024-07-02             -80.0       False  2024   \n",
       "4      C   Apples     90 2024-07-01             -30.0       False  2024   \n",
       "5      C  Oranges     80 2024-07-02             -10.0       False  2024   \n",
       "6      A   Apples    130 2024-07-03              50.0       False  2024   \n",
       "7      B  Oranges    110 2024-07-03             -20.0       False  2024   \n",
       "8      C   Apples     95 2024-07-03             -15.0       False  2024   \n",
       "9      A  Oranges    105 2024-07-04              10.0       False  2024   \n",
       "10     B   Apples    210 2024-07-04             105.0        True  2024   \n",
       "11     C  Oranges     70 2024-07-04            -140.0       False  2024   \n",
       "\n",
       "    Month  Day  Day_of_Week  Moving_Avg_3_Days  Prev_Day_Sales  Sales_Rank  \\\n",
       "0       7    1            0         100.000000             0.0         4.0   \n",
       "1       7    2            1         150.000000             0.0         1.0   \n",
       "2       7    1            0         150.000000             0.0         2.0   \n",
       "3       7    2            1         135.000000             0.0         3.0   \n",
       "4       7    1            0         130.000000             0.0         2.0   \n",
       "5       7    2            1         116.666667             0.0         3.0   \n",
       "6       7    3            2         140.000000           100.0         2.0   \n",
       "7       7    3            2         103.333333           120.0         4.0   \n",
       "8       7    3            2         105.000000            90.0         1.0   \n",
       "9       7    4            3          98.333333           150.0         3.0   \n",
       "10      7    4            3         145.000000           200.0         1.0   \n",
       "11      7    4            3          95.000000            80.0         4.0   \n",
       "\n",
       "   Sales_Level  \n",
       "0          Low  \n",
       "1       Medium  \n",
       "2         High  \n",
       "3       Medium  \n",
       "4          Low  \n",
       "5          Low  \n",
       "6       Medium  \n",
       "7       Medium  \n",
       "8          Low  \n",
       "9       Medium  \n",
       "10   Very High  \n",
       "11         Low  "
      ]
     },
     "metadata": {},
     "output_type": "display_data"
    },
    {
     "name": "stdout",
     "output_type": "stream",
     "text": [
      "Summary Report:\n"
     ]
    },
    {
     "data": {
      "application/vnd.microsoft.datawrangler.viewer.v0+json": {
       "columns": [
        {
         "name": "index",
         "rawType": "int64",
         "type": "integer"
        },
        {
         "name": "Store",
         "rawType": "object",
         "type": "string"
        },
        {
         "name": "Total_Sales",
         "rawType": "int64",
         "type": "integer"
        },
        {
         "name": "Avg_Sales",
         "rawType": "float64",
         "type": "float"
        },
        {
         "name": "Sales_Std_Dev",
         "rawType": "float64",
         "type": "float"
        }
       ],
       "ref": "6a6fdfdd-917e-478d-a542-f11a06465e0d",
       "rows": [
        [
         "0",
         "A",
         "485",
         "121.25",
         "23.228933107943924"
        ],
        [
         "1",
         "B",
         "640",
         "160.0",
         "52.28129047119374"
        ],
        [
         "2",
         "C",
         "335",
         "83.75",
         "11.086778913041726"
        ]
       ],
       "shape": {
        "columns": 4,
        "rows": 3
       }
      },
      "text/html": [
       "<div>\n",
       "<style scoped>\n",
       "    .dataframe tbody tr th:only-of-type {\n",
       "        vertical-align: middle;\n",
       "    }\n",
       "\n",
       "    .dataframe tbody tr th {\n",
       "        vertical-align: top;\n",
       "    }\n",
       "\n",
       "    .dataframe thead th {\n",
       "        text-align: right;\n",
       "    }\n",
       "</style>\n",
       "<table border=\"1\" class=\"dataframe\">\n",
       "  <thead>\n",
       "    <tr style=\"text-align: right;\">\n",
       "      <th></th>\n",
       "      <th>Store</th>\n",
       "      <th>Total_Sales</th>\n",
       "      <th>Avg_Sales</th>\n",
       "      <th>Sales_Std_Dev</th>\n",
       "    </tr>\n",
       "  </thead>\n",
       "  <tbody>\n",
       "    <tr>\n",
       "      <th>0</th>\n",
       "      <td>A</td>\n",
       "      <td>485</td>\n",
       "      <td>121.25</td>\n",
       "      <td>23.228933</td>\n",
       "    </tr>\n",
       "    <tr>\n",
       "      <th>1</th>\n",
       "      <td>B</td>\n",
       "      <td>640</td>\n",
       "      <td>160.00</td>\n",
       "      <td>52.281290</td>\n",
       "    </tr>\n",
       "    <tr>\n",
       "      <th>2</th>\n",
       "      <td>C</td>\n",
       "      <td>335</td>\n",
       "      <td>83.75</td>\n",
       "      <td>11.086779</td>\n",
       "    </tr>\n",
       "  </tbody>\n",
       "</table>\n",
       "</div>"
      ],
      "text/plain": [
       "  Store  Total_Sales  Avg_Sales  Sales_Std_Dev\n",
       "0     A          485     121.25      23.228933\n",
       "1     B          640     160.00      52.281290\n",
       "2     C          335      83.75      11.086779"
      ]
     },
     "metadata": {},
     "output_type": "display_data"
    }
   ],
   "source": [
    "# 1. Aggregate the data to calculate total sales for each store and product combination\n",
    "aggregated_sales = df.groupby(['Store', 'Product'])['Sales'].sum().reset_index()\n",
    "aggregated_sales.rename(columns={'Sales': 'Total_Sales'}, inplace=True)\n",
    "\n",
    "# 2. Create new features\n",
    "# Calculate the average sales for each product\n",
    "product_avg_sales = df.groupby('Product')['Sales'].mean().reset_index()\n",
    "product_avg_sales.rename(columns={'Sales': 'Avg_Sales'}, inplace=True)\n",
    "\n",
    "# Create Sales_Difference column\n",
    "df['Sales_Difference'] = df['Sales'] - df['Sales'].shift(1)\n",
    "\n",
    "# Create High_Sales column\n",
    "df['High_Sales'] = df['Sales'] > 150\n",
    "\n",
    "# 3. Manipulate datetime data\n",
    "df['Year'] = df['Date'].dt.year\n",
    "df['Month'] = df['Date'].dt.month\n",
    "df['Day'] = df['Date'].dt.day\n",
    "df['Day_of_Week'] = df['Date'].dt.dayofweek\n",
    "\n",
    "# 4. Calculate a 3-day moving average of sales for each product\n",
    "df['Moving_Avg_3_Days'] = df.groupby('Product')['Sales'].transform(lambda x: x.rolling(window=3, min_periods=1).mean())\n",
    "\n",
    "# 5. Create a lagged feature Prev_Day_Sales\n",
    "df['Prev_Day_Sales'] = df.groupby(['Store', 'Product'])['Sales'].shift(1)\n",
    "df['Prev_Day_Sales'] = df['Prev_Day_Sales'].fillna(0)\n",
    "\n",
    "# 6. Rank the sales within each store in descending order\n",
    "df['Sales_Rank'] = df.groupby('Store')['Sales'].rank(method='min', ascending=False)\n",
    "\n",
    "# 7. Categorize sales into bins\n",
    "bins = [0, 100, 150, 200, float('inf')]\n",
    "labels = ['Low', 'Medium', 'High', 'Very High']\n",
    "df['Sales_Level'] = pd.cut(df['Sales'], bins=bins, labels=labels)\n",
    "\n",
    "# 8. Create a summary report\n",
    "summary_report = df.groupby('Store')['Sales'].agg(['sum', 'mean', 'std']).reset_index()\n",
    "summary_report.rename(columns={'sum': 'Total_Sales', 'mean': 'Avg_Sales', 'std': 'Sales_Std_Dev'}, inplace=True)\n",
    "\n",
    "# Display the DataFrame with all transformations\n",
    "print('Fully Transformed Data:')\n",
    "display(df)\n",
    "\n",
    "# Display the summary report\n",
    "print('Summary Report:')\n",
    "display(summary_report)\n"
   ]
  },
  {
   "cell_type": "code",
   "execution_count": null,
   "id": "65055669-7e62-450e-bdc2-c16887900124",
   "metadata": {},
   "outputs": [],
   "source": []
  }
 ],
 "metadata": {
  "kernelspec": {
   "display_name": "dev",
   "language": "python",
   "name": "python3"
  },
  "language_info": {
   "codemirror_mode": {
    "name": "ipython",
    "version": 3
   },
   "file_extension": ".py",
   "mimetype": "text/x-python",
   "name": "python",
   "nbconvert_exporter": "python",
   "pygments_lexer": "ipython3",
   "version": "3.13.5"
  }
 },
 "nbformat": 4,
 "nbformat_minor": 5
}
