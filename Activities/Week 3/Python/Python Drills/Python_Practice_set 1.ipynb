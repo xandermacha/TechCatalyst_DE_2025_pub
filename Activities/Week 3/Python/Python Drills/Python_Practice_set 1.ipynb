{
 "cells": [
  {
   "cell_type": "markdown",
   "metadata": {
    "id": "gln5KR7HHFBy"
   },
   "source": [
    "# Instructions:\n",
    "1. Define a Function:\n",
    "  * Write a function is_even that takes an integer as input and returns True if the number is even and False if the number is odd.\n",
    "2. Define a Function with Conditionals:\n",
    "  * Write a function grade_converter that takes a numerical grade (0-100) as input and returns a letter grade based on the following criteria:\n",
    "    * 90-100: 'A'\n",
    "    * 80-89: 'B'\n",
    "    * 70-79: 'C'\n",
    "    * 60-69: 'D'\n",
    "    * 0-59: 'F'\n",
    "3. Test the Functions:\n",
    "  * Call the is_even function with different values and print the results.\n",
    "  * Call the grade_converter function with different values and print the results."
   ]
  },
  {
   "cell_type": "code",
   "execution_count": 6,
   "metadata": {
    "id": "qHFy4503G5uo"
   },
   "outputs": [
    {
     "name": "stdout",
     "output_type": "stream",
     "text": [
      "Testing is_even function\n",
      "All is_even test cases passed\n",
      "Testing grade_converter function\n",
      "All grade_converter test cases passed\n",
      "is_even(10): True\n",
      "is_even(7): False\n",
      "grade_converter(95): A\n",
      "grade_converter(55): F\n"
     ]
    }
   ],
   "source": [
    "# Step 1: Define a Function\n",
    "def is_even(number):\n",
    "    if number % 2 == 0: return True\n",
    "    else: return False\n",
    "\n",
    "# Step 2: Define a Function with Conditionals\n",
    "def grade_converter(grade):\n",
    "    if 90 <= grade <= 100:\n",
    "        return 'A'\n",
    "    elif 80 <= grade < 90:\n",
    "        return 'B'\n",
    "    elif 70 <= grade < 80:\n",
    "        return 'C'\n",
    "    elif 60 <= grade < 70:\n",
    "        return 'D'\n",
    "    elif 0 <= grade < 60:\n",
    "        return 'F'\n",
    "    else:\n",
    "        return 'Invalid grade'\n",
    "\n",
    "# Step 3: Test the Functions\n",
    "# Testing is_even function\n",
    "print(\"Testing is_even function\")\n",
    "assert is_even(10) == True, \"Test case 1 failed\"\n",
    "assert is_even(7) == False, \"Test case 2 failed\"\n",
    "assert is_even(0) == True, \"Test case 3 failed\"\n",
    "assert is_even(-2) == True, \"Test case 4 failed\"\n",
    "print(\"All is_even test cases passed\")\n",
    "\n",
    "# Testing grade_converter function\n",
    "print(\"Testing grade_converter function\")\n",
    "assert grade_converter(95) == 'A', \"Test case 1 failed\"\n",
    "assert grade_converter(85) == 'B', \"Test case 2 failed\"\n",
    "assert grade_converter(75) == 'C', \"Test case 3 failed\"\n",
    "assert grade_converter(65) == 'D', \"Test case 4 failed\"\n",
    "assert grade_converter(55) == 'F', \"Test case 5 failed\"\n",
    "assert grade_converter(105) == 'Invalid grade', \"Test case 6 failed\"\n",
    "assert grade_converter(-5) == 'Invalid grade', \"Test case 7 failed\"\n",
    "print(\"All grade_converter test cases passed\")\n",
    "\n",
    "# Print results for visual confirmation\n",
    "print(\"is_even(10):\", is_even(10))  # Should return True\n",
    "print(\"is_even(7):\", is_even(7))    # Should return False\n",
    "print(\"grade_converter(95):\", grade_converter(95))  # Should return 'A'\n",
    "print(\"grade_converter(55):\", grade_converter(55))  # Should return 'F'"
   ]
  },
  {
   "cell_type": "code",
   "execution_count": 3,
   "metadata": {
    "id": "-W4wvpUmHcm7"
   },
   "outputs": [],
   "source": []
  },
  {
   "cell_type": "markdown",
   "metadata": {
    "id": "L9Cg6rfaHxda"
   },
   "source": [
    "# Instructions:\n",
    "1. Write to a File:\n",
    "\n",
    "  * Create a function write_to_file that takes a filename and a list of strings as arguments and writes each string to a new line in the file.\n",
    "\n",
    "2. Read from a File:\n",
    "\n",
    "  * Create a function read_from_file that takes a filename as an argument, reads the file, and returns the content as a list of strings.\n",
    "\n",
    "3. Count Words in a File:\n",
    "\n",
    "  * Create a function count_words_in_file that takes a filename as an argument, reads the file, and returns the total number of words in the file.\n",
    "\n",
    "4. Test the Functions:\n",
    "\n",
    "* Use the provided list of strings, write them to a file, read the content back, and print the total word count."
   ]
  },
  {
   "cell_type": "code",
   "execution_count": 8,
   "metadata": {
    "id": "6oaSjeQkHinR"
   },
   "outputs": [
    {
     "name": "stdout",
     "output_type": "stream",
     "text": [
      "Read lines: ['Hello world\\n', 'This is a test file\\n', 'It contains multiple lines of text\\n']\n",
      "Total word count: 13\n"
     ]
    },
    {
     "ename": "AssertionError",
     "evalue": "Read lines do not match written lines",
     "output_type": "error",
     "traceback": [
      "\u001b[31m---------------------------------------------------------------------------\u001b[39m",
      "\u001b[31mAssertionError\u001b[39m                            Traceback (most recent call last)",
      "\u001b[36mCell\u001b[39m\u001b[36m \u001b[39m\u001b[32mIn[8]\u001b[39m\u001b[32m, line 36\u001b[39m\n\u001b[32m     33\u001b[39m \u001b[38;5;28mprint\u001b[39m(\u001b[33m\"\u001b[39m\u001b[33mTotal word count:\u001b[39m\u001b[33m\"\u001b[39m, word_count)\n\u001b[32m     35\u001b[39m \u001b[38;5;66;03m# Validation using assert statements\u001b[39;00m\n\u001b[32m---> \u001b[39m\u001b[32m36\u001b[39m \u001b[38;5;28;01massert\u001b[39;00m read_lines == test_lines, \u001b[33m\"\u001b[39m\u001b[33mRead lines do not match written lines\u001b[39m\u001b[33m\"\u001b[39m\n\u001b[32m     37\u001b[39m \u001b[38;5;28;01massert\u001b[39;00m word_count == \u001b[32m13\u001b[39m, \u001b[33m\"\u001b[39m\u001b[33mWord count does not match expected value\u001b[39m\u001b[33m\"\u001b[39m\n\u001b[32m     39\u001b[39m \u001b[38;5;28mprint\u001b[39m(\u001b[33m\"\u001b[39m\u001b[33mAll test cases passed\u001b[39m\u001b[33m\"\u001b[39m)\n",
      "\u001b[31mAssertionError\u001b[39m: Read lines do not match written lines"
     ]
    }
   ],
   "source": [
    "# Step 1: Write to a File\n",
    "def write_to_file(filename, lines):\n",
    "    with open(filename, 'w') as file:\n",
    "            for line in lines:\n",
    "                file.write(line + '\\n')\n",
    "    \n",
    "\n",
    "\n",
    "# Step 2: Read from a File\n",
    "def read_from_file(filename):\n",
    "    with open(filename, 'r') as file:\n",
    "            return file.readlines()\n",
    "    \n",
    "\n",
    "\n",
    "# Step 3: Count Words in a File\n",
    "def count_words_in_file(filename):\n",
    "    with open(filename, 'r') as file:\n",
    "            content = file.read()\n",
    "            words = content.split()\n",
    "            return len(words)\n",
    "\n",
    "\n",
    "# Test the Functions\n",
    "test_filename = \"test_file.txt\"\n",
    "test_lines = [\"Hello world\", \"This is a test file\", \"It contains multiple lines of text\"]\n",
    "\n",
    "write_to_file(test_filename, test_lines)\n",
    "read_lines = read_from_file(test_filename)\n",
    "print(\"Read lines:\", read_lines)\n",
    "\n",
    "word_count = count_words_in_file(test_filename)\n",
    "print(\"Total word count:\", word_count)\n",
    "\n",
    "# Validation using assert statements\n",
    "assert read_lines == test_lines, \"Read lines do not match written lines\"\n",
    "assert word_count == 13, \"Word count does not match expected value\"\n",
    "\n",
    "print(\"All test cases passed\")\n"
   ]
  },
  {
   "cell_type": "code",
   "execution_count": 9,
   "metadata": {
    "id": "krcH2VgsH-ug"
   },
   "outputs": [],
   "source": []
  },
  {
   "cell_type": "markdown",
   "metadata": {
    "id": "Id0u-OFOItRN"
   },
   "source": [
    "# Instructions:\n",
    "1. Create a Dictionary:\n",
    "\n",
    "  * Create a dictionary student_grades where the keys are student names and the values are their corresponding grades.\n",
    "\n",
    "2. Add and Update Entries:\n",
    "\n",
    "  * Add a new student and their grade to the dictionary.\n",
    "Update the grade of an existing student in the dictionary.\n",
    "\n",
    "3. Calculate Average Grade:\n",
    "\n",
    "  * Create a function calculate_average_grade that takes the student_grades dictionary as an argument and returns the average grade.\n",
    "\n",
    "4. Find the Highest Grade:\n",
    "\n",
    "* Create a function find_highest_grade that takes the student_grades dictionary as an argument and returns the name of the student with the highest grade.\n",
    "\n",
    "5. Test the Functions:\n",
    "\n",
    "  * Test the functions and print the results.\n"
   ]
  },
  {
   "cell_type": "code",
   "execution_count": 5,
   "metadata": {
    "id": "UA4OPYZaIoAP"
   },
   "outputs": [
    {
     "name": "stdout",
     "output_type": "stream",
     "text": [
      "Average grade: 87.6\n",
      "Top student: Charlie\n",
      "All test cases passed\n"
     ]
    }
   ],
   "source": [
    "# Step 1: Create a Dictionary\n",
    "student_grades = {\n",
    "    \"Alice\": 85,\n",
    "    \"Bob\": 78,\n",
    "    \"Charlie\": 92,\n",
    "    \"Diana\": 88\n",
    "}\n",
    "\n",
    "# Step 2: Add and Update Entries\n",
    "# Add a new student\n",
    "# Update an existing student's grade\n",
    "\n",
    "# Step 3: Calculate Average Grade\n",
    "def calculate_average_grade(grades):\n",
    "    # Your code here\n",
    "    pass\n",
    "\n",
    "# Step 4: Find the Highest Grade\n",
    "def find_highest_grade(grades):\n",
    "    # Your code here\n",
    "    pass\n",
    "\n",
    "# Test the Functions\n",
    "# Adding a new student\n",
    "student_grades[\"Eve\"] = 91\n",
    "# Updating an existing student's grade\n",
    "student_grades[\"Bob\"] = 82\n",
    "\n",
    "# Calculating the average grade\n",
    "average_grade = calculate_average_grade(student_grades)\n",
    "print(\"Average grade:\", average_grade)\n",
    "\n",
    "# Finding the highest grade\n",
    "top_student = find_highest_grade(student_grades)\n",
    "print(\"Top student:\", top_student)\n",
    "\n",
    "# Validation using assert statements\n",
    "assert average_grade == 87.6, \"Average grade calculation is incorrect\"\n",
    "assert top_student == \"Charlie\", \"Highest grade calculation is incorrect\"\n",
    "\n",
    "print(\"All test cases passed\")\n"
   ]
  },
  {
   "cell_type": "code",
   "execution_count": null,
   "metadata": {},
   "outputs": [],
   "source": []
  },
  {
   "cell_type": "code",
   "execution_count": null,
   "metadata": {},
   "outputs": [],
   "source": []
  },
  {
   "cell_type": "code",
   "execution_count": null,
   "metadata": {},
   "outputs": [],
   "source": []
  }
 ],
 "metadata": {
  "colab": {
   "provenance": []
  },
  "kernelspec": {
   "display_name": "dev",
   "language": "python",
   "name": "python3"
  },
  "language_info": {
   "codemirror_mode": {
    "name": "ipython",
    "version": 3
   },
   "file_extension": ".py",
   "mimetype": "text/x-python",
   "name": "python",
   "nbconvert_exporter": "python",
   "pygments_lexer": "ipython3",
   "version": "3.13.5"
  }
 },
 "nbformat": 4,
 "nbformat_minor": 4
}
